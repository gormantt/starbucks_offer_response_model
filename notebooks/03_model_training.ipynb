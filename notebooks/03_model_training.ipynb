{
 "cells": [
  {
   "cell_type": "markdown",
   "id": "5a1f824d-7c65-42fc-a2b4-2742fbb9d7ef",
   "metadata": {},
   "source": [
    "I'm following the AWS example from this [site](https://docs.aws.amazon.com/sagemaker/latest/dg/lightgbm.html) and this [notebook](https://github.com/aws/amazon-sagemaker-examples/blob/main/introduction_to_amazon_algorithms/lightgbm_catboost_tabular/Amazon_Tabular_Classification_LightGBM_CatBoost.ipynb)"
   ]
  },
  {
   "cell_type": "markdown",
   "id": "cd4eb64a-37ce-46cc-a179-2b58341bb4df",
   "metadata": {
    "tags": []
   },
   "source": [
    "# Instals and Imports"
   ]
  },
  {
   "cell_type": "code",
   "execution_count": 1,
   "id": "3971802a-88f0-4af3-b42c-eddbb17a2ff7",
   "metadata": {
    "tags": []
   },
   "outputs": [
    {
     "name": "stdout",
     "output_type": "stream",
     "text": [
      "Requirement already satisfied: lightgbm in /opt/conda/lib/python3.7/site-packages (3.3.5)\n",
      "Requirement already satisfied: scipy in /opt/conda/lib/python3.7/site-packages (from lightgbm) (1.4.1)\n",
      "Requirement already satisfied: wheel in /opt/conda/lib/python3.7/site-packages (from lightgbm) (0.40.0)\n",
      "Requirement already satisfied: numpy in /opt/conda/lib/python3.7/site-packages (from lightgbm) (1.21.6)\n",
      "Requirement already satisfied: scikit-learn!=0.22.0 in /opt/conda/lib/python3.7/site-packages (from lightgbm) (0.22.1)\n",
      "Requirement already satisfied: joblib>=0.11 in /opt/conda/lib/python3.7/site-packages (from scikit-learn!=0.22.0->lightgbm) (1.2.0)\n",
      "\u001b[33mWARNING: Running pip as the 'root' user can result in broken permissions and conflicting behaviour with the system package manager. It is recommended to use a virtual environment instead: https://pip.pypa.io/warnings/venv\u001b[0m\u001b[33m\n",
      "\u001b[0m"
     ]
    }
   ],
   "source": [
    "!pip install lightgbm"
   ]
  },
  {
   "cell_type": "code",
   "execution_count": 49,
   "id": "357dd121-bf33-4ba5-bdb8-aa5f15cea79a",
   "metadata": {
    "tags": []
   },
   "outputs": [],
   "source": [
    "import boto3\n",
    "import sagemaker\n",
    "from sagemaker import image_uris, model_uris, script_uris\n",
    "from sagemaker import get_execution_role\n",
    "from sagemaker.tuner import (\n",
    "    IntegerParameter,\n",
    "    CategoricalParameter,\n",
    "    ContinuousParameter,\n",
    "    HyperparameterTuner,\n",
    ")\n",
    "from sagemaker.estimator import Estimator\n",
    "from sagemaker.utils import name_from_base\n",
    "from datetime import datetime\n",
    "from sagemaker import hyperparameters\n",
    "aws_role = get_execution_role()\n",
    "aws_region = boto3.Session().region_name\n",
    "sess = sagemaker.Session()\n",
    "import joblib\n",
    "import tarfile\n",
    "import lightgbm\n",
    "import pandas as pd\n",
    "from sklearn.metrics import roc_auc_score\n",
    "from sklearn.metrics import accuracy_score\n",
    "from sklearn.metrics import f1_score\n",
    "from sklearn.metrics import confusion_matrix\n",
    "import matplotlib.pyplot as plt\n",
    "import numpy as np"
   ]
  },
  {
   "cell_type": "markdown",
   "id": "2e5f8c01-d273-42a7-abdf-6216a4797497",
   "metadata": {},
   "source": [
    "# LightGBM Training"
   ]
  },
  {
   "cell_type": "code",
   "execution_count": 4,
   "id": "3e1b5567-4b7b-4424-a523-a92a0e96ad09",
   "metadata": {
    "tags": []
   },
   "outputs": [],
   "source": [
    "train_model_id, train_model_version, train_scope = \"lightgbm-classification-model\", \"*\", \"training\"\n",
    "training_instance_type = \"ml.m5.large\""
   ]
  },
  {
   "cell_type": "code",
   "execution_count": 5,
   "id": "ee6a638b-1a48-47b7-b5a9-9835adf34910",
   "metadata": {
    "tags": []
   },
   "outputs": [],
   "source": [
    "#Retrieve the image\n",
    "train_image_uri = image_uris.retrieve(\n",
    "    region=None,\n",
    "    framework=None,\n",
    "    model_id=train_model_id,\n",
    "    model_version=train_model_version,\n",
    "    image_scope=train_scope,\n",
    "    instance_type=training_instance_type\n",
    ")\n",
    "\n",
    "# Retrieve the training script\n",
    "train_source_uri = script_uris.retrieve(\n",
    "    model_id=train_model_id, model_version=train_model_version, script_scope=train_scope\n",
    ")\n",
    "# Retrieve the pre-trained model tarball to further fine-tune\n",
    "train_model_uri = model_uris.retrieve(\n",
    "    model_id=train_model_id, model_version=train_model_version, model_scope=train_scope\n",
    ")"
   ]
  },
  {
   "cell_type": "code",
   "execution_count": 6,
   "id": "9b67bf87-7085-48ae-9f0e-ac76805ffb74",
   "metadata": {},
   "outputs": [],
   "source": [
    "# Sample training data is available in this bucket\n",
    "training_data_bucket = \"starbucks-project-ttg\"\n",
    "training_data_prefix = \"data\"\n",
    "\n",
    "training_dataset_s3_path = f\"s3://{training_data_bucket}/{training_data_prefix}/train.csv\" \n",
    "validation_dataset_s3_path = f\"s3://{training_data_bucket}/{training_data_prefix}/val.csv\" \n",
    "output_bucket = \"starbucks-project-ttg\"\n",
    "output_prefix = \"training_results/lightgbm\"\n",
    "s3_output_location = f\"s3://{output_bucket}/{output_prefix}/output\""
   ]
  },
  {
   "cell_type": "markdown",
   "id": "d7e244f8-b222-4ba3-a3af-169f6b0013ff",
   "metadata": {},
   "source": [
    "## Training without Tuning"
   ]
  },
  {
   "cell_type": "code",
   "execution_count": 7,
   "id": "11da31d2-4972-45ef-9c8a-521525c6944f",
   "metadata": {
    "tags": []
   },
   "outputs": [
    {
     "name": "stdout",
     "output_type": "stream",
     "text": [
      "{'num_boost_round': '500', 'early_stopping_rounds': '30', 'metric': 'binary_logloss', 'learning_rate': '0.009', 'num_leaves': '67', 'feature_fraction': '0.74', 'bagging_fraction': '0.53', 'bagging_freq': '5', 'max_depth': '11', 'min_data_in_leaf': '26', 'max_delta_step': '0.0', 'lambda_l1': '0.0', 'lambda_l2': '0.0', 'boosting': 'gbdt', 'min_gain_to_split': '0.0', 'scale_pos_weight': '1.0', 'tree_learner': 'serial', 'feature_fraction_bynode': '1.0', 'is_unbalance': 'False', 'max_bin': '255', 'num_threads': '0', 'verbosity': '1', 'use_dask': 'False'}\n"
     ]
    }
   ],
   "source": [
    "# Retrieve the default hyperparameters for training the model\n",
    "hyperparameters = sagemaker.hyperparameters.retrieve_default(\n",
    "    model_id=train_model_id, model_version=train_model_version\n",
    ")\n",
    "\n",
    "hyperparameters['metric'] = 'binary_logloss'\n",
    "hyperparameters['num_boost_round'] = \"500\"\n",
    "print(hyperparameters)"
   ]
  },
  {
   "cell_type": "code",
   "execution_count": 8,
   "id": "85a3086b-e1a7-4755-b1e0-d97471040137",
   "metadata": {
    "tags": []
   },
   "outputs": [
    {
     "data": {
      "text/plain": [
       "'built-in-algo-lightgbm-classification-m-2023-03-29-02-08-09-247'"
      ]
     },
     "execution_count": 8,
     "metadata": {},
     "output_type": "execute_result"
    }
   ],
   "source": [
    "time_stamp = datetime.strftime(datetime.now(), '%Y-%m-%d-%H-%M')\n",
    "training_job_name = name_from_base(f\"built-in-algo-{train_model_id}-hptuning-training-{time_stamp}\")\n",
    "training_job_name"
   ]
  },
  {
   "cell_type": "code",
   "execution_count": 9,
   "id": "b7f5deca-9ae6-4635-9250-40b3b723be46",
   "metadata": {
    "tags": []
   },
   "outputs": [],
   "source": [
    "# Create SageMaker Estimator instance\n",
    "tabular_estimator = Estimator(\n",
    "    role=aws_role,\n",
    "    image_uri=train_image_uri,\n",
    "    source_dir=train_source_uri,\n",
    "    model_uri=train_model_uri,\n",
    "    entry_point=\"transfer_learning.py\",\n",
    "    instance_count=1, # for distributed training, specify an instance_count greater than 1\n",
    "    instance_type=training_instance_type,\n",
    "    max_run=360000,\n",
    "    hyperparameters=hyperparameters,\n",
    "    output_path=s3_output_location\n",
    ")"
   ]
  },
  {
   "cell_type": "code",
   "execution_count": 10,
   "id": "c40b4815-aea5-4b87-9717-1885aaf83c0f",
   "metadata": {
    "collapsed": true,
    "jupyter": {
     "outputs_hidden": true
    },
    "tags": []
   },
   "outputs": [
    {
     "name": "stderr",
     "output_type": "stream",
     "text": [
      "INFO:sagemaker:Creating training-job with name: built-in-algo-lightgbm-classification-m-2023-03-29-02-08-09-247\n"
     ]
    },
    {
     "name": "stdout",
     "output_type": "stream",
     "text": [
      "2023-03-29 02:08:16 Starting - Starting the training job...\n",
      "2023-03-29 02:08:31 Starting - Preparing the instances for training...\n",
      "2023-03-29 02:09:22 Downloading - Downloading input data...\n",
      "2023-03-29 02:09:52 Training - Downloading the training image......\n",
      "2023-03-29 02:10:38 Training - Training image download completed. Training in progress.\u001b[34mbash: cannot set terminal process group (-1): Inappropriate ioctl for device\u001b[0m\n",
      "\u001b[34mbash: no job control in this shell\u001b[0m\n",
      "\u001b[34m2023-03-29 02:10:42,503 sagemaker-training-toolkit INFO     Imported framework sagemaker_pytorch_container.training\u001b[0m\n",
      "\u001b[34m2023-03-29 02:10:42,505 sagemaker-training-toolkit INFO     No GPUs detected (normal if no gpus installed)\u001b[0m\n",
      "\u001b[34m2023-03-29 02:10:42,514 sagemaker_pytorch_container.training INFO     Block until all host DNS lookups succeed.\u001b[0m\n",
      "\u001b[34m2023-03-29 02:10:42,516 sagemaker_pytorch_container.training INFO     Invoking user training script.\u001b[0m\n",
      "\u001b[34m2023-03-29 02:10:42,888 sagemaker-training-toolkit INFO     Installing dependencies from requirements.txt:\u001b[0m\n",
      "\u001b[34m/opt/conda/bin/python3.8 -m pip install -r requirements.txt\u001b[0m\n",
      "\u001b[34mProcessing ./lib/dask/dask-2022.12.1-py3-none-any.whl\u001b[0m\n",
      "\u001b[34mProcessing ./lib/distributed/distributed-2022.12.1-py3-none-any.whl\u001b[0m\n",
      "\u001b[34mProcessing ./lib/graphviz/graphviz-0.17-py3-none-any.whl\u001b[0m\n",
      "\u001b[34mProcessing ./lib/HeapDict/HeapDict-1.0.1-py3-none-any.whl\u001b[0m\n",
      "\u001b[34mProcessing ./lib/lightgbm/lightgbm-3.3.3-py3-none-manylinux1_x86_64.whl\u001b[0m\n",
      "\u001b[34mProcessing ./lib/locket/locket-1.0.0-py2.py3-none-any.whl\u001b[0m\n",
      "\u001b[34mProcessing ./lib/msgpack/msgpack-1.0.4-cp38-cp38-manylinux_2_17_x86_64.manylinux2014_x86_64.whl\u001b[0m\n",
      "\u001b[34mProcessing ./lib/partd/partd-1.3.0-py3-none-any.whl\u001b[0m\n",
      "\u001b[34mProcessing ./lib/sortedcontainers/sortedcontainers-2.4.0-py2.py3-none-any.whl\u001b[0m\n",
      "\u001b[34mProcessing ./lib/tblib/tblib-1.7.0-py2.py3-none-any.whl\u001b[0m\n",
      "\u001b[34mProcessing ./lib/toolz/toolz-0.12.0-py3-none-any.whl\u001b[0m\n",
      "\u001b[34mProcessing ./lib/zict/zict-2.2.0-py2.py3-none-any.whl\u001b[0m\n",
      "\u001b[34mProcessing ./lib/sagemaker_jumpstart_tabular_script_utilities/sagemaker_jumpstart_tabular_script_utilities-1.0.0-py2.py3-none-any.whl\u001b[0m\n",
      "\u001b[34mRequirement already satisfied: fsspec>=0.6.0 in /opt/conda/lib/python3.8/site-packages (from dask==2022.12.1->-r requirements.txt (line 1)) (2021.10.0)\u001b[0m\n",
      "\u001b[34mRequirement already satisfied: cloudpickle>=1.1.1 in /opt/conda/lib/python3.8/site-packages (from dask==2022.12.1->-r requirements.txt (line 1)) (2.0.0)\u001b[0m\n",
      "\u001b[34mRequirement already satisfied: pyyaml>=5.3.1 in /opt/conda/lib/python3.8/site-packages (from dask==2022.12.1->-r requirements.txt (line 1)) (5.4.1)\u001b[0m\n",
      "\u001b[34mRequirement already satisfied: click>=7.0 in /opt/conda/lib/python3.8/site-packages (from dask==2022.12.1->-r requirements.txt (line 1)) (8.0.3)\u001b[0m\n",
      "\u001b[34mRequirement already satisfied: packaging>=20.0 in /opt/conda/lib/python3.8/site-packages (from dask==2022.12.1->-r requirements.txt (line 1)) (21.0)\u001b[0m\n",
      "\u001b[34mRequirement already satisfied: tornado>=6.0.3 in /opt/conda/lib/python3.8/site-packages (from distributed==2022.12.1->-r requirements.txt (line 2)) (6.1)\u001b[0m\n",
      "\u001b[34mRequirement already satisfied: psutil>=5.0 in /opt/conda/lib/python3.8/site-packages (from distributed==2022.12.1->-r requirements.txt (line 2)) (5.6.7)\u001b[0m\n",
      "\u001b[34mRequirement already satisfied: urllib3 in /opt/conda/lib/python3.8/site-packages (from distributed==2022.12.1->-r requirements.txt (line 2)) (1.26.7)\u001b[0m\n",
      "\u001b[34mRequirement already satisfied: jinja2 in /opt/conda/lib/python3.8/site-packages (from distributed==2022.12.1->-r requirements.txt (line 2)) (3.0.2)\u001b[0m\n",
      "\u001b[34mRequirement already satisfied: scipy in /opt/conda/lib/python3.8/site-packages (from lightgbm==3.3.3->-r requirements.txt (line 5)) (1.7.1)\u001b[0m\n",
      "\u001b[34mRequirement already satisfied: scikit-learn!=0.22.0 in /opt/conda/lib/python3.8/site-packages (from lightgbm==3.3.3->-r requirements.txt (line 5)) (0.24.2)\u001b[0m\n",
      "\u001b[34mRequirement already satisfied: numpy in /opt/conda/lib/python3.8/site-packages (from lightgbm==3.3.3->-r requirements.txt (line 5)) (1.19.1)\u001b[0m\n",
      "\u001b[34mRequirement already satisfied: wheel in /opt/conda/lib/python3.8/site-packages (from lightgbm==3.3.3->-r requirements.txt (line 5)) (0.37.0)\u001b[0m\n",
      "\u001b[34mRequirement already satisfied: pyparsing>=2.0.2 in /opt/conda/lib/python3.8/site-packages (from packaging>=20.0->dask==2022.12.1->-r requirements.txt (line 1)) (2.4.7)\u001b[0m\n",
      "\u001b[34mRequirement already satisfied: joblib>=0.11 in /opt/conda/lib/python3.8/site-packages (from scikit-learn!=0.22.0->lightgbm==3.3.3->-r requirements.txt (line 5)) (1.0.1)\u001b[0m\n",
      "\u001b[34mRequirement already satisfied: threadpoolctl>=2.0.0 in /opt/conda/lib/python3.8/site-packages (from scikit-learn!=0.22.0->lightgbm==3.3.3->-r requirements.txt (line 5)) (2.2.0)\u001b[0m\n",
      "\u001b[34mRequirement already satisfied: MarkupSafe>=2.0 in /opt/conda/lib/python3.8/site-packages (from jinja2->distributed==2022.12.1->-r requirements.txt (line 2)) (2.0.1)\u001b[0m\n",
      "\u001b[34mInstalling collected packages: toolz, locket, partd, HeapDict, zict, tblib, sortedcontainers, msgpack, dask, sagemaker-jumpstart-tabular-script-utilities, lightgbm, graphviz, distributed\u001b[0m\n",
      "\u001b[34mSuccessfully installed HeapDict-1.0.1 dask-2022.12.1 distributed-2022.12.1 graphviz-0.17 lightgbm-3.3.3 locket-1.0.0 msgpack-1.0.4 partd-1.3.0 sagemaker-jumpstart-tabular-script-utilities-1.0.0 sortedcontainers-2.4.0 tblib-1.7.0 toolz-0.12.0 zict-2.2.0\u001b[0m\n",
      "\u001b[34mWARNING: Running pip as the 'root' user can result in broken permissions and conflicting behaviour with the system package manager. It is recommended to use a virtual environment instead: https://pip.pypa.io/warnings/venv\u001b[0m\n",
      "\u001b[34m2023-03-29 02:10:45,715 sagemaker-training-toolkit INFO     No GPUs detected (normal if no gpus installed)\u001b[0m\n",
      "\u001b[34m2023-03-29 02:10:45,728 sagemaker-training-toolkit INFO     No GPUs detected (normal if no gpus installed)\u001b[0m\n",
      "\u001b[34m2023-03-29 02:10:45,737 sagemaker-training-toolkit INFO     No GPUs detected (normal if no gpus installed)\u001b[0m\n",
      "\u001b[34m2023-03-29 02:10:45,745 sagemaker-training-toolkit INFO     Invoking user script\u001b[0m\n",
      "\u001b[34mTraining Env:\u001b[0m\n",
      "\u001b[34m{\n",
      "    \"additional_framework_parameters\": {},\n",
      "    \"channel_input_dirs\": {\n",
      "        \"model\": \"/opt/ml/input/data/model\",\n",
      "        \"train\": \"/opt/ml/input/data/train\",\n",
      "        \"validation\": \"/opt/ml/input/data/validation\"\n",
      "    },\n",
      "    \"current_host\": \"algo-1\",\n",
      "    \"framework_module\": \"sagemaker_pytorch_container.training:main\",\n",
      "    \"hosts\": [\n",
      "        \"algo-1\"\n",
      "    ],\n",
      "    \"hyperparameters\": {\n",
      "        \"bagging_fraction\": \"0.53\",\n",
      "        \"bagging_freq\": \"5\",\n",
      "        \"boosting\": \"gbdt\",\n",
      "        \"early_stopping_rounds\": \"30\",\n",
      "        \"feature_fraction\": \"0.74\",\n",
      "        \"feature_fraction_bynode\": \"1.0\",\n",
      "        \"is_unbalance\": \"False\",\n",
      "        \"lambda_l1\": \"0.0\",\n",
      "        \"lambda_l2\": \"0.0\",\n",
      "        \"learning_rate\": \"0.009\",\n",
      "        \"max_bin\": \"255\",\n",
      "        \"max_delta_step\": \"0.0\",\n",
      "        \"max_depth\": \"11\",\n",
      "        \"metric\": \"binary_logloss\",\n",
      "        \"min_data_in_leaf\": \"26\",\n",
      "        \"min_gain_to_split\": \"0.0\",\n",
      "        \"num_boost_round\": \"500\",\n",
      "        \"num_leaves\": \"67\",\n",
      "        \"num_threads\": \"0\",\n",
      "        \"scale_pos_weight\": \"1.0\",\n",
      "        \"tree_learner\": \"serial\",\n",
      "        \"use_dask\": \"False\",\n",
      "        \"verbosity\": \"1\"\n",
      "    },\n",
      "    \"input_config_dir\": \"/opt/ml/input/config\",\n",
      "    \"input_data_config\": {\n",
      "        \"model\": {\n",
      "            \"ContentType\": \"application/x-sagemaker-model\",\n",
      "            \"TrainingInputMode\": \"File\",\n",
      "            \"S3DistributionType\": \"FullyReplicated\",\n",
      "            \"RecordWrapperType\": \"None\"\n",
      "        },\n",
      "        \"train\": {\n",
      "            \"TrainingInputMode\": \"File\",\n",
      "            \"S3DistributionType\": \"FullyReplicated\",\n",
      "            \"RecordWrapperType\": \"None\"\n",
      "        },\n",
      "        \"validation\": {\n",
      "            \"TrainingInputMode\": \"File\",\n",
      "            \"S3DistributionType\": \"FullyReplicated\",\n",
      "            \"RecordWrapperType\": \"None\"\n",
      "        }\n",
      "    },\n",
      "    \"input_dir\": \"/opt/ml/input\",\n",
      "    \"is_master\": true,\n",
      "    \"job_name\": \"built-in-algo-lightgbm-classification-m-2023-03-29-02-08-09-247\",\n",
      "    \"log_level\": 20,\n",
      "    \"master_hostname\": \"algo-1\",\n",
      "    \"model_dir\": \"/opt/ml/model\",\n",
      "    \"module_dir\": \"s3://jumpstart-cache-prod-us-east-1/source-directory-tarballs/lightgbm/transfer_learning/classification/v2.1.1/sourcedir.tar.gz\",\n",
      "    \"module_name\": \"transfer_learning\",\n",
      "    \"network_interface_name\": \"eth0\",\n",
      "    \"num_cpus\": 2,\n",
      "    \"num_gpus\": 0,\n",
      "    \"output_data_dir\": \"/opt/ml/output/data\",\n",
      "    \"output_dir\": \"/opt/ml/output\",\n",
      "    \"output_intermediate_dir\": \"/opt/ml/output/intermediate\",\n",
      "    \"resource_config\": {\n",
      "        \"current_host\": \"algo-1\",\n",
      "        \"current_instance_type\": \"ml.m5.large\",\n",
      "        \"current_group_name\": \"homogeneousCluster\",\n",
      "        \"hosts\": [\n",
      "            \"algo-1\"\n",
      "        ],\n",
      "        \"instance_groups\": [\n",
      "            {\n",
      "                \"instance_group_name\": \"homogeneousCluster\",\n",
      "                \"instance_type\": \"ml.m5.large\",\n",
      "                \"hosts\": [\n",
      "                    \"algo-1\"\n",
      "                ]\n",
      "            }\n",
      "        ],\n",
      "        \"network_interface_name\": \"eth0\"\n",
      "    },\n",
      "    \"user_entry_point\": \"transfer_learning.py\"\u001b[0m\n",
      "\u001b[34m}\u001b[0m\n",
      "\u001b[34mEnvironment variables:\u001b[0m\n",
      "\u001b[34mSM_HOSTS=[\"algo-1\"]\u001b[0m\n",
      "\u001b[34mSM_NETWORK_INTERFACE_NAME=eth0\u001b[0m\n",
      "\u001b[34mSM_HPS={\"bagging_fraction\":\"0.53\",\"bagging_freq\":\"5\",\"boosting\":\"gbdt\",\"early_stopping_rounds\":\"30\",\"feature_fraction\":\"0.74\",\"feature_fraction_bynode\":\"1.0\",\"is_unbalance\":\"False\",\"lambda_l1\":\"0.0\",\"lambda_l2\":\"0.0\",\"learning_rate\":\"0.009\",\"max_bin\":\"255\",\"max_delta_step\":\"0.0\",\"max_depth\":\"11\",\"metric\":\"binary_logloss\",\"min_data_in_leaf\":\"26\",\"min_gain_to_split\":\"0.0\",\"num_boost_round\":\"500\",\"num_leaves\":\"67\",\"num_threads\":\"0\",\"scale_pos_weight\":\"1.0\",\"tree_learner\":\"serial\",\"use_dask\":\"False\",\"verbosity\":\"1\"}\u001b[0m\n",
      "\u001b[34mSM_USER_ENTRY_POINT=transfer_learning.py\u001b[0m\n",
      "\u001b[34mSM_FRAMEWORK_PARAMS={}\u001b[0m\n",
      "\u001b[34mSM_RESOURCE_CONFIG={\"current_group_name\":\"homogeneousCluster\",\"current_host\":\"algo-1\",\"current_instance_type\":\"ml.m5.large\",\"hosts\":[\"algo-1\"],\"instance_groups\":[{\"hosts\":[\"algo-1\"],\"instance_group_name\":\"homogeneousCluster\",\"instance_type\":\"ml.m5.large\"}],\"network_interface_name\":\"eth0\"}\u001b[0m\n",
      "\u001b[34mSM_INPUT_DATA_CONFIG={\"model\":{\"ContentType\":\"application/x-sagemaker-model\",\"RecordWrapperType\":\"None\",\"S3DistributionType\":\"FullyReplicated\",\"TrainingInputMode\":\"File\"},\"train\":{\"RecordWrapperType\":\"None\",\"S3DistributionType\":\"FullyReplicated\",\"TrainingInputMode\":\"File\"},\"validation\":{\"RecordWrapperType\":\"None\",\"S3DistributionType\":\"FullyReplicated\",\"TrainingInputMode\":\"File\"}}\u001b[0m\n",
      "\u001b[34mSM_OUTPUT_DATA_DIR=/opt/ml/output/data\u001b[0m\n",
      "\u001b[34mSM_CHANNELS=[\"model\",\"train\",\"validation\"]\u001b[0m\n",
      "\u001b[34mSM_CURRENT_HOST=algo-1\u001b[0m\n",
      "\u001b[34mSM_MODULE_NAME=transfer_learning\u001b[0m\n",
      "\u001b[34mSM_LOG_LEVEL=20\u001b[0m\n",
      "\u001b[34mSM_FRAMEWORK_MODULE=sagemaker_pytorch_container.training:main\u001b[0m\n",
      "\u001b[34mSM_INPUT_DIR=/opt/ml/input\u001b[0m\n",
      "\u001b[34mSM_INPUT_CONFIG_DIR=/opt/ml/input/config\u001b[0m\n",
      "\u001b[34mSM_OUTPUT_DIR=/opt/ml/output\u001b[0m\n",
      "\u001b[34mSM_NUM_CPUS=2\u001b[0m\n",
      "\u001b[34mSM_NUM_GPUS=0\u001b[0m\n",
      "\u001b[34mSM_MODEL_DIR=/opt/ml/model\u001b[0m\n",
      "\u001b[34mSM_MODULE_DIR=s3://jumpstart-cache-prod-us-east-1/source-directory-tarballs/lightgbm/transfer_learning/classification/v2.1.1/sourcedir.tar.gz\u001b[0m\n",
      "\u001b[34mSM_TRAINING_ENV={\"additional_framework_parameters\":{},\"channel_input_dirs\":{\"model\":\"/opt/ml/input/data/model\",\"train\":\"/opt/ml/input/data/train\",\"validation\":\"/opt/ml/input/data/validation\"},\"current_host\":\"algo-1\",\"framework_module\":\"sagemaker_pytorch_container.training:main\",\"hosts\":[\"algo-1\"],\"hyperparameters\":{\"bagging_fraction\":\"0.53\",\"bagging_freq\":\"5\",\"boosting\":\"gbdt\",\"early_stopping_rounds\":\"30\",\"feature_fraction\":\"0.74\",\"feature_fraction_bynode\":\"1.0\",\"is_unbalance\":\"False\",\"lambda_l1\":\"0.0\",\"lambda_l2\":\"0.0\",\"learning_rate\":\"0.009\",\"max_bin\":\"255\",\"max_delta_step\":\"0.0\",\"max_depth\":\"11\",\"metric\":\"binary_logloss\",\"min_data_in_leaf\":\"26\",\"min_gain_to_split\":\"0.0\",\"num_boost_round\":\"500\",\"num_leaves\":\"67\",\"num_threads\":\"0\",\"scale_pos_weight\":\"1.0\",\"tree_learner\":\"serial\",\"use_dask\":\"False\",\"verbosity\":\"1\"},\"input_config_dir\":\"/opt/ml/input/config\",\"input_data_config\":{\"model\":{\"ContentType\":\"application/x-sagemaker-model\",\"RecordWrapperType\":\"None\",\"S3DistributionType\":\"FullyReplicated\",\"TrainingInputMode\":\"File\"},\"train\":{\"RecordWrapperType\":\"None\",\"S3DistributionType\":\"FullyReplicated\",\"TrainingInputMode\":\"File\"},\"validation\":{\"RecordWrapperType\":\"None\",\"S3DistributionType\":\"FullyReplicated\",\"TrainingInputMode\":\"File\"}},\"input_dir\":\"/opt/ml/input\",\"is_master\":true,\"job_name\":\"built-in-algo-lightgbm-classification-m-2023-03-29-02-08-09-247\",\"log_level\":20,\"master_hostname\":\"algo-1\",\"model_dir\":\"/opt/ml/model\",\"module_dir\":\"s3://jumpstart-cache-prod-us-east-1/source-directory-tarballs/lightgbm/transfer_learning/classification/v2.1.1/sourcedir.tar.gz\",\"module_name\":\"transfer_learning\",\"network_interface_name\":\"eth0\",\"num_cpus\":2,\"num_gpus\":0,\"output_data_dir\":\"/opt/ml/output/data\",\"output_dir\":\"/opt/ml/output\",\"output_intermediate_dir\":\"/opt/ml/output/intermediate\",\"resource_config\":{\"current_group_name\":\"homogeneousCluster\",\"current_host\":\"algo-1\",\"current_instance_type\":\"ml.m5.large\",\"hosts\":[\"algo-1\"],\"instance_groups\":[{\"hosts\":[\"algo-1\"],\"instance_group_name\":\"homogeneousCluster\",\"instance_type\":\"ml.m5.large\"}],\"network_interface_name\":\"eth0\"},\"user_entry_point\":\"transfer_learning.py\"}\u001b[0m\n",
      "\u001b[34mSM_USER_ARGS=[\"--bagging_fraction\",\"0.53\",\"--bagging_freq\",\"5\",\"--boosting\",\"gbdt\",\"--early_stopping_rounds\",\"30\",\"--feature_fraction\",\"0.74\",\"--feature_fraction_bynode\",\"1.0\",\"--is_unbalance\",\"False\",\"--lambda_l1\",\"0.0\",\"--lambda_l2\",\"0.0\",\"--learning_rate\",\"0.009\",\"--max_bin\",\"255\",\"--max_delta_step\",\"0.0\",\"--max_depth\",\"11\",\"--metric\",\"binary_logloss\",\"--min_data_in_leaf\",\"26\",\"--min_gain_to_split\",\"0.0\",\"--num_boost_round\",\"500\",\"--num_leaves\",\"67\",\"--num_threads\",\"0\",\"--scale_pos_weight\",\"1.0\",\"--tree_learner\",\"serial\",\"--use_dask\",\"False\",\"--verbosity\",\"1\"]\u001b[0m\n",
      "\u001b[34mSM_OUTPUT_INTERMEDIATE_DIR=/opt/ml/output/intermediate\u001b[0m\n",
      "\u001b[34mSM_CHANNEL_MODEL=/opt/ml/input/data/model\u001b[0m\n",
      "\u001b[34mSM_CHANNEL_TRAIN=/opt/ml/input/data/train\u001b[0m\n",
      "\u001b[34mSM_CHANNEL_VALIDATION=/opt/ml/input/data/validation\u001b[0m\n",
      "\u001b[34mSM_HP_BAGGING_FRACTION=0.53\u001b[0m\n",
      "\u001b[34mSM_HP_BAGGING_FREQ=5\u001b[0m\n",
      "\u001b[34mSM_HP_BOOSTING=gbdt\u001b[0m\n",
      "\u001b[34mSM_HP_EARLY_STOPPING_ROUNDS=30\u001b[0m\n",
      "\u001b[34mSM_HP_FEATURE_FRACTION=0.74\u001b[0m\n",
      "\u001b[34mSM_HP_FEATURE_FRACTION_BYNODE=1.0\u001b[0m\n",
      "\u001b[34mSM_HP_IS_UNBALANCE=False\u001b[0m\n",
      "\u001b[34mSM_HP_LAMBDA_L1=0.0\u001b[0m\n",
      "\u001b[34mSM_HP_LAMBDA_L2=0.0\u001b[0m\n",
      "\u001b[34mSM_HP_LEARNING_RATE=0.009\u001b[0m\n",
      "\u001b[34mSM_HP_MAX_BIN=255\u001b[0m\n",
      "\u001b[34mSM_HP_MAX_DELTA_STEP=0.0\u001b[0m\n",
      "\u001b[34mSM_HP_MAX_DEPTH=11\u001b[0m\n",
      "\u001b[34mSM_HP_METRIC=binary_logloss\u001b[0m\n",
      "\u001b[34mSM_HP_MIN_DATA_IN_LEAF=26\u001b[0m\n",
      "\u001b[34mSM_HP_MIN_GAIN_TO_SPLIT=0.0\u001b[0m\n",
      "\u001b[34mSM_HP_NUM_BOOST_ROUND=500\u001b[0m\n",
      "\u001b[34mSM_HP_NUM_LEAVES=67\u001b[0m\n",
      "\u001b[34mSM_HP_NUM_THREADS=0\u001b[0m\n",
      "\u001b[34mSM_HP_SCALE_POS_WEIGHT=1.0\u001b[0m\n",
      "\u001b[34mSM_HP_TREE_LEARNER=serial\u001b[0m\n",
      "\u001b[34mSM_HP_USE_DASK=False\u001b[0m\n",
      "\u001b[34mSM_HP_VERBOSITY=1\u001b[0m\n",
      "\u001b[34mPYTHONPATH=/opt/ml/code:/opt/conda/bin:/opt/conda/lib/python38.zip:/opt/conda/lib/python3.8:/opt/conda/lib/python3.8/lib-dynload:/opt/conda/lib/python3.8/site-packages\u001b[0m\n",
      "\u001b[34mInvoking script with the following command:\u001b[0m\n",
      "\u001b[34m/opt/conda/bin/python3.8 transfer_learning.py --bagging_fraction 0.53 --bagging_freq 5 --boosting gbdt --early_stopping_rounds 30 --feature_fraction 0.74 --feature_fraction_bynode 1.0 --is_unbalance False --lambda_l1 0.0 --lambda_l2 0.0 --learning_rate 0.009 --max_bin 255 --max_delta_step 0.0 --max_depth 11 --metric binary_logloss --min_data_in_leaf 26 --min_gain_to_split 0.0 --num_boost_round 500 --num_leaves 67 --num_threads 0 --scale_pos_weight 1.0 --tree_learner serial --use_dask False --verbosity 1\u001b[0m\n",
      "\u001b[34mINFO:root:Loading data\u001b[0m\n",
      "\u001b[34mINFO:root:'ContentType' is not identified in either training or validation data channel. Default ContentType 'text/csv' is used to read the train and validation data.\u001b[0m\n",
      "\u001b[34mINFO:root:Found data in the validation channel. Reading the train and validation data from the training and validation channel, respectively.\u001b[0m\n",
      "\u001b[34mdata frame ['/opt/ml/input/data/train/train.csv']???        0     1     2     3    4    5    6    7   ...  17  18  19  20  21  22  23  24\u001b[0m\n",
      "\u001b[34m0       1  10.0  10.0   7.0  1.0  1.0  1.0  0.0  ...   1   0   0   1   0   0   0   2\u001b[0m\n",
      "\u001b[34m1       1   2.0  10.0  10.0  1.0  1.0  1.0  1.0  ...   1   0   0   1   0   0   0   3\u001b[0m\n",
      "\u001b[34m2       1   5.0   5.0   5.0  1.0  1.0  1.0  1.0  ...   0   0   0   1   0   0   0   2\u001b[0m\n",
      "\u001b[34m3       0   0.0   0.0   3.0  1.0  1.0  1.0  0.0  ...   0   1   0   0   0   0   1   1\u001b[0m\n",
      "\u001b[34m4       1   3.0   7.0   7.0  1.0  1.0  1.0  1.0  ...   1   0   0   1   0   0   0   2\u001b[0m\n",
      "\u001b[34m...    ..   ...   ...   ...  ...  ...  ...  ...  ...  ..  ..  ..  ..  ..  ..  ..  ..\u001b[0m\n",
      "\u001b[34m57728   0   2.0  10.0   7.0  1.0  1.0  0.0  1.0  ...   0   1   0   1   0   0   0   1\u001b[0m\n",
      "\u001b[34m57729   0   0.0   0.0   4.0  1.0  1.0  0.0  1.0  ...   1   0   0   0   0   1   0   0\u001b[0m\n",
      "\u001b[34m57730   0   2.0  10.0  10.0  1.0  1.0  1.0  1.0  ...   1   0   0   1   0   0   0   1\u001b[0m\n",
      "\u001b[34m57731   0   5.0  20.0  10.0  1.0  0.0  0.0  1.0  ...   0   0   0   0   1   0   0   3\u001b[0m\n",
      "\u001b[34m57732   1   5.0   5.0   7.0  1.0  1.0  0.0  1.0  ...   1   0   0   1   0   0   0   2\u001b[0m\n",
      "\u001b[34m[57733 rows x 25 columns]\u001b[0m\n",
      "\u001b[34mdata frame ['/opt/ml/input/data/validation/val.csv']???       0     1     2     3    4    5    6    7   ...  17  18  19  20  21  22  23  24\u001b[0m\n",
      "\u001b[34m0      0   5.0  20.0  10.0  1.0  0.0  0.0  1.0  ...   0   1   0   1   0   0   0   1\u001b[0m\n",
      "\u001b[34m1      1  10.0  10.0   5.0  1.0  1.0  1.0  1.0  ...   0   1   0   1   0   0   0   2\u001b[0m\n",
      "\u001b[34m2      0   0.0   0.0   3.0  1.0  1.0  1.0  0.0  ...   0   1   0   0   0   0   1   3\u001b[0m\n",
      "\u001b[34m3      1   2.0  10.0   7.0  1.0  1.0  0.0  1.0  ...   1   0   0   0   1   0   0   1\u001b[0m\n",
      "\u001b[34m4      1   2.0  10.0   7.0  1.0  1.0  0.0  1.0  ...   0   1   0   0   1   0   0   3\u001b[0m\n",
      "\u001b[34m...   ..   ...   ...   ...  ...  ...  ...  ...  ...  ..  ..  ..  ..  ..  ..  ..  ..\u001b[0m\n",
      "\u001b[34m8622   0  10.0  10.0   5.0  1.0  1.0  1.0  1.0  ...   0   0   1   0   0   0   0   0\u001b[0m\n",
      "\u001b[34m8623   0   5.0  20.0  10.0  1.0  0.0  0.0  1.0  ...   1   0   1   0   0   0   0   4\u001b[0m\n",
      "\u001b[34m8624   0  10.0  10.0   5.0  1.0  1.0  1.0  1.0  ...   1   0   1   0   0   0   0   2\u001b[0m\n",
      "\u001b[34m8625   1   5.0   5.0   7.0  1.0  1.0  0.0  1.0  ...   1   0   0   0   1   0   0   2\u001b[0m\n",
      "\u001b[34m8626   1   5.0   5.0   5.0  1.0  1.0  1.0  1.0  ...   0   1   0   0   0   0   1   1\u001b[0m\n",
      "\u001b[34m[8627 rows x 25 columns]\u001b[0m\n",
      "\u001b[34mINFO:root:'_input_model_extracted/__models_info__.json' file could not be found.\u001b[0m\n",
      "\u001b[34mINFO:root:Beginning training\u001b[0m\n",
      "\u001b[34m/opt/conda/lib/python3.8/site-packages/lightgbm/engine.py:181: UserWarning: 'early_stopping_rounds' argument is deprecated and will be removed in a future release of LightGBM. Pass 'early_stopping()' callback via 'callbacks' argument instead.\n",
      "  _log_warning(\"'early_stopping_rounds' argument is deprecated and will be removed in a future release of LightGBM. \"\u001b[0m\n",
      "\u001b[34m[LightGBM] [Warning] boosting is set=gbdt, boosting_type=gbdt will be ignored. Current value: boosting=gbdt\u001b[0m\n",
      "\u001b[34m[LightGBM] [Warning] boosting is set=gbdt, boosting_type=gbdt will be ignored. Current value: boosting=gbdt\u001b[0m\n",
      "\u001b[34m[LightGBM] [Info] Number of positive: 17610, number of negative: 40123\u001b[0m\n",
      "\u001b[34m[LightGBM] [Warning] Auto-choosing row-wise multi-threading, the overhead of testing was 0.001950 seconds.\u001b[0m\n",
      "\u001b[34mYou can set `force_row_wise=true` to remove the overhead.\u001b[0m\n",
      "\u001b[34mAnd if memory is not enough, you can set `force_col_wise=true`.\u001b[0m\n",
      "\u001b[34m[LightGBM] [Info] Total Bins 60\u001b[0m\n",
      "\u001b[34m[LightGBM] [Info] Number of data points in the train set: 57733, number of used features: 23\u001b[0m\n",
      "\u001b[34m[LightGBM] [Warning] boosting is set=gbdt, boosting_type=gbdt will be ignored. Current value: boosting=gbdt\u001b[0m\n",
      "\u001b[34m[LightGBM] [Info] [binary:BoostFromScore]: pavg=0.305025 -> initscore=-0.823483\u001b[0m\n",
      "\u001b[34m[LightGBM] [Info] Start training from score -0.823483\u001b[0m\n",
      "\u001b[34m[1]#011train's binary_logloss: 0.612735#011val's binary_logloss: 0.612838\u001b[0m\n",
      "\u001b[34mTraining until validation scores don't improve for 30 rounds\u001b[0m\n",
      "\u001b[34m[2]#011train's binary_logloss: 0.610112#011val's binary_logloss: 0.610234\u001b[0m\n",
      "\u001b[34m[3]#011train's binary_logloss: 0.607864#011val's binary_logloss: 0.608017\u001b[0m\n",
      "\u001b[34m[4]#011train's binary_logloss: 0.605669#011val's binary_logloss: 0.605851\u001b[0m\n",
      "\u001b[34m[5]#011train's binary_logloss: 0.603182#011val's binary_logloss: 0.603356\u001b[0m\n",
      "\u001b[34m[6]#011train's binary_logloss: 0.600781#011val's binary_logloss: 0.600959\u001b[0m\n",
      "\u001b[34m[7]#011train's binary_logloss: 0.598409#011val's binary_logloss: 0.598604\u001b[0m\n",
      "\u001b[34m[8]#011train's binary_logloss: 0.596327#011val's binary_logloss: 0.596564\u001b[0m\n",
      "\u001b[34m[9]#011train's binary_logloss: 0.594028#011val's binary_logloss: 0.594274\u001b[0m\n",
      "\u001b[34m[10]#011train's binary_logloss: 0.591829#011val's binary_logloss: 0.592083\u001b[0m\n",
      "\u001b[34m[11]#011train's binary_logloss: 0.589584#011val's binary_logloss: 0.589849\u001b[0m\n",
      "\u001b[34m[12]#011train's binary_logloss: 0.587893#011val's binary_logloss: 0.588185\u001b[0m\n",
      "\u001b[34m[13]#011train's binary_logloss: 0.585733#011val's binary_logloss: 0.586056\u001b[0m\n",
      "\u001b[34m[14]#011train's binary_logloss: 0.583864#011val's binary_logloss: 0.584224\u001b[0m\n",
      "\u001b[34m[15]#011train's binary_logloss: 0.581843#011val's binary_logloss: 0.582199\u001b[0m\n",
      "\u001b[34m[16]#011train's binary_logloss: 0.579869#011val's binary_logloss: 0.580223\u001b[0m\n",
      "\u001b[34m[17]#011train's binary_logloss: 0.577851#011val's binary_logloss: 0.578203\u001b[0m\n",
      "\u001b[34m[18]#011train's binary_logloss: 0.576106#011val's binary_logloss: 0.576457\u001b[0m\n",
      "\u001b[34m[19]#011train's binary_logloss: 0.574142#011val's binary_logloss: 0.574504\u001b[0m\n",
      "\u001b[34m[20]#011train's binary_logloss: 0.57244#011val's binary_logloss: 0.572846\u001b[0m\n",
      "\u001b[34m[21]#011train's binary_logloss: 0.570557#011val's binary_logloss: 0.570964\u001b[0m\n",
      "\u001b[34m[22]#011train's binary_logloss: 0.568896#011val's binary_logloss: 0.569335\u001b[0m\n",
      "\u001b[34m[23]#011train's binary_logloss: 0.567041#011val's binary_logloss: 0.567488\u001b[0m\n",
      "\u001b[34m[24]#011train's binary_logloss: 0.565435#011val's binary_logloss: 0.565912\u001b[0m\n",
      "\u001b[34m[25]#011train's binary_logloss: 0.563673#011val's binary_logloss: 0.564161\u001b[0m\n",
      "\u001b[34m[26]#011train's binary_logloss: 0.562111#011val's binary_logloss: 0.562604\u001b[0m\n",
      "\u001b[34m[27]#011train's binary_logloss: 0.560668#011val's binary_logloss: 0.561196\u001b[0m\n",
      "\u001b[34m[28]#011train's binary_logloss: 0.558941#011val's binary_logloss: 0.559489\u001b[0m\n",
      "\u001b[34m[29]#011train's binary_logloss: 0.557453#011val's binary_logloss: 0.558042\u001b[0m\n",
      "\u001b[34m[30]#011train's binary_logloss: 0.555993#011val's binary_logloss: 0.556612\u001b[0m\n",
      "\u001b[34m[31]#011train's binary_logloss: 0.554353#011val's binary_logloss: 0.554981\u001b[0m\n",
      "\u001b[34m[32]#011train's binary_logloss: 0.552958#011val's binary_logloss: 0.553614\u001b[0m\n",
      "\u001b[34m[33]#011train's binary_logloss: 0.551361#011val's binary_logloss: 0.55203\u001b[0m\n",
      "\u001b[34m[34]#011train's binary_logloss: 0.549827#011val's binary_logloss: 0.5505\u001b[0m\n",
      "\u001b[34m[35]#011train's binary_logloss: 0.54849#011val's binary_logloss: 0.549199\u001b[0m\n",
      "\u001b[34m[36]#011train's binary_logloss: 0.546994#011val's binary_logloss: 0.547701\u001b[0m\n",
      "\u001b[34m[37]#011train's binary_logloss: 0.545678#011val's binary_logloss: 0.546425\u001b[0m\n",
      "\u001b[34m[38]#011train's binary_logloss: 0.544199#011val's binary_logloss: 0.544964\u001b[0m\n",
      "\u001b[34m[39]#011train's binary_logloss: 0.542742#011val's binary_logloss: 0.54352\u001b[0m\n",
      "\u001b[34m[40]#011train's binary_logloss: 0.541312#011val's binary_logloss: 0.5421\u001b[0m\n",
      "\u001b[34m[41]#011train's binary_logloss: 0.539877#011val's binary_logloss: 0.540681\u001b[0m\n",
      "\u001b[34m[42]#011train's binary_logloss: 0.538501#011val's binary_logloss: 0.539305\u001b[0m\n",
      "\u001b[34m[43]#011train's binary_logloss: 0.537296#011val's binary_logloss: 0.53814\u001b[0m\n",
      "\u001b[34m[44]#011train's binary_logloss: 0.535947#011val's binary_logloss: 0.536793\u001b[0m\n",
      "\u001b[34m[45]#011train's binary_logloss: 0.534655#011val's binary_logloss: 0.535518\u001b[0m\n",
      "\u001b[34m[46]#011train's binary_logloss: 0.533357#011val's binary_logloss: 0.534225\u001b[0m\n",
      "\u001b[34m[47]#011train's binary_logloss: 0.532245#011val's binary_logloss: 0.533146\u001b[0m\n",
      "\u001b[34m[48]#011train's binary_logloss: 0.53097#011val's binary_logloss: 0.531875\u001b[0m\n",
      "\u001b[34m[49]#011train's binary_logloss: 0.529887#011val's binary_logloss: 0.530824\u001b[0m\n",
      "\u001b[34m[50]#011train's binary_logloss: 0.528656#011val's binary_logloss: 0.52959\u001b[0m\n",
      "\u001b[34m[51]#011train's binary_logloss: 0.527602#011val's binary_logloss: 0.528565\u001b[0m\n",
      "\u001b[34m[52]#011train's binary_logloss: 0.5264#011val's binary_logloss: 0.527377\u001b[0m\n",
      "\u001b[34m[53]#011train's binary_logloss: 0.525217#011val's binary_logloss: 0.526206\u001b[0m\n",
      "\u001b[34m[54]#011train's binary_logloss: 0.524315#011val's binary_logloss: 0.52532\u001b[0m\n",
      "\u001b[34m[55]#011train's binary_logloss: 0.523155#011val's binary_logloss: 0.524165\u001b[0m\n",
      "\u001b[34m[56]#011train's binary_logloss: 0.522042#011val's binary_logloss: 0.523044\u001b[0m\n",
      "\u001b[34m[57]#011train's binary_logloss: 0.520899#011val's binary_logloss: 0.521902\u001b[0m\n",
      "\u001b[34m[58]#011train's binary_logloss: 0.519815#011val's binary_logloss: 0.520818\u001b[0m\n",
      "\u001b[34m[59]#011train's binary_logloss: 0.518726#011val's binary_logloss: 0.519725\u001b[0m\n",
      "\u001b[34m[60]#011train's binary_logloss: 0.51764#011val's binary_logloss: 0.518635\u001b[0m\n",
      "\u001b[34m[61]#011train's binary_logloss: 0.516725#011val's binary_logloss: 0.517742\u001b[0m\n",
      "\u001b[34m[62]#011train's binary_logloss: 0.515683#011val's binary_logloss: 0.516708\u001b[0m\n",
      "\u001b[34m[63]#011train's binary_logloss: 0.514797#011val's binary_logloss: 0.515857\u001b[0m\n",
      "\u001b[34m[64]#011train's binary_logloss: 0.513762#011val's binary_logloss: 0.514834\u001b[0m\n",
      "\u001b[34m[65]#011train's binary_logloss: 0.512753#011val's binary_logloss: 0.513843\u001b[0m\n",
      "\u001b[34m[66]#011train's binary_logloss: 0.511884#011val's binary_logloss: 0.513009\u001b[0m\n",
      "\u001b[34m[67]#011train's binary_logloss: 0.510908#011val's binary_logloss: 0.512035\u001b[0m\n",
      "\u001b[34m[68]#011train's binary_logloss: 0.510069#011val's binary_logloss: 0.511227\u001b[0m\n",
      "\u001b[34m[69]#011train's binary_logloss: 0.509242#011val's binary_logloss: 0.510425\u001b[0m\n",
      "\u001b[34m[70]#011train's binary_logloss: 0.508423#011val's binary_logloss: 0.509648\u001b[0m\n",
      "\u001b[34m[71]#011train's binary_logloss: 0.50761#011val's binary_logloss: 0.508865\u001b[0m\n",
      "\u001b[34m[72]#011train's binary_logloss: 0.506762#011val's binary_logloss: 0.508036\u001b[0m\n",
      "\u001b[34m[73]#011train's binary_logloss: 0.505859#011val's binary_logloss: 0.50714\u001b[0m\n",
      "\u001b[34m[74]#011train's binary_logloss: 0.505088#011val's binary_logloss: 0.506396\u001b[0m\n",
      "\u001b[34m[75]#011train's binary_logloss: 0.504198#011val's binary_logloss: 0.505508\u001b[0m\n",
      "\u001b[34m[76]#011train's binary_logloss: 0.503446#011val's binary_logloss: 0.504793\u001b[0m\n",
      "\u001b[34m[77]#011train's binary_logloss: 0.502563#011val's binary_logloss: 0.503927\u001b[0m\n",
      "\u001b[34m[78]#011train's binary_logloss: 0.501722#011val's binary_logloss: 0.503095\u001b[0m\n",
      "\u001b[34m[79]#011train's binary_logloss: 0.500871#011val's binary_logloss: 0.502263\u001b[0m\n",
      "\u001b[34m[80]#011train's binary_logloss: 0.500099#011val's binary_logloss: 0.501496\u001b[0m\n",
      "\u001b[34m[81]#011train's binary_logloss: 0.499279#011val's binary_logloss: 0.50068\u001b[0m\n",
      "\u001b[34m[82]#011train's binary_logloss: 0.498458#011val's binary_logloss: 0.499863\u001b[0m\n",
      "\u001b[34m[83]#011train's binary_logloss: 0.497645#011val's binary_logloss: 0.49907\u001b[0m\n",
      "\u001b[34m[84]#011train's binary_logloss: 0.496878#011val's binary_logloss: 0.498308\u001b[0m\n",
      "\u001b[34m[85]#011train's binary_logloss: 0.496087#011val's binary_logloss: 0.497536\u001b[0m\n",
      "\u001b[34m[86]#011train's binary_logloss: 0.49534#011val's binary_logloss: 0.49681\u001b[0m\n",
      "\u001b[34m[87]#011train's binary_logloss: 0.49459#011val's binary_logloss: 0.496081\u001b[0m\n",
      "\u001b[34m[88]#011train's binary_logloss: 0.493849#011val's binary_logloss: 0.495371\u001b[0m\n",
      "\u001b[34m[89]#011train's binary_logloss: 0.493121#011val's binary_logloss: 0.494669\u001b[0m\n",
      "\u001b[34m[90]#011train's binary_logloss: 0.492405#011val's binary_logloss: 0.493983\u001b[0m\n",
      "\u001b[34m[91]#011train's binary_logloss: 0.491783#011val's binary_logloss: 0.493388\u001b[0m\n",
      "\u001b[34m[92]#011train's binary_logloss: 0.491167#011val's binary_logloss: 0.492811\u001b[0m\n",
      "\u001b[34m[93]#011train's binary_logloss: 0.490449#011val's binary_logloss: 0.49211\u001b[0m\n",
      "\u001b[34m[94]#011train's binary_logloss: 0.489847#011val's binary_logloss: 0.491537\u001b[0m\n",
      "\u001b[34m[95]#011train's binary_logloss: 0.489275#011val's binary_logloss: 0.490998\u001b[0m\n",
      "\u001b[34m[96]#011train's binary_logloss: 0.488631#011val's binary_logloss: 0.490364\u001b[0m\n",
      "\u001b[34m[97]#011train's binary_logloss: 0.487965#011val's binary_logloss: 0.489714\u001b[0m\n",
      "\u001b[34m[98]#011train's binary_logloss: 0.487376#011val's binary_logloss: 0.489138\u001b[0m\n",
      "\u001b[34m[99]#011train's binary_logloss: 0.486744#011val's binary_logloss: 0.488518\u001b[0m\n",
      "\u001b[34m[100]#011train's binary_logloss: 0.486124#011val's binary_logloss: 0.48792\u001b[0m\n",
      "\u001b[34m[101]#011train's binary_logloss: 0.485489#011val's binary_logloss: 0.4873\u001b[0m\n",
      "\u001b[34m[102]#011train's binary_logloss: 0.484952#011val's binary_logloss: 0.486796\u001b[0m\n",
      "\u001b[34m[103]#011train's binary_logloss: 0.484343#011val's binary_logloss: 0.486201\u001b[0m\n",
      "\u001b[34m[104]#011train's binary_logloss: 0.483813#011val's binary_logloss: 0.485714\u001b[0m\n",
      "\u001b[34m[105]#011train's binary_logloss: 0.483224#011val's binary_logloss: 0.485146\u001b[0m\n",
      "\u001b[34m[106]#011train's binary_logloss: 0.482635#011val's binary_logloss: 0.48457\u001b[0m\n",
      "\u001b[34m[107]#011train's binary_logloss: 0.482097#011val's binary_logloss: 0.484058\u001b[0m\n",
      "\u001b[34m[108]#011train's binary_logloss: 0.481518#011val's binary_logloss: 0.483486\u001b[0m\n",
      "\u001b[34m[109]#011train's binary_logloss: 0.480995#011val's binary_logloss: 0.482979\u001b[0m\n",
      "\u001b[34m[110]#011train's binary_logloss: 0.480435#011val's binary_logloss: 0.48243\u001b[0m\n",
      "\u001b[34m[111]#011train's binary_logloss: 0.479876#011val's binary_logloss: 0.481892\u001b[0m\n",
      "\u001b[34m[112]#011train's binary_logloss: 0.479323#011val's binary_logloss: 0.48136\u001b[0m\n",
      "\u001b[34m[113]#011train's binary_logloss: 0.478776#011val's binary_logloss: 0.480835\u001b[0m\n",
      "\u001b[34m[114]#011train's binary_logloss: 0.478233#011val's binary_logloss: 0.480321\u001b[0m\n",
      "\u001b[34m[115]#011train's binary_logloss: 0.477706#011val's binary_logloss: 0.479802\u001b[0m\n",
      "\u001b[34m[116]#011train's binary_logloss: 0.47726#011val's binary_logloss: 0.479383\u001b[0m\n",
      "\u001b[34m[117]#011train's binary_logloss: 0.476728#011val's binary_logloss: 0.478875\u001b[0m\n",
      "\u001b[34m[118]#011train's binary_logloss: 0.476211#011val's binary_logloss: 0.478379\u001b[0m\n",
      "\u001b[34m[119]#011train's binary_logloss: 0.475693#011val's binary_logloss: 0.477884\u001b[0m\n",
      "\u001b[34m[120]#011train's binary_logloss: 0.475185#011val's binary_logloss: 0.477406\u001b[0m\n",
      "\u001b[34m[121]#011train's binary_logloss: 0.474703#011val's binary_logloss: 0.476932\u001b[0m\n",
      "\u001b[34m[122]#011train's binary_logloss: 0.474226#011val's binary_logloss: 0.476462\u001b[0m\n",
      "\u001b[34m[123]#011train's binary_logloss: 0.473822#011val's binary_logloss: 0.476087\u001b[0m\n",
      "\u001b[34m[124]#011train's binary_logloss: 0.473419#011val's binary_logloss: 0.475713\u001b[0m\n",
      "\u001b[34m[125]#011train's binary_logloss: 0.472955#011val's binary_logloss: 0.475259\u001b[0m\n",
      "\u001b[34m[126]#011train's binary_logloss: 0.47249#011val's binary_logloss: 0.474813\u001b[0m\n",
      "\u001b[34m[127]#011train's binary_logloss: 0.472032#011val's binary_logloss: 0.474367\u001b[0m\n",
      "\u001b[34m[128]#011train's binary_logloss: 0.471599#011val's binary_logloss: 0.473944\u001b[0m\n",
      "\u001b[34m[129]#011train's binary_logloss: 0.47115#011val's binary_logloss: 0.473511\u001b[0m\n",
      "\u001b[34m[130]#011train's binary_logloss: 0.470714#011val's binary_logloss: 0.473084\u001b[0m\n",
      "\u001b[34m[131]#011train's binary_logloss: 0.470276#011val's binary_logloss: 0.472651\u001b[0m\n",
      "\u001b[34m[132]#011train's binary_logloss: 0.469878#011val's binary_logloss: 0.472266\u001b[0m\n",
      "\u001b[34m[133]#011train's binary_logloss: 0.469456#011val's binary_logloss: 0.471866\u001b[0m\n",
      "\u001b[34m[134]#011train's binary_logloss: 0.469033#011val's binary_logloss: 0.471467\u001b[0m\n",
      "\u001b[34m[135]#011train's binary_logloss: 0.46861#011val's binary_logloss: 0.471062\u001b[0m\n",
      "\u001b[34m[136]#011train's binary_logloss: 0.468261#011val's binary_logloss: 0.470734\u001b[0m\n",
      "\u001b[34m[137]#011train's binary_logloss: 0.467855#011val's binary_logloss: 0.470353\u001b[0m\n",
      "\u001b[34m[138]#011train's binary_logloss: 0.467524#011val's binary_logloss: 0.470046\u001b[0m\n",
      "\u001b[34m[139]#011train's binary_logloss: 0.46713#011val's binary_logloss: 0.469663\u001b[0m\n",
      "\u001b[34m[140]#011train's binary_logloss: 0.466768#011val's binary_logloss: 0.469322\u001b[0m\n",
      "\u001b[34m[141]#011train's binary_logloss: 0.466416#011val's binary_logloss: 0.468993\u001b[0m\n",
      "\u001b[34m[142]#011train's binary_logloss: 0.466032#011val's binary_logloss: 0.468641\u001b[0m\n",
      "\u001b[34m[143]#011train's binary_logloss: 0.465649#011val's binary_logloss: 0.468293\u001b[0m\n",
      "\u001b[34m[144]#011train's binary_logloss: 0.465278#011val's binary_logloss: 0.467949\u001b[0m\n",
      "\u001b[34m[145]#011train's binary_logloss: 0.464907#011val's binary_logloss: 0.467607\u001b[0m\n",
      "\u001b[34m[146]#011train's binary_logloss: 0.464546#011val's binary_logloss: 0.467256\u001b[0m\n",
      "\u001b[34m[147]#011train's binary_logloss: 0.464192#011val's binary_logloss: 0.466911\u001b[0m\n",
      "\u001b[34m[148]#011train's binary_logloss: 0.463874#011val's binary_logloss: 0.466616\u001b[0m\n",
      "\u001b[34m[149]#011train's binary_logloss: 0.463542#011val's binary_logloss: 0.466299\u001b[0m\n",
      "\u001b[34m[150]#011train's binary_logloss: 0.463237#011val's binary_logloss: 0.466012\u001b[0m\n",
      "\u001b[34m[151]#011train's binary_logloss: 0.462938#011val's binary_logloss: 0.465739\u001b[0m\n",
      "\u001b[34m[152]#011train's binary_logloss: 0.462599#011val's binary_logloss: 0.465418\u001b[0m\n",
      "\u001b[34m[153]#011train's binary_logloss: 0.462261#011val's binary_logloss: 0.465099\u001b[0m\n",
      "\u001b[34m[154]#011train's binary_logloss: 0.461928#011val's binary_logloss: 0.464781\u001b[0m\n",
      "\u001b[34m[155]#011train's binary_logloss: 0.461595#011val's binary_logloss: 0.464469\u001b[0m\n",
      "\u001b[34m[156]#011train's binary_logloss: 0.461326#011val's binary_logloss: 0.464217\u001b[0m\n",
      "\u001b[34m[157]#011train's binary_logloss: 0.461047#011val's binary_logloss: 0.463965\u001b[0m\n",
      "\u001b[34m[158]#011train's binary_logloss: 0.46074#011val's binary_logloss: 0.463674\u001b[0m\n",
      "\u001b[34m[159]#011train's binary_logloss: 0.460472#011val's binary_logloss: 0.463427\u001b[0m\n",
      "\u001b[34m[160]#011train's binary_logloss: 0.460166#011val's binary_logloss: 0.463137\u001b[0m\n",
      "\u001b[34m[161]#011train's binary_logloss: 0.459898#011val's binary_logloss: 0.462894\u001b[0m\n",
      "\u001b[34m[162]#011train's binary_logloss: 0.459589#011val's binary_logloss: 0.462619\u001b[0m\n",
      "\u001b[34m[163]#011train's binary_logloss: 0.459308#011val's binary_logloss: 0.462359\u001b[0m\n",
      "\u001b[34m[164]#011train's binary_logloss: 0.459026#011val's binary_logloss: 0.462095\u001b[0m\n",
      "\u001b[34m[165]#011train's binary_logloss: 0.458739#011val's binary_logloss: 0.461824\u001b[0m\n",
      "\u001b[34m[166]#011train's binary_logloss: 0.458448#011val's binary_logloss: 0.461556\u001b[0m\n",
      "\u001b[34m[167]#011train's binary_logloss: 0.458163#011val's binary_logloss: 0.461288\u001b[0m\n",
      "\u001b[34m[168]#011train's binary_logloss: 0.457874#011val's binary_logloss: 0.461032\u001b[0m\n",
      "\u001b[34m[169]#011train's binary_logloss: 0.457635#011val's binary_logloss: 0.460825\u001b[0m\n",
      "\u001b[34m[170]#011train's binary_logloss: 0.457354#011val's binary_logloss: 0.460571\u001b[0m\n",
      "\u001b[34m[171]#011train's binary_logloss: 0.457076#011val's binary_logloss: 0.460306\u001b[0m\n",
      "\u001b[34m[172]#011train's binary_logloss: 0.456843#011val's binary_logloss: 0.460099\u001b[0m\n",
      "\u001b[34m[173]#011train's binary_logloss: 0.456569#011val's binary_logloss: 0.45985\u001b[0m\n",
      "\u001b[34m[174]#011train's binary_logloss: 0.456335#011val's binary_logloss: 0.459639\u001b[0m\n",
      "\u001b[34m[175]#011train's binary_logloss: 0.456067#011val's binary_logloss: 0.459382\u001b[0m\n",
      "\u001b[34m[176]#011train's binary_logloss: 0.455803#011val's binary_logloss: 0.459142\u001b[0m\n",
      "\u001b[34m[177]#011train's binary_logloss: 0.455581#011val's binary_logloss: 0.458942\u001b[0m\n",
      "\u001b[34m[178]#011train's binary_logloss: 0.455366#011val's binary_logloss: 0.458749\u001b[0m\n",
      "\u001b[34m[179]#011train's binary_logloss: 0.455111#011val's binary_logloss: 0.458515\u001b[0m\n",
      "\u001b[34m[180]#011train's binary_logloss: 0.454862#011val's binary_logloss: 0.458277\u001b[0m\n",
      "\u001b[34m[181]#011train's binary_logloss: 0.454656#011val's binary_logloss: 0.458096\u001b[0m\n",
      "\u001b[34m[182]#011train's binary_logloss: 0.45441#011val's binary_logloss: 0.45786\u001b[0m\n",
      "\u001b[34m[183]#011train's binary_logloss: 0.4542#011val's binary_logloss: 0.457684\u001b[0m\n",
      "\u001b[34m[184]#011train's binary_logloss: 0.453992#011val's binary_logloss: 0.457511\u001b[0m\n",
      "\u001b[34m[185]#011train's binary_logloss: 0.453787#011val's binary_logloss: 0.457343\u001b[0m\n",
      "\u001b[34m[186]#011train's binary_logloss: 0.45355#011val's binary_logloss: 0.457123\u001b[0m\n",
      "\u001b[34m[187]#011train's binary_logloss: 0.453316#011val's binary_logloss: 0.456907\u001b[0m\n",
      "\u001b[34m[188]#011train's binary_logloss: 0.453117#011val's binary_logloss: 0.456729\u001b[0m\n",
      "\u001b[34m[189]#011train's binary_logloss: 0.452885#011val's binary_logloss: 0.456502\u001b[0m\n",
      "\u001b[34m[190]#011train's binary_logloss: 0.452663#011val's binary_logloss: 0.456295\u001b[0m\n",
      "\u001b[34m[191]#011train's binary_logloss: 0.452478#011val's binary_logloss: 0.456127\u001b[0m\n",
      "\u001b[34m[192]#011train's binary_logloss: 0.45226#011val's binary_logloss: 0.455923\u001b[0m\n",
      "\u001b[34m[193]#011train's binary_logloss: 0.452035#011val's binary_logloss: 0.455723\u001b[0m\n",
      "\u001b[34m[194]#011train's binary_logloss: 0.451858#011val's binary_logloss: 0.455566\u001b[0m\n",
      "\u001b[34m[195]#011train's binary_logloss: 0.451649#011val's binary_logloss: 0.455367\u001b[0m\n",
      "\u001b[34m[196]#011train's binary_logloss: 0.451439#011val's binary_logloss: 0.455175\u001b[0m\n",
      "\u001b[34m[197]#011train's binary_logloss: 0.451279#011val's binary_logloss: 0.455026\u001b[0m\n",
      "\u001b[34m[198]#011train's binary_logloss: 0.451069#011val's binary_logloss: 0.454826\u001b[0m\n",
      "\u001b[34m[199]#011train's binary_logloss: 0.450878#011val's binary_logloss: 0.454639\u001b[0m\n",
      "\u001b[34m[200]#011train's binary_logloss: 0.45068#011val's binary_logloss: 0.454458\u001b[0m\n",
      "\u001b[34m[201]#011train's binary_logloss: 0.450475#011val's binary_logloss: 0.454271\u001b[0m\n",
      "\u001b[34m[202]#011train's binary_logloss: 0.450275#011val's binary_logloss: 0.454085\u001b[0m\n",
      "\u001b[34m[203]#011train's binary_logloss: 0.450069#011val's binary_logloss: 0.453894\u001b[0m\n",
      "\u001b[34m[204]#011train's binary_logloss: 0.449871#011val's binary_logloss: 0.453731\u001b[0m\n",
      "\u001b[34m[205]#011train's binary_logloss: 0.449674#011val's binary_logloss: 0.453552\u001b[0m\n",
      "\u001b[34m[206]#011train's binary_logloss: 0.44949#011val's binary_logloss: 0.453377\u001b[0m\n",
      "\u001b[34m[207]#011train's binary_logloss: 0.449376#011val's binary_logloss: 0.453281\u001b[0m\n",
      "\u001b[34m[208]#011train's binary_logloss: 0.449192#011val's binary_logloss: 0.453113\u001b[0m\n",
      "\u001b[34m[209]#011train's binary_logloss: 0.449008#011val's binary_logloss: 0.452947\u001b[0m\n",
      "\u001b[34m[210]#011train's binary_logloss: 0.448829#011val's binary_logloss: 0.452793\u001b[0m\n",
      "\u001b[34m[211]#011train's binary_logloss: 0.448675#011val's binary_logloss: 0.452659\u001b[0m\n",
      "\u001b[34m[212]#011train's binary_logloss: 0.448503#011val's binary_logloss: 0.452506\u001b[0m\n",
      "\u001b[34m[213]#011train's binary_logloss: 0.448351#011val's binary_logloss: 0.452373\u001b[0m\n",
      "\u001b[34m[214]#011train's binary_logloss: 0.448179#011val's binary_logloss: 0.452217\u001b[0m\n",
      "\u001b[34m[215]#011train's binary_logloss: 0.448034#011val's binary_logloss: 0.452099\u001b[0m\n",
      "\u001b[34m[216]#011train's binary_logloss: 0.447855#011val's binary_logloss: 0.451946\u001b[0m\n",
      "\u001b[34m[217]#011train's binary_logloss: 0.447682#011val's binary_logloss: 0.451798\u001b[0m\n",
      "\u001b[34m[218]#011train's binary_logloss: 0.447541#011val's binary_logloss: 0.451682\u001b[0m\n",
      "\u001b[34m[219]#011train's binary_logloss: 0.447377#011val's binary_logloss: 0.451544\u001b[0m\n",
      "\u001b[34m[220]#011train's binary_logloss: 0.447215#011val's binary_logloss: 0.451406\u001b[0m\n",
      "\u001b[34m[221]#011train's binary_logloss: 0.447061#011val's binary_logloss: 0.451252\u001b[0m\n",
      "\u001b[34m[222]#011train's binary_logloss: 0.446933#011val's binary_logloss: 0.451135\u001b[0m\n",
      "\u001b[34m[223]#011train's binary_logloss: 0.446798#011val's binary_logloss: 0.45101\u001b[0m\n",
      "\u001b[34m[224]#011train's binary_logloss: 0.446667#011val's binary_logloss: 0.450898\u001b[0m\n",
      "\u001b[34m[225]#011train's binary_logloss: 0.446515#011val's binary_logloss: 0.450751\u001b[0m\n",
      "\u001b[34m[226]#011train's binary_logloss: 0.446358#011val's binary_logloss: 0.450605\u001b[0m\n",
      "\u001b[34m[227]#011train's binary_logloss: 0.44621#011val's binary_logloss: 0.450472\u001b[0m\n",
      "\u001b[34m[228]#011train's binary_logloss: 0.446059#011val's binary_logloss: 0.450337\u001b[0m\n",
      "\u001b[34m[229]#011train's binary_logloss: 0.445909#011val's binary_logloss: 0.450199\u001b[0m\n",
      "\u001b[34m[230]#011train's binary_logloss: 0.445769#011val's binary_logloss: 0.450072\u001b[0m\n",
      "\u001b[34m[231]#011train's binary_logloss: 0.445642#011val's binary_logloss: 0.449971\u001b[0m\n",
      "\u001b[34m[232]#011train's binary_logloss: 0.445518#011val's binary_logloss: 0.44987\u001b[0m\n",
      "\u001b[34m[233]#011train's binary_logloss: 0.445378#011val's binary_logloss: 0.449746\u001b[0m\n",
      "\u001b[34m[234]#011train's binary_logloss: 0.445236#011val's binary_logloss: 0.449619\u001b[0m\n",
      "\u001b[34m[235]#011train's binary_logloss: 0.44512#011val's binary_logloss: 0.449522\u001b[0m\n",
      "\u001b[34m[236]#011train's binary_logloss: 0.444987#011val's binary_logloss: 0.449402\u001b[0m\n",
      "\u001b[34m[237]#011train's binary_logloss: 0.444873#011val's binary_logloss: 0.449307\u001b[0m\n",
      "\u001b[34m[238]#011train's binary_logloss: 0.444732#011val's binary_logloss: 0.449179\u001b[0m\n",
      "\u001b[34m[239]#011train's binary_logloss: 0.444601#011val's binary_logloss: 0.449063\u001b[0m\n",
      "\u001b[34m[240]#011train's binary_logloss: 0.444467#011val's binary_logloss: 0.448938\u001b[0m\n",
      "\u001b[34m[241]#011train's binary_logloss: 0.444354#011val's binary_logloss: 0.448853\u001b[0m\n",
      "\u001b[34m[242]#011train's binary_logloss: 0.444244#011val's binary_logloss: 0.44876\u001b[0m\n",
      "\u001b[34m[243]#011train's binary_logloss: 0.444111#011val's binary_logloss: 0.448646\u001b[0m\n",
      "\u001b[34m[244]#011train's binary_logloss: 0.443985#011val's binary_logloss: 0.448534\u001b[0m\n",
      "\u001b[34m[245]#011train's binary_logloss: 0.44386#011val's binary_logloss: 0.448426\u001b[0m\n",
      "\u001b[34m[246]#011train's binary_logloss: 0.443755#011val's binary_logloss: 0.44834\u001b[0m\n",
      "\u001b[34m[247]#011train's binary_logloss: 0.44365#011val's binary_logloss: 0.448259\u001b[0m\n",
      "\u001b[34m[248]#011train's binary_logloss: 0.443546#011val's binary_logloss: 0.44818\u001b[0m\n",
      "\u001b[34m[249]#011train's binary_logloss: 0.44345#011val's binary_logloss: 0.448099\u001b[0m\n",
      "\u001b[34m[250]#011train's binary_logloss: 0.443329#011val's binary_logloss: 0.447993\u001b[0m\n",
      "\u001b[34m[251]#011train's binary_logloss: 0.443211#011val's binary_logloss: 0.4479\u001b[0m\n",
      "\u001b[34m[252]#011train's binary_logloss: 0.443088#011val's binary_logloss: 0.447797\u001b[0m\n",
      "\u001b[34m[253]#011train's binary_logloss: 0.442966#011val's binary_logloss: 0.447697\u001b[0m\n",
      "\u001b[34m[254]#011train's binary_logloss: 0.442845#011val's binary_logloss: 0.447597\u001b[0m\n",
      "\u001b[34m[255]#011train's binary_logloss: 0.442754#011val's binary_logloss: 0.447521\u001b[0m\n",
      "\u001b[34m[256]#011train's binary_logloss: 0.442643#011val's binary_logloss: 0.447426\u001b[0m\n",
      "\u001b[34m[257]#011train's binary_logloss: 0.442554#011val's binary_logloss: 0.447357\u001b[0m\n",
      "\u001b[34m[258]#011train's binary_logloss: 0.442444#011val's binary_logloss: 0.44726\u001b[0m\n",
      "\u001b[34m[259]#011train's binary_logloss: 0.442336#011val's binary_logloss: 0.447162\u001b[0m\n",
      "\u001b[34m[260]#011train's binary_logloss: 0.442247#011val's binary_logloss: 0.447084\u001b[0m\n",
      "\u001b[34m[261]#011train's binary_logloss: 0.442141#011val's binary_logloss: 0.446995\u001b[0m\n",
      "\u001b[34m[262]#011train's binary_logloss: 0.442037#011val's binary_logloss: 0.446904\u001b[0m\n",
      "\u001b[34m[263]#011train's binary_logloss: 0.44195#011val's binary_logloss: 0.446841\u001b[0m\n",
      "\u001b[34m[264]#011train's binary_logloss: 0.441862#011val's binary_logloss: 0.446778\u001b[0m\n",
      "\u001b[34m[265]#011train's binary_logloss: 0.441762#011val's binary_logloss: 0.446691\u001b[0m\n",
      "\u001b[34m[266]#011train's binary_logloss: 0.44166#011val's binary_logloss: 0.446608\u001b[0m\n",
      "\u001b[34m[267]#011train's binary_logloss: 0.441577#011val's binary_logloss: 0.44653\u001b[0m\n",
      "\u001b[34m[268]#011train's binary_logloss: 0.441476#011val's binary_logloss: 0.44644\u001b[0m\n",
      "\u001b[34m[269]#011train's binary_logloss: 0.441377#011val's binary_logloss: 0.446352\u001b[0m\n",
      "\u001b[34m[270]#011train's binary_logloss: 0.441277#011val's binary_logloss: 0.44628\u001b[0m\n",
      "\u001b[34m[271]#011train's binary_logloss: 0.441178#011val's binary_logloss: 0.446191\u001b[0m\n",
      "\u001b[34m[272]#011train's binary_logloss: 0.441097#011val's binary_logloss: 0.446126\u001b[0m\n",
      "\u001b[34m[273]#011train's binary_logloss: 0.441005#011val's binary_logloss: 0.446041\u001b[0m\n",
      "\u001b[34m[274]#011train's binary_logloss: 0.440912#011val's binary_logloss: 0.445964\u001b[0m\n",
      "\u001b[34m[275]#011train's binary_logloss: 0.440816#011val's binary_logloss: 0.445882\u001b[0m\n",
      "\u001b[34m[276]#011train's binary_logloss: 0.440716#011val's binary_logloss: 0.445801\u001b[0m\n",
      "\u001b[34m[277]#011train's binary_logloss: 0.44062#011val's binary_logloss: 0.44572\u001b[0m\n",
      "\u001b[34m[278]#011train's binary_logloss: 0.440523#011val's binary_logloss: 0.445641\u001b[0m\n",
      "\u001b[34m[279]#011train's binary_logloss: 0.440428#011val's binary_logloss: 0.44556\u001b[0m\n",
      "\u001b[34m[280]#011train's binary_logloss: 0.440348#011val's binary_logloss: 0.4455\u001b[0m\n",
      "\u001b[34m[281]#011train's binary_logloss: 0.440273#011val's binary_logloss: 0.445444\u001b[0m\n",
      "\u001b[34m[282]#011train's binary_logloss: 0.440186#011val's binary_logloss: 0.445373\u001b[0m\n",
      "\u001b[34m[283]#011train's binary_logloss: 0.440096#011val's binary_logloss: 0.445287\u001b[0m\n",
      "\u001b[34m[284]#011train's binary_logloss: 0.440009#011val's binary_logloss: 0.445209\u001b[0m\n",
      "\u001b[34m[285]#011train's binary_logloss: 0.439925#011val's binary_logloss: 0.445128\u001b[0m\n",
      "\u001b[34m[286]#011train's binary_logloss: 0.439854#011val's binary_logloss: 0.445079\u001b[0m\n",
      "\u001b[34m[287]#011train's binary_logloss: 0.439771#011val's binary_logloss: 0.445008\u001b[0m\n",
      "\u001b[34m[288]#011train's binary_logloss: 0.439689#011val's binary_logloss: 0.444937\u001b[0m\n",
      "\u001b[34m[289]#011train's binary_logloss: 0.439624#011val's binary_logloss: 0.444885\u001b[0m\n",
      "\u001b[34m[290]#011train's binary_logloss: 0.439544#011val's binary_logloss: 0.444819\u001b[0m\n",
      "\u001b[34m[291]#011train's binary_logloss: 0.439458#011val's binary_logloss: 0.444744\u001b[0m\n",
      "\u001b[34m[292]#011train's binary_logloss: 0.43937#011val's binary_logloss: 0.444677\u001b[0m\n",
      "\u001b[34m[293]#011train's binary_logloss: 0.439286#011val's binary_logloss: 0.444611\u001b[0m\n",
      "\u001b[34m[294]#011train's binary_logloss: 0.439208#011val's binary_logloss: 0.44454\u001b[0m\n",
      "\u001b[34m[295]#011train's binary_logloss: 0.439139#011val's binary_logloss: 0.444499\u001b[0m\n",
      "\u001b[34m[296]#011train's binary_logloss: 0.439078#011val's binary_logloss: 0.444459\u001b[0m\n",
      "\u001b[34m[297]#011train's binary_logloss: 0.439013#011val's binary_logloss: 0.444415\u001b[0m\n",
      "\u001b[34m[298]#011train's binary_logloss: 0.438951#011val's binary_logloss: 0.444369\u001b[0m\n",
      "\u001b[34m[299]#011train's binary_logloss: 0.438889#011val's binary_logloss: 0.444333\u001b[0m\n",
      "\u001b[34m[300]#011train's binary_logloss: 0.438818#011val's binary_logloss: 0.444279\u001b[0m\n",
      "\u001b[34m[301]#011train's binary_logloss: 0.438744#011val's binary_logloss: 0.444223\u001b[0m\n",
      "\u001b[34m[302]#011train's binary_logloss: 0.438665#011val's binary_logloss: 0.444177\u001b[0m\n",
      "\u001b[34m[303]#011train's binary_logloss: 0.43859#011val's binary_logloss: 0.444116\u001b[0m\n",
      "\u001b[34m[304]#011train's binary_logloss: 0.438517#011val's binary_logloss: 0.44406\u001b[0m\n",
      "\u001b[34m[305]#011train's binary_logloss: 0.438458#011val's binary_logloss: 0.444017\u001b[0m\n",
      "\u001b[34m[306]#011train's binary_logloss: 0.438389#011val's binary_logloss: 0.443956\u001b[0m\n",
      "\u001b[34m[307]#011train's binary_logloss: 0.43832#011val's binary_logloss: 0.443896\u001b[0m\n",
      "\u001b[34m[308]#011train's binary_logloss: 0.438251#011val's binary_logloss: 0.443847\u001b[0m\n",
      "\u001b[34m[309]#011train's binary_logloss: 0.438196#011val's binary_logloss: 0.443808\u001b[0m\n",
      "\u001b[34m[310]#011train's binary_logloss: 0.438126#011val's binary_logloss: 0.443768\u001b[0m\n",
      "\u001b[34m[311]#011train's binary_logloss: 0.438057#011val's binary_logloss: 0.443716\u001b[0m\n",
      "\u001b[34m[312]#011train's binary_logloss: 0.437987#011val's binary_logloss: 0.443661\u001b[0m\n",
      "\u001b[34m[313]#011train's binary_logloss: 0.437932#011val's binary_logloss: 0.443632\u001b[0m\n",
      "\u001b[34m[314]#011train's binary_logloss: 0.437877#011val's binary_logloss: 0.443598\u001b[0m\n",
      "\u001b[34m[315]#011train's binary_logloss: 0.437823#011val's binary_logloss: 0.443559\u001b[0m\n",
      "\u001b[34m[316]#011train's binary_logloss: 0.437759#011val's binary_logloss: 0.443517\u001b[0m\n",
      "\u001b[34m[317]#011train's binary_logloss: 0.437694#011val's binary_logloss: 0.443474\u001b[0m\n",
      "\u001b[34m[318]#011train's binary_logloss: 0.437628#011val's binary_logloss: 0.443426\u001b[0m\n",
      "\u001b[34m[319]#011train's binary_logloss: 0.437564#011val's binary_logloss: 0.443388\u001b[0m\n",
      "\u001b[34m[320]#011train's binary_logloss: 0.437501#011val's binary_logloss: 0.443341\u001b[0m\n",
      "\u001b[34m[321]#011train's binary_logloss: 0.437443#011val's binary_logloss: 0.443295\u001b[0m\n",
      "\u001b[34m[322]#011train's binary_logloss: 0.437384#011val's binary_logloss: 0.443237\u001b[0m\n",
      "\u001b[34m[323]#011train's binary_logloss: 0.437335#011val's binary_logloss: 0.443203\u001b[0m\n",
      "\u001b[34m[324]#011train's binary_logloss: 0.437292#011val's binary_logloss: 0.443171\u001b[0m\n",
      "\u001b[34m[325]#011train's binary_logloss: 0.437245#011val's binary_logloss: 0.443137\u001b[0m\n",
      "\u001b[34m[326]#011train's binary_logloss: 0.437183#011val's binary_logloss: 0.44309\u001b[0m\n",
      "\u001b[34m[327]#011train's binary_logloss: 0.437124#011val's binary_logloss: 0.443045\u001b[0m\n",
      "\u001b[34m[328]#011train's binary_logloss: 0.437078#011val's binary_logloss: 0.443006\u001b[0m\n",
      "\u001b[34m[329]#011train's binary_logloss: 0.437017#011val's binary_logloss: 0.44296\u001b[0m\n",
      "\u001b[34m[330]#011train's binary_logloss: 0.436959#011val's binary_logloss: 0.442917\u001b[0m\n",
      "\u001b[34m[331]#011train's binary_logloss: 0.436915#011val's binary_logloss: 0.442895\u001b[0m\n",
      "\u001b[34m[332]#011train's binary_logloss: 0.436856#011val's binary_logloss: 0.442858\u001b[0m\n",
      "\u001b[34m[333]#011train's binary_logloss: 0.436801#011val's binary_logloss: 0.442819\u001b[0m\n",
      "\u001b[34m[334]#011train's binary_logloss: 0.436758#011val's binary_logloss: 0.442795\u001b[0m\n",
      "\u001b[34m[335]#011train's binary_logloss: 0.436706#011val's binary_logloss: 0.442744\u001b[0m\n",
      "\u001b[34m[336]#011train's binary_logloss: 0.436652#011val's binary_logloss: 0.442705\u001b[0m\n",
      "\u001b[34m[337]#011train's binary_logloss: 0.436607#011val's binary_logloss: 0.442673\u001b[0m\n",
      "\u001b[34m[338]#011train's binary_logloss: 0.436557#011val's binary_logloss: 0.442634\u001b[0m\n",
      "\u001b[34m[339]#011train's binary_logloss: 0.436502#011val's binary_logloss: 0.442603\u001b[0m\n",
      "\u001b[34m[340]#011train's binary_logloss: 0.436449#011val's binary_logloss: 0.442572\u001b[0m\n",
      "\u001b[34m[341]#011train's binary_logloss: 0.436409#011val's binary_logloss: 0.442549\u001b[0m\n",
      "\u001b[34m[342]#011train's binary_logloss: 0.436359#011val's binary_logloss: 0.442517\u001b[0m\n",
      "\u001b[34m[343]#011train's binary_logloss: 0.436309#011val's binary_logloss: 0.442485\u001b[0m\n",
      "\u001b[34m[344]#011train's binary_logloss: 0.436272#011val's binary_logloss: 0.442459\u001b[0m\n",
      "\u001b[34m[345]#011train's binary_logloss: 0.436226#011val's binary_logloss: 0.442429\u001b[0m\n",
      "\u001b[34m[346]#011train's binary_logloss: 0.436175#011val's binary_logloss: 0.442382\u001b[0m\n",
      "\u001b[34m[347]#011train's binary_logloss: 0.436124#011val's binary_logloss: 0.442337\u001b[0m\n",
      "\u001b[34m[348]#011train's binary_logloss: 0.436074#011val's binary_logloss: 0.442303\u001b[0m\n",
      "\u001b[34m[349]#011train's binary_logloss: 0.436026#011val's binary_logloss: 0.442255\u001b[0m\n",
      "\u001b[34m[350]#011train's binary_logloss: 0.435987#011val's binary_logloss: 0.442233\u001b[0m\n",
      "\u001b[34m[351]#011train's binary_logloss: 0.435939#011val's binary_logloss: 0.442206\u001b[0m\n",
      "\u001b[34m[352]#011train's binary_logloss: 0.435894#011val's binary_logloss: 0.442171\u001b[0m\n",
      "\u001b[34m[353]#011train's binary_logloss: 0.435848#011val's binary_logloss: 0.442141\u001b[0m\n",
      "\u001b[34m[354]#011train's binary_logloss: 0.435811#011val's binary_logloss: 0.442113\u001b[0m\n",
      "\u001b[34m[355]#011train's binary_logloss: 0.435766#011val's binary_logloss: 0.442087\u001b[0m\n",
      "\u001b[34m[356]#011train's binary_logloss: 0.435722#011val's binary_logloss: 0.442053\u001b[0m\n",
      "\u001b[34m[357]#011train's binary_logloss: 0.435677#011val's binary_logloss: 0.442013\u001b[0m\n",
      "\u001b[34m[358]#011train's binary_logloss: 0.435634#011val's binary_logloss: 0.441966\u001b[0m\n",
      "\u001b[34m[359]#011train's binary_logloss: 0.435588#011val's binary_logloss: 0.441924\u001b[0m\n",
      "\u001b[34m[360]#011train's binary_logloss: 0.435547#011val's binary_logloss: 0.441882\u001b[0m\n",
      "\u001b[34m[361]#011train's binary_logloss: 0.435512#011val's binary_logloss: 0.441864\u001b[0m\n",
      "\u001b[34m[362]#011train's binary_logloss: 0.435469#011val's binary_logloss: 0.441838\u001b[0m\n",
      "\u001b[34m[363]#011train's binary_logloss: 0.435426#011val's binary_logloss: 0.441798\u001b[0m\n",
      "\u001b[34m[364]#011train's binary_logloss: 0.435385#011val's binary_logloss: 0.441773\u001b[0m\n",
      "\u001b[34m[365]#011train's binary_logloss: 0.435342#011val's binary_logloss: 0.441735\u001b[0m\n",
      "\u001b[34m[366]#011train's binary_logloss: 0.435304#011val's binary_logloss: 0.441706\u001b[0m\n",
      "\u001b[34m[367]#011train's binary_logloss: 0.435262#011val's binary_logloss: 0.441674\u001b[0m\n",
      "\u001b[34m[368]#011train's binary_logloss: 0.435225#011val's binary_logloss: 0.441645\u001b[0m\n",
      "\u001b[34m[369]#011train's binary_logloss: 0.435184#011val's binary_logloss: 0.441612\u001b[0m\n",
      "\u001b[34m[370]#011train's binary_logloss: 0.435153#011val's binary_logloss: 0.441597\u001b[0m\n",
      "\u001b[34m[371]#011train's binary_logloss: 0.435106#011val's binary_logloss: 0.441572\u001b[0m\n",
      "\u001b[34m[372]#011train's binary_logloss: 0.435066#011val's binary_logloss: 0.441535\u001b[0m\n",
      "\u001b[34m[373]#011train's binary_logloss: 0.435026#011val's binary_logloss: 0.441503\u001b[0m\n",
      "\u001b[34m[374]#011train's binary_logloss: 0.434992#011val's binary_logloss: 0.441482\u001b[0m\n",
      "\u001b[34m[375]#011train's binary_logloss: 0.434953#011val's binary_logloss: 0.441463\u001b[0m\n",
      "\u001b[34m[376]#011train's binary_logloss: 0.434916#011val's binary_logloss: 0.441441\u001b[0m\n",
      "\u001b[34m[377]#011train's binary_logloss: 0.434879#011val's binary_logloss: 0.441418\u001b[0m\n",
      "\u001b[34m[378]#011train's binary_logloss: 0.43485#011val's binary_logloss: 0.441395\u001b[0m\n",
      "\u001b[34m[379]#011train's binary_logloss: 0.434814#011val's binary_logloss: 0.441365\u001b[0m\n",
      "\u001b[34m[380]#011train's binary_logloss: 0.434781#011val's binary_logloss: 0.441354\u001b[0m\n",
      "\u001b[34m[381]#011train's binary_logloss: 0.434748#011val's binary_logloss: 0.441332\u001b[0m\n",
      "\u001b[34m[382]#011train's binary_logloss: 0.434717#011val's binary_logloss: 0.441317\u001b[0m\n",
      "\u001b[34m[383]#011train's binary_logloss: 0.434675#011val's binary_logloss: 0.441285\u001b[0m\n",
      "\u001b[34m[384]#011train's binary_logloss: 0.434637#011val's binary_logloss: 0.441272\u001b[0m\n",
      "\u001b[34m[385]#011train's binary_logloss: 0.434604#011val's binary_logloss: 0.441259\u001b[0m\n",
      "\u001b[34m[386]#011train's binary_logloss: 0.434569#011val's binary_logloss: 0.441228\u001b[0m\n",
      "\u001b[34m[387]#011train's binary_logloss: 0.43454#011val's binary_logloss: 0.44121\u001b[0m\n",
      "\u001b[34m[388]#011train's binary_logloss: 0.434505#011val's binary_logloss: 0.441193\u001b[0m\n",
      "\u001b[34m[389]#011train's binary_logloss: 0.434477#011val's binary_logloss: 0.441177\u001b[0m\n",
      "\u001b[34m[390]#011train's binary_logloss: 0.434445#011val's binary_logloss: 0.441158\u001b[0m\n",
      "\u001b[34m[391]#011train's binary_logloss: 0.43442#011val's binary_logloss: 0.441146\u001b[0m\n",
      "\u001b[34m[392]#011train's binary_logloss: 0.434398#011val's binary_logloss: 0.441135\u001b[0m\n",
      "\u001b[34m[393]#011train's binary_logloss: 0.434372#011val's binary_logloss: 0.441122\u001b[0m\n",
      "\u001b[34m[394]#011train's binary_logloss: 0.434335#011val's binary_logloss: 0.441109\u001b[0m\n",
      "\u001b[34m[395]#011train's binary_logloss: 0.434302#011val's binary_logloss: 0.44109\u001b[0m\n",
      "\u001b[34m[396]#011train's binary_logloss: 0.434266#011val's binary_logloss: 0.441054\u001b[0m\n",
      "\u001b[34m[397]#011train's binary_logloss: 0.434235#011val's binary_logloss: 0.44102\u001b[0m\n",
      "\u001b[34m[398]#011train's binary_logloss: 0.434199#011val's binary_logloss: 0.44099\u001b[0m\n",
      "\u001b[34m[399]#011train's binary_logloss: 0.434165#011val's binary_logloss: 0.440964\u001b[0m\n",
      "\u001b[34m[400]#011train's binary_logloss: 0.434134#011val's binary_logloss: 0.440936\u001b[0m\n",
      "\u001b[34m[401]#011train's binary_logloss: 0.434111#011val's binary_logloss: 0.44093\u001b[0m\n",
      "\u001b[34m[402]#011train's binary_logloss: 0.434079#011val's binary_logloss: 0.440917\u001b[0m\n",
      "\u001b[34m[403]#011train's binary_logloss: 0.434046#011val's binary_logloss: 0.440911\u001b[0m\n",
      "\u001b[34m[404]#011train's binary_logloss: 0.43401#011val's binary_logloss: 0.440889\u001b[0m\n",
      "\u001b[34m[405]#011train's binary_logloss: 0.433975#011val's binary_logloss: 0.44087\u001b[0m\n",
      "\u001b[34m[406]#011train's binary_logloss: 0.433945#011val's binary_logloss: 0.440852\u001b[0m\n",
      "\u001b[34m[407]#011train's binary_logloss: 0.433913#011val's binary_logloss: 0.44083\u001b[0m\n",
      "\u001b[34m[408]#011train's binary_logloss: 0.433883#011val's binary_logloss: 0.44081\u001b[0m\n",
      "\u001b[34m[409]#011train's binary_logloss: 0.433856#011val's binary_logloss: 0.440791\u001b[0m\n",
      "\u001b[34m[410]#011train's binary_logloss: 0.433827#011val's binary_logloss: 0.440778\u001b[0m\n",
      "\u001b[34m[411]#011train's binary_logloss: 0.433791#011val's binary_logloss: 0.440766\u001b[0m\n",
      "\u001b[34m[412]#011train's binary_logloss: 0.433765#011val's binary_logloss: 0.440755\u001b[0m\n",
      "\u001b[34m[413]#011train's binary_logloss: 0.433738#011val's binary_logloss: 0.440738\u001b[0m\n",
      "\u001b[34m[414]#011train's binary_logloss: 0.433706#011val's binary_logloss: 0.440719\u001b[0m\n",
      "\u001b[34m[415]#011train's binary_logloss: 0.433675#011val's binary_logloss: 0.440707\u001b[0m\n",
      "\u001b[34m[416]#011train's binary_logloss: 0.433651#011val's binary_logloss: 0.4407\u001b[0m\n",
      "\u001b[34m[417]#011train's binary_logloss: 0.433621#011val's binary_logloss: 0.440689\u001b[0m\n",
      "\u001b[34m[418]#011train's binary_logloss: 0.433602#011val's binary_logloss: 0.44068\u001b[0m\n",
      "\u001b[34m[419]#011train's binary_logloss: 0.433573#011val's binary_logloss: 0.440662\u001b[0m\n",
      "\u001b[34m[420]#011train's binary_logloss: 0.433541#011val's binary_logloss: 0.440653\u001b[0m\n",
      "\u001b[34m[421]#011train's binary_logloss: 0.433515#011val's binary_logloss: 0.440639\u001b[0m\n",
      "\u001b[34m[422]#011train's binary_logloss: 0.433489#011val's binary_logloss: 0.440628\u001b[0m\n",
      "\u001b[34m[423]#011train's binary_logloss: 0.433469#011val's binary_logloss: 0.440625\u001b[0m\n",
      "\u001b[34m[424]#011train's binary_logloss: 0.433445#011val's binary_logloss: 0.440609\u001b[0m\n",
      "\u001b[34m[425]#011train's binary_logloss: 0.433422#011val's binary_logloss: 0.440601\u001b[0m\n",
      "\u001b[34m[426]#011train's binary_logloss: 0.433395#011val's binary_logloss: 0.440582\u001b[0m\n",
      "\u001b[34m[427]#011train's binary_logloss: 0.433376#011val's binary_logloss: 0.440573\u001b[0m\n",
      "\u001b[34m[428]#011train's binary_logloss: 0.433349#011val's binary_logloss: 0.440551\u001b[0m\n",
      "\u001b[34m[429]#011train's binary_logloss: 0.43333#011val's binary_logloss: 0.440537\u001b[0m\n",
      "\u001b[34m[430]#011train's binary_logloss: 0.43331#011val's binary_logloss: 0.440526\u001b[0m\n",
      "\u001b[34m[431]#011train's binary_logloss: 0.433291#011val's binary_logloss: 0.44052\u001b[0m\n",
      "\u001b[34m[432]#011train's binary_logloss: 0.43327#011val's binary_logloss: 0.440511\u001b[0m\n",
      "\u001b[34m[433]#011train's binary_logloss: 0.433248#011val's binary_logloss: 0.440503\u001b[0m\n",
      "\u001b[34m[434]#011train's binary_logloss: 0.43323#011val's binary_logloss: 0.440495\u001b[0m\n",
      "\u001b[34m[435]#011train's binary_logloss: 0.433204#011val's binary_logloss: 0.440487\u001b[0m\n",
      "\u001b[34m[436]#011train's binary_logloss: 0.433182#011val's binary_logloss: 0.440466\u001b[0m\n",
      "\u001b[34m[437]#011train's binary_logloss: 0.433159#011val's binary_logloss: 0.44045\u001b[0m\n",
      "\u001b[34m[438]#011train's binary_logloss: 0.433136#011val's binary_logloss: 0.440441\u001b[0m\n",
      "\u001b[34m[439]#011train's binary_logloss: 0.43311#011val's binary_logloss: 0.440427\u001b[0m\n",
      "\u001b[34m[440]#011train's binary_logloss: 0.433086#011val's binary_logloss: 0.44041\u001b[0m\n",
      "\u001b[34m[441]#011train's binary_logloss: 0.433063#011val's binary_logloss: 0.440392\u001b[0m\n",
      "\u001b[34m[442]#011train's binary_logloss: 0.433045#011val's binary_logloss: 0.440381\u001b[0m\n",
      "\u001b[34m[443]#011train's binary_logloss: 0.433026#011val's binary_logloss: 0.440369\u001b[0m\n",
      "\u001b[34m[444]#011train's binary_logloss: 0.433005#011val's binary_logloss: 0.440349\u001b[0m\n",
      "\u001b[34m[445]#011train's binary_logloss: 0.432977#011val's binary_logloss: 0.440344\u001b[0m\n",
      "\u001b[34m[446]#011train's binary_logloss: 0.432953#011val's binary_logloss: 0.440334\u001b[0m\n",
      "\u001b[34m[447]#011train's binary_logloss: 0.432933#011val's binary_logloss: 0.440332\u001b[0m\n",
      "\u001b[34m[448]#011train's binary_logloss: 0.432908#011val's binary_logloss: 0.44032\u001b[0m\n",
      "\u001b[34m[449]#011train's binary_logloss: 0.432882#011val's binary_logloss: 0.44032\u001b[0m\n",
      "\u001b[34m[450]#011train's binary_logloss: 0.432864#011val's binary_logloss: 0.440321\u001b[0m\n",
      "\u001b[34m[451]#011train's binary_logloss: 0.432842#011val's binary_logloss: 0.44031\u001b[0m\n",
      "\u001b[34m[452]#011train's binary_logloss: 0.432819#011val's binary_logloss: 0.440302\u001b[0m\n",
      "\u001b[34m[453]#011train's binary_logloss: 0.432797#011val's binary_logloss: 0.440303\u001b[0m\n",
      "\u001b[34m[454]#011train's binary_logloss: 0.432778#011val's binary_logloss: 0.440294\u001b[0m\n",
      "\u001b[34m[455]#011train's binary_logloss: 0.432755#011val's binary_logloss: 0.440285\u001b[0m\n",
      "\u001b[34m[456]#011train's binary_logloss: 0.432734#011val's binary_logloss: 0.440263\u001b[0m\n",
      "\u001b[34m[457]#011train's binary_logloss: 0.432717#011val's binary_logloss: 0.440264\u001b[0m\n",
      "\u001b[34m[458]#011train's binary_logloss: 0.4327#011val's binary_logloss: 0.440261\u001b[0m\n",
      "\u001b[34m[459]#011train's binary_logloss: 0.432674#011val's binary_logloss: 0.44026\u001b[0m\n",
      "\u001b[34m[460]#011train's binary_logloss: 0.432657#011val's binary_logloss: 0.44026\u001b[0m\n",
      "\u001b[34m[461]#011train's binary_logloss: 0.432634#011val's binary_logloss: 0.440259\u001b[0m\n",
      "\u001b[34m[462]#011train's binary_logloss: 0.432609#011val's binary_logloss: 0.440259\u001b[0m\n",
      "\u001b[34m[463]#011train's binary_logloss: 0.432587#011val's binary_logloss: 0.440259\u001b[0m\n",
      "\u001b[34m[464]#011train's binary_logloss: 0.432561#011val's binary_logloss: 0.440254\u001b[0m\n",
      "\u001b[34m[465]#011train's binary_logloss: 0.432544#011val's binary_logloss: 0.440255\u001b[0m\n",
      "\u001b[34m[466]#011train's binary_logloss: 0.432522#011val's binary_logloss: 0.440255\u001b[0m\n",
      "\u001b[34m[467]#011train's binary_logloss: 0.432497#011val's binary_logloss: 0.440245\u001b[0m\n",
      "\u001b[34m[468]#011train's binary_logloss: 0.432476#011val's binary_logloss: 0.440238\u001b[0m\n",
      "\u001b[34m[469]#011train's binary_logloss: 0.432453#011val's binary_logloss: 0.44023\u001b[0m\n",
      "\u001b[34m[470]#011train's binary_logloss: 0.432435#011val's binary_logloss: 0.440234\u001b[0m\n",
      "\u001b[34m[471]#011train's binary_logloss: 0.432412#011val's binary_logloss: 0.440227\u001b[0m\n",
      "\u001b[34m[472]#011train's binary_logloss: 0.432391#011val's binary_logloss: 0.44022\u001b[0m\n",
      "\u001b[34m[473]#011train's binary_logloss: 0.432377#011val's binary_logloss: 0.440215\u001b[0m\n",
      "\u001b[34m[474]#011train's binary_logloss: 0.432362#011val's binary_logloss: 0.4402\u001b[0m\n",
      "\u001b[34m[475]#011train's binary_logloss: 0.432338#011val's binary_logloss: 0.440204\u001b[0m\n",
      "\u001b[34m[476]#011train's binary_logloss: 0.432318#011val's binary_logloss: 0.440195\u001b[0m\n",
      "\u001b[34m[477]#011train's binary_logloss: 0.432299#011val's binary_logloss: 0.440184\u001b[0m\n",
      "\u001b[34m[478]#011train's binary_logloss: 0.432277#011val's binary_logloss: 0.440181\u001b[0m\n",
      "\u001b[34m[479]#011train's binary_logloss: 0.432258#011val's binary_logloss: 0.440171\u001b[0m\n",
      "\u001b[34m[480]#011train's binary_logloss: 0.43224#011val's binary_logloss: 0.440165\u001b[0m\n",
      "\u001b[34m[481]#011train's binary_logloss: 0.432227#011val's binary_logloss: 0.440151\u001b[0m\n",
      "\u001b[34m[482]#011train's binary_logloss: 0.432208#011val's binary_logloss: 0.440141\u001b[0m\n",
      "\u001b[34m[483]#011train's binary_logloss: 0.43219#011val's binary_logloss: 0.440127\u001b[0m\n",
      "\u001b[34m[484]#011train's binary_logloss: 0.432174#011val's binary_logloss: 0.440123\u001b[0m\n",
      "\u001b[34m[485]#011train's binary_logloss: 0.43216#011val's binary_logloss: 0.440113\u001b[0m\n",
      "\u001b[34m[486]#011train's binary_logloss: 0.432141#011val's binary_logloss: 0.440111\u001b[0m\n",
      "\u001b[34m[487]#011train's binary_logloss: 0.432129#011val's binary_logloss: 0.440111\u001b[0m\n",
      "\u001b[34m[488]#011train's binary_logloss: 0.432117#011val's binary_logloss: 0.440113\u001b[0m\n",
      "\u001b[34m[489]#011train's binary_logloss: 0.432103#011val's binary_logloss: 0.440117\u001b[0m\n",
      "\u001b[34m[490]#011train's binary_logloss: 0.432084#011val's binary_logloss: 0.440112\u001b[0m\n",
      "\u001b[34m[491]#011train's binary_logloss: 0.43207#011val's binary_logloss: 0.440111\u001b[0m\n",
      "\u001b[34m[492]#011train's binary_logloss: 0.432053#011val's binary_logloss: 0.4401\u001b[0m\n",
      "\u001b[34m[493]#011train's binary_logloss: 0.432035#011val's binary_logloss: 0.44009\u001b[0m\n",
      "\u001b[34m[494]#011train's binary_logloss: 0.432019#011val's binary_logloss: 0.440094\u001b[0m\n",
      "\u001b[34m[495]#011train's binary_logloss: 0.432007#011val's binary_logloss: 0.440089\u001b[0m\n",
      "\u001b[34m[496]#011train's binary_logloss: 0.43199#011val's binary_logloss: 0.440079\u001b[0m\n",
      "\u001b[34m[497]#011train's binary_logloss: 0.431973#011val's binary_logloss: 0.440065\u001b[0m\n",
      "\u001b[34m[498]#011train's binary_logloss: 0.431961#011val's binary_logloss: 0.440063\u001b[0m\n",
      "\u001b[34m[499]#011train's binary_logloss: 0.431943#011val's binary_logloss: 0.440054\u001b[0m\n",
      "\u001b[34m[500]#011train's binary_logloss: 0.431926#011val's binary_logloss: 0.440041\u001b[0m\n",
      "\u001b[34mDid not meet early stopping. Best iteration is:\u001b[0m\n",
      "\u001b[34m[500]#011train's binary_logloss: 0.431926#011val's binary_logloss: 0.440041\u001b[0m\n",
      "\u001b[34mINFO:root:Saving model...\u001b[0m\n",
      "\u001b[34mINFO:root:Info file not found at '_input_model_extracted/__models_info__.json'.\u001b[0m\n",
      "\u001b[34m2023-03-29 02:10:52,526 sagemaker-training-toolkit INFO     Reporting training SUCCESS\u001b[0m\n",
      "\n",
      "2023-03-29 02:11:14 Uploading - Uploading generated training model\n",
      "2023-03-29 02:11:14 Completed - Training job completed\n",
      "Training seconds: 112\n",
      "Billable seconds: 112\n"
     ]
    }
   ],
   "source": [
    "# Launch a SageMaker Training job by passing the S3 path of the training data\n",
    "tabular_estimator.fit(\n",
    "    {\n",
    "        \"train\": training_dataset_s3_path,\n",
    "        \"validation\": validation_dataset_s3_path,\n",
    "    }, logs=True, job_name=training_job_name\n",
    ")"
   ]
  },
  {
   "cell_type": "markdown",
   "id": "5c65a0ef-8ba5-4447-8494-fd45005f2f4a",
   "metadata": {},
   "source": [
    "## LightGBM Hyperparameter Tuning"
   ]
  },
  {
   "cell_type": "code",
   "execution_count": 11,
   "id": "4f6720b5-bb8f-49a5-8a09-500eb3b8c5ec",
   "metadata": {
    "tags": []
   },
   "outputs": [],
   "source": [
    "tuned_output_prefix = \"training_results/lightgbm-tuned\"\n",
    "tuned_s3_output_location = f\"s3://{output_bucket}/{tuned_output_prefix}/output\""
   ]
  },
  {
   "cell_type": "code",
   "execution_count": 12,
   "id": "d040324b-bccc-47f8-ac3c-f99e6f52c502",
   "metadata": {
    "tags": []
   },
   "outputs": [],
   "source": [
    "hyperparameter_ranges = {\n",
    "    \"learning_rate\": ContinuousParameter(1e-4, 1, scaling_type=\"Logarithmic\"),\n",
    "    \"num_boost_round\": IntegerParameter(50, 1000),\n",
    "    \"early_stopping_rounds\": IntegerParameter(2, 30),\n",
    "    \"num_leaves\": IntegerParameter(10, 50),\n",
    "    \"feature_fraction\": ContinuousParameter(0, 1),\n",
    "    \"bagging_fraction\": ContinuousParameter(0, 1),\n",
    "    \"bagging_freq\": IntegerParameter(1, 10),\n",
    "    \"max_depth\": IntegerParameter(5, 30),\n",
    "    \"min_data_in_leaf\": IntegerParameter(5, 50)\n",
    "}"
   ]
  },
  {
   "cell_type": "code",
   "execution_count": 13,
   "id": "8c15cd33-1ead-447d-921c-95e2d56887a3",
   "metadata": {
    "tags": []
   },
   "outputs": [
    {
     "data": {
      "text/plain": [
       "'built-in-algo-lightgbm-classification-m-2023-03-29-02-14-39-210'"
      ]
     },
     "execution_count": 13,
     "metadata": {},
     "output_type": "execute_result"
    }
   ],
   "source": [
    "tune_time_stamp = datetime.strftime(datetime.now(), '%Y-%m-%d-%H-%M')\n",
    "tuning_job_name = name_from_base(f\"built-in-algo-{train_model_id}-hptuning-training-{time_stamp}\")\n",
    "tuning_job_name"
   ]
  },
  {
   "cell_type": "raw",
   "id": "7408b095-ca21-43e8-b897-4d28c4761d45",
   "metadata": {
    "tags": []
   },
   "source": [
    "# Create SageMaker Estimator instance\n",
    "tabular_estimator_2 = Estimator(\n",
    "    role=aws_role,\n",
    "    image_uri=train_image_uri,\n",
    "    source_dir=train_source_uri,\n",
    "    model_uri=train_model_uri,\n",
    "    entry_point=\"transfer_learning.py\",\n",
    "    instance_count=1,\n",
    "    instance_type=training_instance_type,\n",
    "    max_run=360000,\n",
    "    hyperparameters=hyperparameters,\n",
    "    output_path=tuned_s3_output_location,\n",
    ")"
   ]
  },
  {
   "cell_type": "code",
   "execution_count": 14,
   "id": "3d6d49de-fcc5-49a1-9cd6-e98a377cb176",
   "metadata": {
    "tags": []
   },
   "outputs": [],
   "source": [
    "tuner = HyperparameterTuner(\n",
    "    estimator = tabular_estimator,\n",
    "    objective_metric_name = 'binary_logloss',#\"multi_logloss\",\n",
    "    hyperparameter_ranges = hyperparameter_ranges,\n",
    "    metric_definitions = [{\"Name\": \"binary_logloss\", \"Regex\": \"binary_logloss: ([0-9\\\\.]+)\"}],\n",
    "    max_jobs=10,\n",
    "    max_parallel_jobs=2,\n",
    "    objective_type=\"Minimize\",\n",
    "    base_tuning_job_name=training_job_name,\n",
    ")\n",
    "# else:\n",
    "#     print('skipped tuning')\n",
    "#     # Launch a SageMaker Training job by passing s3 path of the training data\n",
    "#     tabular_estimator.fit(\n",
    "#         {\"training\": training_dataset_s3_path}, logs=True, job_name=training_job_name\n",
    "#     )"
   ]
  },
  {
   "cell_type": "code",
   "execution_count": 15,
   "id": "63eb7315-68e8-49ea-bed1-d2651d2c3154",
   "metadata": {
    "tags": []
   },
   "outputs": [
    {
     "name": "stderr",
     "output_type": "stream",
     "text": [
      "INFO:sagemaker:Creating hyperparameter tuning job with name: built-in-algo-lightg-230329-0216\n"
     ]
    },
    {
     "name": "stdout",
     "output_type": "stream",
     "text": [
      "..........................................................................................................!\n"
     ]
    }
   ],
   "source": [
    "tuner.fit({\n",
    "        \"train\": training_dataset_s3_path,\n",
    "        \"validation\": validation_dataset_s3_path,\n",
    "    }, logs=True)"
   ]
  },
  {
   "cell_type": "code",
   "execution_count": 16,
   "id": "aa90e84c-51ac-40af-a705-34b9687ba63e",
   "metadata": {
    "tags": []
   },
   "outputs": [
    {
     "name": "stdout",
     "output_type": "stream",
     "text": [
      "\n",
      "2023-03-29 02:25:12 Starting - Found matching resource for reuse\n",
      "2023-03-29 02:25:12 Downloading - Downloading input data\n",
      "2023-03-29 02:25:12 Training - Training image download completed. Training in progress.\n",
      "2023-03-29 02:25:12 Uploading - Uploading generated training model\n",
      "2023-03-29 02:25:12 Completed - Resource retained for reuse\n"
     ]
    }
   ],
   "source": [
    "best_estimator = tuner.best_estimator()"
   ]
  },
  {
   "cell_type": "code",
   "execution_count": 19,
   "id": "fc582c85-86a0-4d88-b7cf-8f028b778662",
   "metadata": {
    "tags": []
   },
   "outputs": [
    {
     "data": {
      "text/plain": [
       "'built-in-algo-lightg-230329-0216-010-bc1593b6'"
      ]
     },
     "execution_count": 19,
     "metadata": {},
     "output_type": "execute_result"
    }
   ],
   "source": [
    "tuner.best_training_job()"
   ]
  },
  {
   "cell_type": "code",
   "execution_count": 17,
   "id": "abd660af-28ff-4b12-bd1e-d180e4ca830f",
   "metadata": {
    "tags": []
   },
   "outputs": [
    {
     "data": {
      "text/plain": [
       "{'_tuning_objective_metric': 'binary_logloss',\n",
       " 'bagging_fraction': '0.6772905568883868',\n",
       " 'bagging_freq': '4',\n",
       " 'boosting': '\"gbdt\"',\n",
       " 'early_stopping_rounds': '20',\n",
       " 'feature_fraction': '0.6238013443424262',\n",
       " 'feature_fraction_bynode': '\"1.0\"',\n",
       " 'is_unbalance': '\"False\"',\n",
       " 'lambda_l1': '\"0.0\"',\n",
       " 'lambda_l2': '\"0.0\"',\n",
       " 'learning_rate': '0.30152397356934835',\n",
       " 'max_bin': '\"255\"',\n",
       " 'max_delta_step': '\"0.0\"',\n",
       " 'max_depth': '10',\n",
       " 'metric': '\"binary_logloss\"',\n",
       " 'min_data_in_leaf': '6',\n",
       " 'min_gain_to_split': '\"0.0\"',\n",
       " 'num_boost_round': '310',\n",
       " 'num_leaves': '50',\n",
       " 'num_threads': '\"0\"',\n",
       " 'sagemaker_container_log_level': '20',\n",
       " 'sagemaker_job_name': '\"sagemaker-jumpstart-2023-03-29-02-16-26-243\"',\n",
       " 'sagemaker_program': '\"transfer_learning.py\"',\n",
       " 'sagemaker_region': '\"us-east-1\"',\n",
       " 'sagemaker_submit_directory': '\"s3://jumpstart-cache-prod-us-east-1/source-directory-tarballs/lightgbm/transfer_learning/classification/v2.1.1/sourcedir.tar.gz\"',\n",
       " 'scale_pos_weight': '\"1.0\"',\n",
       " 'tree_learner': '\"serial\"',\n",
       " 'use_dask': '\"False\"',\n",
       " 'verbosity': '\"1\"'}"
      ]
     },
     "execution_count": 17,
     "metadata": {},
     "output_type": "execute_result"
    }
   ],
   "source": [
    "best_estimator.hyperparameters()"
   ]
  },
  {
   "cell_type": "markdown",
   "id": "ef3f3af8-7521-4187-bdb1-9cfd45f5730f",
   "metadata": {
    "tags": []
   },
   "source": [
    "## LightGBM Out of Sample Testing"
   ]
  },
  {
   "cell_type": "markdown",
   "id": "c8738920-5696-4ce1-817e-55fe61560a51",
   "metadata": {},
   "source": [
    "Now that I trained a model and tuned it, I want to compare the output between the untuned lightgbm model and the tuned lightgbm model."
   ]
  },
  {
   "cell_type": "markdown",
   "id": "dc733e42-34e3-4332-b00f-8211d7da7eeb",
   "metadata": {},
   "source": [
    "### Loading Trained Models"
   ]
  },
  {
   "cell_type": "code",
   "execution_count": 23,
   "id": "f3adabb6-39c2-4d3e-86d7-e6d283d3e9aa",
   "metadata": {
    "tags": []
   },
   "outputs": [
    {
     "name": "stdout",
     "output_type": "stream",
     "text": [
      "download: s3://starbucks-project-ttg/training_results/lightgbm/output/built-in-algo-lightgbm-classification-m-2023-03-29-02-08-09-247/output/model.tar.gz to ../trained_models/lightgbm/untuned_model/model.tar.gz\n"
     ]
    }
   ],
   "source": [
    "!aws s3 cp s3://starbucks-project-ttg/training_results/lightgbm/output/built-in-algo-lightgbm-classification-m-2023-03-29-02-08-09-247/output/model.tar.gz /root/starbucks_offer_response_model/trained_models/lightgbm/untuned_model"
   ]
  },
  {
   "cell_type": "code",
   "execution_count": 24,
   "id": "2fd67435-edfc-4825-a771-75eb16e1e774",
   "metadata": {
    "tags": []
   },
   "outputs": [
    {
     "name": "stdout",
     "output_type": "stream",
     "text": [
      "download: s3://starbucks-project-ttg/training_results/lightgbm/output/built-in-algo-lightg-230329-0216-010-bc1593b6/output/model.tar.gz to ../trained_models/lightgbm/tuned_model/model.tar.gz\n"
     ]
    }
   ],
   "source": [
    "!aws s3 cp s3://starbucks-project-ttg/training_results/lightgbm/output/built-in-algo-lightg-230329-0216-010-bc1593b6/output/model.tar.gz /root/starbucks_offer_response_model/trained_models/lightgbm/tuned_model"
   ]
  },
  {
   "cell_type": "code",
   "execution_count": 25,
   "id": "85987fd1-2155-4e64-a6ec-64cee59afbc6",
   "metadata": {
    "tags": []
   },
   "outputs": [],
   "source": [
    "untuned_tar_file_path = '/root/starbucks_offer_response_model/trained_models/lightgbm/untuned_model/model.tar.gz'"
   ]
  },
  {
   "cell_type": "code",
   "execution_count": 26,
   "id": "f0e97b00-056d-4bde-ab6b-db10d3480d04",
   "metadata": {
    "tags": []
   },
   "outputs": [],
   "source": [
    "t_un = tarfile.open(untuned_tar_file_path)"
   ]
  },
  {
   "cell_type": "code",
   "execution_count": 28,
   "id": "424971ff-5aa7-4a74-9c12-0928cd38ddab",
   "metadata": {
    "tags": []
   },
   "outputs": [],
   "source": [
    "t_un.extractall('/root/starbucks_offer_response_model/trained_models/lightgbm/untuned_model')"
   ]
  },
  {
   "cell_type": "code",
   "execution_count": 29,
   "id": "c4b15f14-5682-4eea-b984-a1eddda861cc",
   "metadata": {
    "tags": []
   },
   "outputs": [],
   "source": [
    "untuned_model = joblib.load('/root/starbucks_offer_response_model/trained_models/lightgbm/untuned_model/model.pkl')"
   ]
  },
  {
   "cell_type": "code",
   "execution_count": 30,
   "id": "ddd0dde3-b961-4fbc-975b-0aec34a038dc",
   "metadata": {
    "tags": []
   },
   "outputs": [],
   "source": [
    "tuned_tar_file_path = '/root/starbucks_offer_response_model/trained_models/lightgbm/tuned_model/model.tar.gz'"
   ]
  },
  {
   "cell_type": "code",
   "execution_count": 31,
   "id": "51f2b898-803b-47ee-8421-c04ffacdb462",
   "metadata": {
    "tags": []
   },
   "outputs": [],
   "source": [
    "t_t = tarfile.open(tuned_tar_file_path)"
   ]
  },
  {
   "cell_type": "code",
   "execution_count": 32,
   "id": "431c3f29-8d72-4ef2-8a1b-03d02c77a0bc",
   "metadata": {
    "tags": []
   },
   "outputs": [],
   "source": [
    "t_t.extractall('/root/starbucks_offer_response_model/trained_models/lightgbm/tuned_model')"
   ]
  },
  {
   "cell_type": "code",
   "execution_count": 33,
   "id": "2c39b476-7b76-4f65-a75b-9645066fa09f",
   "metadata": {
    "tags": []
   },
   "outputs": [],
   "source": [
    "tuned_model = joblib.load('/root/starbucks_offer_response_model/trained_models/lightgbm/tuned_model/model.pkl')"
   ]
  },
  {
   "cell_type": "markdown",
   "id": "847fdeb4-866e-47ec-9d66-863624abfa8f",
   "metadata": {},
   "source": [
    "### Loading Test Data"
   ]
  },
  {
   "cell_type": "code",
   "execution_count": 34,
   "id": "c1dd928d-8d4f-4d0a-aced-4a447733f4cb",
   "metadata": {
    "tags": []
   },
   "outputs": [],
   "source": [
    "col_num = len(pd.read_csv('/root/starbucks_offer_response_model/data/curated_data/test.csv', header = None).columns)"
   ]
  },
  {
   "cell_type": "code",
   "execution_count": 35,
   "id": "b6b83d90-0bac-4053-a3ee-9be26adfe5fa",
   "metadata": {
    "tags": []
   },
   "outputs": [],
   "source": [
    "col_list = ['offer_successful']\n",
    "for i in range(col_num-1):\n",
    "    col_list.append(f'feature_{i}')"
   ]
  },
  {
   "cell_type": "code",
   "execution_count": 36,
   "id": "3d15b13b-9964-42f4-a6a9-dc922698a814",
   "metadata": {
    "tags": []
   },
   "outputs": [],
   "source": [
    "test_df = pd.read_csv('/root/starbucks_offer_response_model/data/curated_data/test.csv', header = None)\n",
    "test_df.columns = col_list"
   ]
  },
  {
   "cell_type": "code",
   "execution_count": 37,
   "id": "d4808f07-fed2-4a43-b2b7-02df47d85784",
   "metadata": {
    "tags": []
   },
   "outputs": [],
   "source": [
    "test_x_df = test_df.iloc[:,1:]"
   ]
  },
  {
   "cell_type": "code",
   "execution_count": 38,
   "id": "33e7df6f-d35c-4279-ad8b-b4dba7f92176",
   "metadata": {
    "tags": []
   },
   "outputs": [
    {
     "data": {
      "text/plain": [
       "array([0, 0, 0, ..., 1, 0, 0])"
      ]
     },
     "execution_count": 38,
     "metadata": {},
     "output_type": "execute_result"
    }
   ],
   "source": [
    "y_actual = test_df['offer_successful'].to_numpy()\n",
    "y_actual"
   ]
  },
  {
   "cell_type": "code",
   "execution_count": 40,
   "id": "fd5822a1-9055-4508-8c0c-b31672c15ea6",
   "metadata": {
    "tags": []
   },
   "outputs": [],
   "source": [
    "y_un_pred = untuned_model.predict(test_x_df)"
   ]
  },
  {
   "cell_type": "code",
   "execution_count": 42,
   "id": "af001ef2-a73e-4e28-aac9-34c52437d2c1",
   "metadata": {
    "tags": []
   },
   "outputs": [],
   "source": [
    "y_t_pred = tuned_model.predict(test_x_df)"
   ]
  },
  {
   "cell_type": "code",
   "execution_count": 43,
   "id": "5ecc5beb-16fa-4d88-8842-9e2a048ad25e",
   "metadata": {
    "tags": []
   },
   "outputs": [
    {
     "data": {
      "text/plain": [
       "0.8389541353491653"
      ]
     },
     "execution_count": 43,
     "metadata": {},
     "output_type": "execute_result"
    }
   ],
   "source": [
    "roc_auc_score(y_actual, y_un_pred)"
   ]
  },
  {
   "cell_type": "code",
   "execution_count": 44,
   "id": "9d13bc13-6f3a-42ca-a799-0a457cef9616",
   "metadata": {
    "tags": []
   },
   "outputs": [
    {
     "data": {
      "text/plain": [
       "0.8381527030980944"
      ]
     },
     "execution_count": 44,
     "metadata": {},
     "output_type": "execute_result"
    }
   ],
   "source": [
    "roc_auc_score(y_actual, y_t_pred)"
   ]
  },
  {
   "cell_type": "markdown",
   "id": "fdccab39-0c79-4000-9f3f-07e38ca87883",
   "metadata": {},
   "source": [
    "These results are very close to each other which indicates that hyperparameter tuning did not add much to this models over all value. Because of that I can choose the tuned model when deploying and comparing to the logistic regression."
   ]
  },
  {
   "cell_type": "code",
   "execution_count": 75,
   "id": "400968b7-fb0a-46b0-977e-05bf832ae1f3",
   "metadata": {
    "tags": []
   },
   "outputs": [],
   "source": [
    "from sklearn.metrics import roc_curve"
   ]
  },
  {
   "cell_type": "code",
   "execution_count": 76,
   "id": "d87192b2-ee04-4992-8f87-579e02d39517",
   "metadata": {
    "tags": []
   },
   "outputs": [],
   "source": [
    "fpr, tpr, thresholds = roc_curve(y_actual, y_t_pred)"
   ]
  },
  {
   "cell_type": "code",
   "execution_count": 77,
   "id": "5521a102-4c60-4219-b95d-3ec69f19ecdb",
   "metadata": {
    "tags": []
   },
   "outputs": [
    {
     "data": {
      "image/png": "[encoded data removed]",
      "text/plain": [
       "<Figure size 640x480 with 1 Axes>"
      ]
     },
     "metadata": {},
     "output_type": "display_data"
    }
   ],
   "source": [
    "plt.plot(fpr,tpr)\n",
    "plt.xlabel('False Positive Rate')\n",
    "plt.ylabel('True Positive Rate')\n",
    "plt.show()"
   ]
  },
  {
   "cell_type": "markdown",
   "id": "c730b88f-63b6-4cdb-9285-a27314ca463d",
   "metadata": {},
   "source": [
    "Need an appropriate threshold to calculate the labels. I'll use Youden's J Statistic\n",
    "\n",
    "You can read more [here](https://en.wikipedia.org/wiki/Youden%27s_J_statistic) and [here](https://stackoverflow.com/questions/28719067/roc-curve-and-cut-off-point-python)."
   ]
  },
  {
   "cell_type": "code",
   "execution_count": 78,
   "id": "2712f47b-6b42-4492-b338-5117f1f27fb7",
   "metadata": {
    "tags": []
   },
   "outputs": [
    {
     "data": {
      "text/html": [
       "<div>\n",
       "<style scoped>\n",
       "    .dataframe tbody tr th:only-of-type {\n",
       "        vertical-align: middle;\n",
       "    }\n",
       "\n",
       "    .dataframe tbody tr th {\n",
       "        vertical-align: top;\n",
       "    }\n",
       "\n",
       "    .dataframe thead th {\n",
       "        text-align: right;\n",
       "    }\n",
       "</style>\n",
       "<table border=\"1\" class=\"dataframe\">\n",
       "  <thead>\n",
       "    <tr style=\"text-align: right;\">\n",
       "      <th></th>\n",
       "      <th>fpr</th>\n",
       "      <th>tpr</th>\n",
       "      <th>1-fpr</th>\n",
       "      <th>tf</th>\n",
       "      <th>thresholds</th>\n",
       "    </tr>\n",
       "  </thead>\n",
       "  <tbody>\n",
       "    <tr>\n",
       "      <th>741</th>\n",
       "      <td>0.251886</td>\n",
       "      <td>0.747107</td>\n",
       "      <td>0.748114</td>\n",
       "      <td>-0.001006</td>\n",
       "      <td>0.350969</td>\n",
       "    </tr>\n",
       "  </tbody>\n",
       "</table>\n",
       "</div>"
      ],
      "text/plain": [
       "          fpr       tpr     1-fpr        tf  thresholds\n",
       "741  0.251886  0.747107  0.748114 -0.001006    0.350969"
      ]
     },
     "execution_count": 78,
     "metadata": {},
     "output_type": "execute_result"
    }
   ],
   "source": [
    "i = np.arange(len(tpr)) # index for df\n",
    "roc = pd.DataFrame({'fpr' : pd.Series(fpr, index=i),'tpr' : pd.Series(tpr, index = i), '1-fpr' : pd.Series(1-fpr, index = i), 'tf' : pd.Series(tpr - (1-fpr), index = i), 'thresholds' : pd.Series(thresholds, index = i)})\n",
    "roc.iloc[(roc.tf-0).abs().argsort()[:1]]"
   ]
  },
  {
   "cell_type": "code",
   "execution_count": 90,
   "id": "95d938f3-9119-4978-9455-a671371f9742",
   "metadata": {
    "tags": []
   },
   "outputs": [
    {
     "data": {
      "text/plain": [
       "0.7477059594635475"
      ]
     },
     "execution_count": 90,
     "metadata": {},
     "output_type": "execute_result"
    }
   ],
   "source": [
    "accuracy_score(y_actual, np.where(y_t_pred > 0.350969, 1, 0))"
   ]
  },
  {
   "cell_type": "code",
   "execution_count": 91,
   "id": "7a08b2cd-5b1c-4ebd-b477-ee1f87987acc",
   "metadata": {
    "tags": []
   },
   "outputs": [
    {
     "data": {
      "text/plain": [
       "0.6432848588537211"
      ]
     },
     "execution_count": 91,
     "metadata": {},
     "output_type": "execute_result"
    }
   ],
   "source": [
    "f1_score(y_actual, np.where(y_t_pred > 0.350969, 1, 0))"
   ]
  },
  {
   "cell_type": "code",
   "execution_count": 80,
   "id": "d5aa9e03-08fa-4503-af3e-cdbc29c5c701",
   "metadata": {
    "tags": []
   },
   "outputs": [
    {
     "data": {
      "text/plain": [
       "<matplotlib.axes._subplots.AxesSubplot at 0x7f512d43a0d0>"
      ]
     },
     "execution_count": 80,
     "metadata": {},
     "output_type": "execute_result"
    }
   ],
   "source": [
    "lightgbm.plot_importance(tuned_model)"
   ]
  },
  {
   "cell_type": "code",
   "execution_count": 81,
   "id": "cbff492b-a11e-4d86-97a6-ab1bb48a14ee",
   "metadata": {
    "tags": []
   },
   "outputs": [
    {
     "data": {
      "image/png": "[encoded data removed]",
      "text/plain": [
       "<Figure size 640x480 with 1 Axes>"
      ]
     },
     "metadata": {},
     "output_type": "display_data"
    }
   ],
   "source": [
    "plt.show()"
   ]
  },
  {
   "cell_type": "markdown",
   "id": "0e47e8e0-ab9b-431e-80ef-a801d87d9ec7",
   "metadata": {},
   "source": [
    "## Deploying LightGBM"
   ]
  },
  {
   "cell_type": "code",
   "execution_count": 82,
   "id": "241896d4-4ef4-44cf-9ad2-d5deef387b32",
   "metadata": {
    "tags": []
   },
   "outputs": [],
   "source": [
    "inference_instance_type = \"ml.m5.large\"\n",
    "time_stamp2 = datetime.strftime(datetime.now(), '%Y-%m-%d-%H-%M')\n",
    "# Retrieve the inference docker container uri\n",
    "deploy_image_uri = image_uris.retrieve(\n",
    "    region=None,\n",
    "    framework=None,\n",
    "    image_scope=\"inference\",\n",
    "    model_id=train_model_id,\n",
    "    model_version=train_model_version,\n",
    "    instance_type=inference_instance_type,\n",
    ")\n",
    "# Retrieve the inference script uri\n",
    "deploy_source_uri = script_uris.retrieve(\n",
    "    model_id=train_model_id, model_version=train_model_version, script_scope=\"inference\"\n",
    ")\n",
    "\n"
   ]
  },
  {
   "cell_type": "code",
   "execution_count": 83,
   "id": "7b0d417b-3f3d-404b-9241-d56f7c4b039c",
   "metadata": {
    "tags": []
   },
   "outputs": [
    {
     "name": "stderr",
     "output_type": "stream",
     "text": [
      "INFO:sagemaker:Creating model with name: sagemaker-jumpstart-2023-03-29-03-37-55-501\n",
      "INFO:sagemaker:Creating endpoint-config with name lightgbm-2023-03-29-03-37-2023-03-29-03-37-55-500\n",
      "INFO:sagemaker:Creating endpoint with name lightgbm-2023-03-29-03-37-2023-03-29-03-37-55-500\n"
     ]
    },
    {
     "name": "stdout",
     "output_type": "stream",
     "text": [
      "------!"
     ]
    }
   ],
   "source": [
    "endpoint_name = name_from_base(f\"lightgbm-{time_stamp2}\")\n",
    "\n",
    "# Use the estimator from the previous step to deploy to a SageMaker endpoint\n",
    "predictor = best_estimator.deploy(\n",
    "    initial_instance_count=1,\n",
    "    instance_type=inference_instance_type,\n",
    "    entry_point=\"inference.py\",\n",
    "    image_uri=deploy_image_uri,\n",
    "    source_dir=deploy_source_uri,\n",
    "    endpoint_name=endpoint_name,\n",
    ")"
   ]
  },
  {
   "cell_type": "code",
   "execution_count": 84,
   "id": "826b3148-14e4-414a-9108-625f14f94b46",
   "metadata": {
    "tags": []
   },
   "outputs": [
    {
     "name": "stdout",
     "output_type": "stream",
     "text": [
      "\u001b[1mThe test dataset contains 9917 examples and 25 columns.\u001b[0m\n",
      "\n",
      "\u001b[1mThe first 5 observations of the data: \u001b[0m \n",
      "\n"
     ]
    },
    {
     "data": {
      "text/html": [
       "<div>\n",
       "<style scoped>\n",
       "    .dataframe tbody tr th:only-of-type {\n",
       "        vertical-align: middle;\n",
       "    }\n",
       "\n",
       "    .dataframe tbody tr th {\n",
       "        vertical-align: top;\n",
       "    }\n",
       "\n",
       "    .dataframe thead th {\n",
       "        text-align: right;\n",
       "    }\n",
       "</style>\n",
       "<table border=\"1\" class=\"dataframe\">\n",
       "  <thead>\n",
       "    <tr style=\"text-align: right;\">\n",
       "      <th></th>\n",
       "      <th>Target</th>\n",
       "      <th>Feature_1</th>\n",
       "      <th>Feature_2</th>\n",
       "      <th>Feature_3</th>\n",
       "      <th>Feature_4</th>\n",
       "      <th>Feature_5</th>\n",
       "      <th>Feature_6</th>\n",
       "      <th>Feature_7</th>\n",
       "      <th>Feature_8</th>\n",
       "      <th>Feature_9</th>\n",
       "      <th>...</th>\n",
       "      <th>Feature_15</th>\n",
       "      <th>Feature_16</th>\n",
       "      <th>Feature_17</th>\n",
       "      <th>Feature_18</th>\n",
       "      <th>Feature_19</th>\n",
       "      <th>Feature_20</th>\n",
       "      <th>Feature_21</th>\n",
       "      <th>Feature_22</th>\n",
       "      <th>Feature_23</th>\n",
       "      <th>Feature_24</th>\n",
       "    </tr>\n",
       "  </thead>\n",
       "  <tbody>\n",
       "    <tr>\n",
       "      <th>0</th>\n",
       "      <td>0</td>\n",
       "      <td>2.0</td>\n",
       "      <td>10.0</td>\n",
       "      <td>7.0</td>\n",
       "      <td>1.0</td>\n",
       "      <td>1.0</td>\n",
       "      <td>0.0</td>\n",
       "      <td>1.0</td>\n",
       "      <td>0.0</td>\n",
       "      <td>1.0</td>\n",
       "      <td>...</td>\n",
       "      <td>0</td>\n",
       "      <td>0</td>\n",
       "      <td>0</td>\n",
       "      <td>1</td>\n",
       "      <td>0</td>\n",
       "      <td>0</td>\n",
       "      <td>1</td>\n",
       "      <td>0</td>\n",
       "      <td>0</td>\n",
       "      <td>1</td>\n",
       "    </tr>\n",
       "    <tr>\n",
       "      <th>1</th>\n",
       "      <td>0</td>\n",
       "      <td>0.0</td>\n",
       "      <td>0.0</td>\n",
       "      <td>3.0</td>\n",
       "      <td>1.0</td>\n",
       "      <td>1.0</td>\n",
       "      <td>1.0</td>\n",
       "      <td>0.0</td>\n",
       "      <td>0.0</td>\n",
       "      <td>0.0</td>\n",
       "      <td>...</td>\n",
       "      <td>0</td>\n",
       "      <td>0</td>\n",
       "      <td>1</td>\n",
       "      <td>0</td>\n",
       "      <td>0</td>\n",
       "      <td>0</td>\n",
       "      <td>1</td>\n",
       "      <td>0</td>\n",
       "      <td>0</td>\n",
       "      <td>2</td>\n",
       "    </tr>\n",
       "    <tr>\n",
       "      <th>2</th>\n",
       "      <td>0</td>\n",
       "      <td>10.0</td>\n",
       "      <td>10.0</td>\n",
       "      <td>5.0</td>\n",
       "      <td>1.0</td>\n",
       "      <td>1.0</td>\n",
       "      <td>1.0</td>\n",
       "      <td>1.0</td>\n",
       "      <td>1.0</td>\n",
       "      <td>0.0</td>\n",
       "      <td>...</td>\n",
       "      <td>0</td>\n",
       "      <td>0</td>\n",
       "      <td>0</td>\n",
       "      <td>1</td>\n",
       "      <td>0</td>\n",
       "      <td>1</td>\n",
       "      <td>0</td>\n",
       "      <td>0</td>\n",
       "      <td>0</td>\n",
       "      <td>2</td>\n",
       "    </tr>\n",
       "    <tr>\n",
       "      <th>3</th>\n",
       "      <td>1</td>\n",
       "      <td>5.0</td>\n",
       "      <td>5.0</td>\n",
       "      <td>5.0</td>\n",
       "      <td>1.0</td>\n",
       "      <td>1.0</td>\n",
       "      <td>1.0</td>\n",
       "      <td>1.0</td>\n",
       "      <td>1.0</td>\n",
       "      <td>0.0</td>\n",
       "      <td>...</td>\n",
       "      <td>1</td>\n",
       "      <td>0</td>\n",
       "      <td>0</td>\n",
       "      <td>0</td>\n",
       "      <td>0</td>\n",
       "      <td>1</td>\n",
       "      <td>0</td>\n",
       "      <td>0</td>\n",
       "      <td>0</td>\n",
       "      <td>2</td>\n",
       "    </tr>\n",
       "    <tr>\n",
       "      <th>4</th>\n",
       "      <td>1</td>\n",
       "      <td>5.0</td>\n",
       "      <td>20.0</td>\n",
       "      <td>10.0</td>\n",
       "      <td>1.0</td>\n",
       "      <td>0.0</td>\n",
       "      <td>0.0</td>\n",
       "      <td>1.0</td>\n",
       "      <td>0.0</td>\n",
       "      <td>1.0</td>\n",
       "      <td>...</td>\n",
       "      <td>0</td>\n",
       "      <td>0</td>\n",
       "      <td>1</td>\n",
       "      <td>0</td>\n",
       "      <td>0</td>\n",
       "      <td>1</td>\n",
       "      <td>0</td>\n",
       "      <td>0</td>\n",
       "      <td>0</td>\n",
       "      <td>3</td>\n",
       "    </tr>\n",
       "  </tbody>\n",
       "</table>\n",
       "<p>5 rows × 25 columns</p>\n",
       "</div>"
      ],
      "text/plain": [
       "   Target  Feature_1  Feature_2  Feature_3  Feature_4  Feature_5  Feature_6  \\\n",
       "0       0        2.0       10.0        7.0        1.0        1.0        0.0   \n",
       "1       0        0.0        0.0        3.0        1.0        1.0        1.0   \n",
       "2       0       10.0       10.0        5.0        1.0        1.0        1.0   \n",
       "3       1        5.0        5.0        5.0        1.0        1.0        1.0   \n",
       "4       1        5.0       20.0       10.0        1.0        0.0        0.0   \n",
       "\n",
       "   Feature_7  Feature_8  Feature_9  ...  Feature_15  Feature_16  Feature_17  \\\n",
       "0        1.0        0.0        1.0  ...           0           0           0   \n",
       "1        0.0        0.0        0.0  ...           0           0           1   \n",
       "2        1.0        1.0        0.0  ...           0           0           0   \n",
       "3        1.0        1.0        0.0  ...           1           0           0   \n",
       "4        1.0        0.0        1.0  ...           0           0           1   \n",
       "\n",
       "   Feature_18  Feature_19  Feature_20  Feature_21  Feature_22  Feature_23  \\\n",
       "0           1           0           0           1           0           0   \n",
       "1           0           0           0           1           0           0   \n",
       "2           1           0           1           0           0           0   \n",
       "3           0           0           1           0           0           0   \n",
       "4           0           0           1           0           0           0   \n",
       "\n",
       "   Feature_24  \n",
       "0           1  \n",
       "1           2  \n",
       "2           2  \n",
       "3           2  \n",
       "4           3  \n",
       "\n",
       "[5 rows x 25 columns]"
      ]
     },
     "execution_count": 84,
     "metadata": {},
     "output_type": "execute_result"
    }
   ],
   "source": [
    "newline, bold, unbold = \"\\n\", \"\\033[1m\", \"\\033[0m\"\n",
    "\n",
    "# read the data\n",
    "test_data = pd.read_csv('/root/starbucks_offer_response_model/data/curated_data/test.csv', header = None)\n",
    "\n",
    "test_data.columns = [\"Target\"] + [f\"Feature_{i}\" for i in range(1, test_data.shape[1])]\n",
    "\n",
    "num_examples, num_columns = test_data.shape\n",
    "print(\n",
    "    f\"{bold}The test dataset contains {num_examples} examples and {num_columns} columns.{unbold}\\n\"\n",
    ")\n",
    "\n",
    "# prepare the ground truth target and predicting features to send into the endpoint.\n",
    "ground_truth_label, features = test_data.iloc[:, :1], test_data.iloc[:, 1:]\n",
    "\n",
    "print(f\"{bold}The first 5 observations of the data: {unbold} \\n\")\n",
    "test_data.head(5)"
   ]
  },
  {
   "cell_type": "code",
   "execution_count": 85,
   "id": "9be47214-635f-4977-870c-f495ffc6c05f",
   "metadata": {
    "tags": []
   },
   "outputs": [],
   "source": [
    "content_type = \"text/csv\"\n",
    "\n",
    "def query_endpoint(encoded_tabular_data):\n",
    "    # endpoint_name = endpoint_name\n",
    "    client = boto3.client(\"runtime.sagemaker\")\n",
    "    response = client.invoke_endpoint(\n",
    "        EndpointName=endpoint_name, ContentType=content_type, Body=encoded_tabular_data\n",
    "    )\n",
    "    return response\n",
    "\n",
    "\n",
    "def parse_response(query_response):\n",
    "    model_predictions = json.loads(query_response[\"Body\"].read())\n",
    "    predicted_probabilities = model_predictions[\"probabilities\"]\n",
    "    return np.array(predicted_probabilities)\n"
   ]
  },
  {
   "cell_type": "code",
   "execution_count": 86,
   "id": "3368352e-bc83-4c09-8570-f01b03b5097f",
   "metadata": {
    "tags": []
   },
   "outputs": [],
   "source": [
    "import json"
   ]
  },
  {
   "cell_type": "code",
   "execution_count": 87,
   "id": "461e190a-9f62-42eb-956a-bad6771e82fd",
   "metadata": {
    "tags": []
   },
   "outputs": [],
   "source": [
    "# split the test data into smaller size of batches to query the endpoint due to the large size of test data.\n",
    "batch_size = 1500\n",
    "predict_prob = []\n",
    "for i in np.arange(0, num_examples, step=batch_size):\n",
    "    query_response_batch = query_endpoint(\n",
    "        features.iloc[i : (i + batch_size), :].to_csv(header=False, index=False).encode(\"utf-8\")\n",
    "    )\n",
    "    predict_prob_batch = parse_response(query_response_batch)  # prediction probability per batch\n",
    "    predict_prob.append(predict_prob_batch)\n",
    "\n",
    "\n",
    "predict_prob = np.concatenate(predict_prob, axis=0)\n",
    "predict_label = np.argmax(\n",
    "    predict_prob, axis=1)"
   ]
  },
  {
   "cell_type": "code",
   "execution_count": 88,
   "id": "5c0d16cd-f64d-4615-86af-f43d0b527f44",
   "metadata": {
    "tags": []
   },
   "outputs": [
    {
     "data": {
      "text/plain": [
       "array([[0.56805643, 0.43194357],\n",
       "       [0.99873616, 0.00126384],\n",
       "       [0.29664571, 0.70335429],\n",
       "       ...,\n",
       "       [0.33009965, 0.66990035],\n",
       "       [0.70140311, 0.29859689],\n",
       "       [0.80513299, 0.19486701]])"
      ]
     },
     "execution_count": 88,
     "metadata": {},
     "output_type": "execute_result"
    }
   ],
   "source": [
    "predict_prob"
   ]
  },
  {
   "cell_type": "markdown",
   "id": "de153c7a-7cd2-4d0c-87cd-163332c6bd2d",
   "metadata": {},
   "source": [
    "The above is a successful implementation of a sagemaker endpoint."
   ]
  },
  {
   "cell_type": "code",
   "execution_count": 89,
   "id": "6c9840a5-cabb-4ece-b184-f9cca3347dc8",
   "metadata": {
    "tags": []
   },
   "outputs": [
    {
     "name": "stderr",
     "output_type": "stream",
     "text": [
      "INFO:sagemaker:Deleting model with name: sagemaker-jumpstart-2023-03-29-03-37-55-501\n",
      "INFO:sagemaker:Deleting endpoint configuration with name: lightgbm-2023-03-29-03-37-2023-03-29-03-37-55-500\n",
      "INFO:sagemaker:Deleting endpoint with name: lightgbm-2023-03-29-03-37-2023-03-29-03-37-55-500\n"
     ]
    }
   ],
   "source": [
    "# Delete the SageMaker endpoint and the attached resources\n",
    "predictor.delete_model()\n",
    "predictor.delete_endpoint()"
   ]
  },
  {
   "cell_type": "markdown",
   "id": "e5c8fe80-019d-438d-8d85-5d34715b2cf6",
   "metadata": {},
   "source": [
    "# Logistic Regression"
   ]
  },
  {
   "cell_type": "code",
   "execution_count": 104,
   "id": "c5315d52-520b-41b7-9aa8-458b48145bd1",
   "metadata": {},
   "outputs": [
    {
     "name": "stderr",
     "output_type": "stream",
     "text": [
      "INFO:sagemaker.image_uris:image_uri is not presented, retrieving image_uri based on instance_type, framework etc.\n"
     ]
    }
   ],
   "source": [
    "train_model_id, train_model_version, train_scope =  \"sklearn-classification-linear\", \"*\", \"training\"\n",
    "training_instance_type = \"ml.m5.xlarge\"\n",
    "\n",
    "# Retrieve the docker image\n",
    "train_image_uri = image_uris.retrieve(\n",
    "    region=None,\n",
    "    framework=None,\n",
    "    model_id=train_model_id,\n",
    "    model_version=train_model_version,\n",
    "    image_scope=train_scope,\n",
    "    instance_type=training_instance_type,\n",
    ")\n",
    "# Retrieve the training script\n",
    "train_source_uri = script_uris.retrieve(\n",
    "    model_id=train_model_id, model_version=train_model_version, script_scope=train_scope\n",
    ")\n",
    "# Retrieve the pre-trained model tarball to further fine-tune\n",
    "train_model_uri = model_uris.retrieve(\n",
    "    model_id=train_model_id, model_version=train_model_version, model_scope=train_scope\n",
    ")"
   ]
  },
  {
   "cell_type": "code",
   "execution_count": 105,
   "id": "86b954a1-06d8-4016-b485-e4d343a80dca",
   "metadata": {},
   "outputs": [],
   "source": [
    "# Sample training data is available in this bucket\n",
    "training_data_bucket = \"starbucks-project-ttg\"\n",
    "training_data_prefix = \"data\"\n",
    "\n",
    "training_dataset_s3_path = f\"s3://{training_data_bucket}/{training_data_prefix}/train.csv\" \n",
    "validation_dataset_s3_path = f\"s3://{training_data_bucket}/{training_data_prefix}/val.csv\" \n",
    "output_bucket = \"starbucks-project-ttg\"\n",
    "output_prefix = \"logistic_regression_training_results\"\n",
    "s3_output_location = f\"s3://{output_bucket}/{output_prefix}/output\""
   ]
  },
  {
   "cell_type": "code",
   "execution_count": 106,
   "id": "d941892e-6508-4468-88f5-2c0656c0970d",
   "metadata": {
    "tags": []
   },
   "outputs": [
    {
     "name": "stdout",
     "output_type": "stream",
     "text": [
      "{'tol': '0.0001', 'penalty': 'l2', 'alpha': '0.0001', 'l1_ratio': '0.15'}\n"
     ]
    }
   ],
   "source": [
    "from sagemaker import hyperparameters\n",
    "\n",
    "# Retrieve the default hyper-parameters for fine-tuning the model\n",
    "hyperparameters = hyperparameters.retrieve_default(\n",
    "    model_id=train_model_id, model_version=train_model_version\n",
    ")\n",
    "print(hyperparameters)"
   ]
  },
  {
   "cell_type": "code",
   "execution_count": 107,
   "id": "086e468c-f7c5-4e71-aa5d-5f9b6b71352a",
   "metadata": {
    "collapsed": true,
    "jupyter": {
     "outputs_hidden": true
    },
    "tags": []
   },
   "outputs": [
    {
     "name": "stderr",
     "output_type": "stream",
     "text": [
      "INFO:sagemaker:Creating training-job with name: logistic-regression-example-sklearn-cla-2023-03-29-04-21-16-204\n"
     ]
    },
    {
     "name": "stdout",
     "output_type": "stream",
     "text": [
      "2023-03-29 04:21:17 Starting - Starting the training job...\n",
      "2023-03-29 04:21:33 Starting - Preparing the instances for training...\n",
      "2023-03-29 04:22:24 Downloading - Downloading input data...\n",
      "2023-03-29 04:22:50 Training - Downloading the training image...\n",
      "2023-03-29 04:23:00 Training - Training image download completed. Training in progress.\u001b[34m2023-03-29 04:23:10,878 sagemaker-containers INFO     Imported framework sagemaker_sklearn_container.training\u001b[0m\n",
      "\u001b[34m2023-03-29 04:23:10,882 sagemaker-training-toolkit INFO     No GPUs detected (normal if no gpus installed)\u001b[0m\n",
      "\u001b[34m2023-03-29 04:23:10,923 sagemaker_sklearn_container.training INFO     Invoking user training script.\u001b[0m\n",
      "\u001b[34m2023-03-29 04:23:11,106 sagemaker-training-toolkit INFO     Installing dependencies from requirements.txt:\u001b[0m\n",
      "\u001b[34m/miniconda3/bin/python -m pip install -r requirements.txt\u001b[0m\n",
      "\u001b[34mProcessing ./lib/sagemaker_jumpstart_script_utilities/sagemaker_jumpstart_script_utilities-1.0.1-py2.py3-none-any.whl\u001b[0m\n",
      "\u001b[34mInstalling collected packages: sagemaker-jumpstart-script-utilities\u001b[0m\n",
      "\u001b[34mSuccessfully installed sagemaker-jumpstart-script-utilities-1.0.1\u001b[0m\n",
      "\u001b[34mWARNING: Running pip as the 'root' user can result in broken permissions and conflicting behaviour with the system package manager. It is recommended to use a virtual environment instead: https://pip.pypa.io/warnings/venv\u001b[0m\n",
      "\u001b[34m[notice] A new release of pip is available: 23.0 -> 23.0.1\u001b[0m\n",
      "\u001b[34m[notice] To update, run: pip install --upgrade pip\u001b[0m\n",
      "\u001b[34m2023-03-29 04:23:12,011 sagemaker-training-toolkit INFO     No GPUs detected (normal if no gpus installed)\u001b[0m\n",
      "\u001b[34m2023-03-29 04:23:12,023 sagemaker-training-toolkit INFO     No GPUs detected (normal if no gpus installed)\u001b[0m\n",
      "\u001b[34m2023-03-29 04:23:12,034 sagemaker-training-toolkit INFO     No GPUs detected (normal if no gpus installed)\u001b[0m\n",
      "\u001b[34m2023-03-29 04:23:12,042 sagemaker-training-toolkit INFO     Invoking user script\u001b[0m\n",
      "\u001b[34mTraining Env:\u001b[0m\n",
      "\u001b[34m{\n",
      "    \"additional_framework_parameters\": {},\n",
      "    \"channel_input_dirs\": {\n",
      "        \"model\": \"/opt/ml/input/data/model\",\n",
      "        \"training\": \"/opt/ml/input/data/training\"\n",
      "    },\n",
      "    \"current_host\": \"algo-1\",\n",
      "    \"framework_module\": \"sagemaker_sklearn_container.training:main\",\n",
      "    \"hosts\": [\n",
      "        \"algo-1\"\n",
      "    ],\n",
      "    \"hyperparameters\": {\n",
      "        \"alpha\": \"0.0001\",\n",
      "        \"l1_ratio\": \"0.15\",\n",
      "        \"penalty\": \"l2\",\n",
      "        \"tol\": \"0.0001\"\n",
      "    },\n",
      "    \"input_config_dir\": \"/opt/ml/input/config\",\n",
      "    \"input_data_config\": {\n",
      "        \"model\": {\n",
      "            \"ContentType\": \"application/x-sagemaker-model\",\n",
      "            \"TrainingInputMode\": \"File\",\n",
      "            \"S3DistributionType\": \"FullyReplicated\",\n",
      "            \"RecordWrapperType\": \"None\"\n",
      "        },\n",
      "        \"training\": {\n",
      "            \"TrainingInputMode\": \"File\",\n",
      "            \"S3DistributionType\": \"FullyReplicated\",\n",
      "            \"RecordWrapperType\": \"None\"\n",
      "        }\n",
      "    },\n",
      "    \"input_dir\": \"/opt/ml/input\",\n",
      "    \"is_master\": true,\n",
      "    \"job_name\": \"logistic-regression-example-sklearn-cla-2023-03-29-04-21-16-204\",\n",
      "    \"log_level\": 20,\n",
      "    \"master_hostname\": \"algo-1\",\n",
      "    \"model_dir\": \"/opt/ml/model\",\n",
      "    \"module_dir\": \"s3://jumpstart-cache-prod-us-east-1/source-directory-tarballs/sklearn/transfer_learning/classification/v1.0.2/sourcedir.tar.gz\",\n",
      "    \"module_name\": \"transfer_learning\",\n",
      "    \"network_interface_name\": \"eth0\",\n",
      "    \"num_cpus\": 4,\n",
      "    \"num_gpus\": 0,\n",
      "    \"output_data_dir\": \"/opt/ml/output/data\",\n",
      "    \"output_dir\": \"/opt/ml/output\",\n",
      "    \"output_intermediate_dir\": \"/opt/ml/output/intermediate\",\n",
      "    \"resource_config\": {\n",
      "        \"current_host\": \"algo-1\",\n",
      "        \"current_instance_type\": \"ml.m5.xlarge\",\n",
      "        \"current_group_name\": \"homogeneousCluster\",\n",
      "        \"hosts\": [\n",
      "            \"algo-1\"\n",
      "        ],\n",
      "        \"instance_groups\": [\n",
      "            {\n",
      "                \"instance_group_name\": \"homogeneousCluster\",\n",
      "                \"instance_type\": \"ml.m5.xlarge\",\n",
      "                \"hosts\": [\n",
      "                    \"algo-1\"\n",
      "                ]\n",
      "            }\n",
      "        ],\n",
      "        \"network_interface_name\": \"eth0\"\n",
      "    },\n",
      "    \"user_entry_point\": \"transfer_learning.py\"\u001b[0m\n",
      "\u001b[34m}\u001b[0m\n",
      "\u001b[34mEnvironment variables:\u001b[0m\n",
      "\u001b[34mSM_HOSTS=[\"algo-1\"]\u001b[0m\n",
      "\u001b[34mSM_NETWORK_INTERFACE_NAME=eth0\u001b[0m\n",
      "\u001b[34mSM_HPS={\"alpha\":\"0.0001\",\"l1_ratio\":\"0.15\",\"penalty\":\"l2\",\"tol\":\"0.0001\"}\u001b[0m\n",
      "\u001b[34mSM_USER_ENTRY_POINT=transfer_learning.py\u001b[0m\n",
      "\u001b[34mSM_FRAMEWORK_PARAMS={}\u001b[0m\n",
      "\u001b[34mSM_RESOURCE_CONFIG={\"current_group_name\":\"homogeneousCluster\",\"current_host\":\"algo-1\",\"current_instance_type\":\"ml.m5.xlarge\",\"hosts\":[\"algo-1\"],\"instance_groups\":[{\"hosts\":[\"algo-1\"],\"instance_group_name\":\"homogeneousCluster\",\"instance_type\":\"ml.m5.xlarge\"}],\"network_interface_name\":\"eth0\"}\u001b[0m\n",
      "\u001b[34mSM_INPUT_DATA_CONFIG={\"model\":{\"ContentType\":\"application/x-sagemaker-model\",\"RecordWrapperType\":\"None\",\"S3DistributionType\":\"FullyReplicated\",\"TrainingInputMode\":\"File\"},\"training\":{\"RecordWrapperType\":\"None\",\"S3DistributionType\":\"FullyReplicated\",\"TrainingInputMode\":\"File\"}}\u001b[0m\n",
      "\u001b[34mSM_OUTPUT_DATA_DIR=/opt/ml/output/data\u001b[0m\n",
      "\u001b[34mSM_CHANNELS=[\"model\",\"training\"]\u001b[0m\n",
      "\u001b[34mSM_CURRENT_HOST=algo-1\u001b[0m\n",
      "\u001b[34mSM_MODULE_NAME=transfer_learning\u001b[0m\n",
      "\u001b[34mSM_LOG_LEVEL=20\u001b[0m\n",
      "\u001b[34mSM_FRAMEWORK_MODULE=sagemaker_sklearn_container.training:main\u001b[0m\n",
      "\u001b[34mSM_INPUT_DIR=/opt/ml/input\u001b[0m\n",
      "\u001b[34mSM_INPUT_CONFIG_DIR=/opt/ml/input/config\u001b[0m\n",
      "\u001b[34mSM_OUTPUT_DIR=/opt/ml/output\u001b[0m\n",
      "\u001b[34mSM_NUM_CPUS=4\u001b[0m\n",
      "\u001b[34mSM_NUM_GPUS=0\u001b[0m\n",
      "\u001b[34mSM_MODEL_DIR=/opt/ml/model\u001b[0m\n",
      "\u001b[34mSM_MODULE_DIR=s3://jumpstart-cache-prod-us-east-1/source-directory-tarballs/sklearn/transfer_learning/classification/v1.0.2/sourcedir.tar.gz\u001b[0m\n",
      "\u001b[34mSM_TRAINING_ENV={\"additional_framework_parameters\":{},\"channel_input_dirs\":{\"model\":\"/opt/ml/input/data/model\",\"training\":\"/opt/ml/input/data/training\"},\"current_host\":\"algo-1\",\"framework_module\":\"sagemaker_sklearn_container.training:main\",\"hosts\":[\"algo-1\"],\"hyperparameters\":{\"alpha\":\"0.0001\",\"l1_ratio\":\"0.15\",\"penalty\":\"l2\",\"tol\":\"0.0001\"},\"input_config_dir\":\"/opt/ml/input/config\",\"input_data_config\":{\"model\":{\"ContentType\":\"application/x-sagemaker-model\",\"RecordWrapperType\":\"None\",\"S3DistributionType\":\"FullyReplicated\",\"TrainingInputMode\":\"File\"},\"training\":{\"RecordWrapperType\":\"None\",\"S3DistributionType\":\"FullyReplicated\",\"TrainingInputMode\":\"File\"}},\"input_dir\":\"/opt/ml/input\",\"is_master\":true,\"job_name\":\"logistic-regression-example-sklearn-cla-2023-03-29-04-21-16-204\",\"log_level\":20,\"master_hostname\":\"algo-1\",\"model_dir\":\"/opt/ml/model\",\"module_dir\":\"s3://jumpstart-cache-prod-us-east-1/source-directory-tarballs/sklearn/transfer_learning/classification/v1.0.2/sourcedir.tar.gz\",\"module_name\":\"transfer_learning\",\"network_interface_name\":\"eth0\",\"num_cpus\":4,\"num_gpus\":0,\"output_data_dir\":\"/opt/ml/output/data\",\"output_dir\":\"/opt/ml/output\",\"output_intermediate_dir\":\"/opt/ml/output/intermediate\",\"resource_config\":{\"current_group_name\":\"homogeneousCluster\",\"current_host\":\"algo-1\",\"current_instance_type\":\"ml.m5.xlarge\",\"hosts\":[\"algo-1\"],\"instance_groups\":[{\"hosts\":[\"algo-1\"],\"instance_group_name\":\"homogeneousCluster\",\"instance_type\":\"ml.m5.xlarge\"}],\"network_interface_name\":\"eth0\"},\"user_entry_point\":\"transfer_learning.py\"}\u001b[0m\n",
      "\u001b[34mSM_USER_ARGS=[\"--alpha\",\"0.0001\",\"--l1_ratio\",\"0.15\",\"--penalty\",\"l2\",\"--tol\",\"0.0001\"]\u001b[0m\n",
      "\u001b[34mSM_OUTPUT_INTERMEDIATE_DIR=/opt/ml/output/intermediate\u001b[0m\n",
      "\u001b[34mSM_CHANNEL_MODEL=/opt/ml/input/data/model\u001b[0m\n",
      "\u001b[34mSM_CHANNEL_TRAINING=/opt/ml/input/data/training\u001b[0m\n",
      "\u001b[34mSM_HP_ALPHA=0.0001\u001b[0m\n",
      "\u001b[34mSM_HP_L1_RATIO=0.15\u001b[0m\n",
      "\u001b[34mSM_HP_PENALTY=l2\u001b[0m\n",
      "\u001b[34mSM_HP_TOL=0.0001\u001b[0m\n",
      "\u001b[34mPYTHONPATH=/opt/ml/code:/miniconda3/bin:/miniconda3/lib/python37.zip:/miniconda3/lib/python3.7:/miniconda3/lib/python3.7/lib-dynload:/miniconda3/lib/python3.7/site-packages\u001b[0m\n",
      "\u001b[34mInvoking script with the following command:\u001b[0m\n",
      "\u001b[34m/miniconda3/bin/python transfer_learning.py --alpha 0.0001 --l1_ratio 0.15 --penalty l2 --tol 0.0001\u001b[0m\n",
      "\u001b[34m/miniconda3/lib/python3.7/site-packages/sklearn/utils/validation.py:72: DataConversionWarning: A column-vector y was passed when a 1d array was expected. Please change the shape of y to (n_samples, ), for example using ravel().\n",
      "  return f(**kwargs)\u001b[0m\n",
      "\u001b[34m[Parallel(n_jobs=1)]: Using backend SequentialBackend with 1 concurrent workers.\u001b[0m\n",
      "\u001b[34mEpoch 1, change: 1.00000000\u001b[0m\n",
      "\u001b[34mEpoch 2, change: 0.08000237\u001b[0m\n",
      "\u001b[34mEpoch 3, change: 0.03788663\u001b[0m\n",
      "\u001b[34mEpoch 4, change: 0.02850194\u001b[0m\n",
      "\u001b[34mEpoch 5, change: 0.02346293\u001b[0m\n",
      "\u001b[34mEpoch 6, change: 0.02040420\u001b[0m\n",
      "\u001b[34mEpoch 7, change: 0.01812976\u001b[0m\n",
      "\u001b[34mEpoch 8, change: 0.01623820\u001b[0m\n",
      "\u001b[34mEpoch 9, change: 0.01462370\u001b[0m\n",
      "\u001b[34mEpoch 10, change: 0.01329540\u001b[0m\n",
      "\u001b[34mEpoch 11, change: 0.01208131\u001b[0m\n",
      "\u001b[34mEpoch 12, change: 0.01111903\u001b[0m\n",
      "\u001b[34mEpoch 13, change: 0.01025865\u001b[0m\n",
      "\u001b[34mEpoch 14, change: 0.00954030\u001b[0m\n",
      "\u001b[34mEpoch 15, change: 0.00889824\u001b[0m\n",
      "\u001b[34mEpoch 16, change: 0.00833896\u001b[0m\n",
      "\u001b[34mEpoch 17, change: 0.00784620\u001b[0m\n",
      "\u001b[34mEpoch 18, change: 0.00738972\u001b[0m\n",
      "\u001b[34mEpoch 19, change: 0.00698659\u001b[0m\n",
      "\u001b[34mEpoch 20, change: 0.00661669\u001b[0m\n",
      "\u001b[34mEpoch 21, change: 0.00628395\u001b[0m\n",
      "\u001b[34mEpoch 22, change: 0.00598745\u001b[0m\n",
      "\u001b[34mEpoch 23, change: 0.00570756\u001b[0m\n",
      "\u001b[34mEpoch 24, change: 0.00545211\u001b[0m\n",
      "\u001b[34mEpoch 25, change: 0.00521817\u001b[0m\n",
      "\u001b[34mEpoch 26, change: 0.00501135\u001b[0m\n",
      "\u001b[34mEpoch 27, change: 0.00480908\u001b[0m\n",
      "\u001b[34mEpoch 28, change: 0.00461942\u001b[0m\n",
      "\u001b[34mEpoch 29, change: 0.00444909\u001b[0m\n",
      "\u001b[34mEpoch 30, change: 0.00428907\u001b[0m\n",
      "\u001b[34mEpoch 31, change: 0.00413550\u001b[0m\n",
      "\u001b[34mEpoch 32, change: 0.00399922\u001b[0m\n",
      "\u001b[34mEpoch 33, change: 0.00386013\u001b[0m\n",
      "\u001b[34mEpoch 34, change: 0.00374145\u001b[0m\n",
      "\u001b[34mEpoch 35, change: 0.00362140\u001b[0m\n",
      "\u001b[34mEpoch 36, change: 0.00351159\u001b[0m\n",
      "\u001b[34mEpoch 37, change: 0.00340979\u001b[0m\n",
      "\u001b[34mEpoch 38, change: 0.00331126\u001b[0m\n",
      "\u001b[34mEpoch 39, change: 0.00321977\u001b[0m\n",
      "\u001b[34mEpoch 40, change: 0.00313155\u001b[0m\n",
      "\u001b[34mEpoch 41, change: 0.00304560\u001b[0m\n",
      "\u001b[34mEpoch 42, change: 0.00296481\u001b[0m\n",
      "\u001b[34mEpoch 43, change: 0.00288928\u001b[0m\n",
      "\u001b[34mEpoch 44, change: 0.00281654\u001b[0m\n",
      "\u001b[34mEpoch 45, change: 0.00274883\u001b[0m\n",
      "\u001b[34mEpoch 46, change: 0.00268194\u001b[0m\n",
      "\u001b[34mEpoch 47, change: 0.00261715\u001b[0m\n",
      "\u001b[34mEpoch 48, change: 0.00256018\u001b[0m\n",
      "\u001b[34mEpoch 49, change: 0.00250010\u001b[0m\n",
      "\u001b[34mEpoch 50, change: 0.00244534\u001b[0m\n",
      "\u001b[34mEpoch 51, change: 0.00239056\u001b[0m\n",
      "\u001b[34mEpoch 52, change: 0.00234239\u001b[0m\n",
      "\u001b[34mEpoch 53, change: 0.00229271\u001b[0m\n",
      "\u001b[34mEpoch 54, change: 0.00224611\u001b[0m\n",
      "\u001b[34mEpoch 55, change: 0.00220077\u001b[0m\n",
      "\u001b[34mEpoch 56, change: 0.00215729\u001b[0m\n",
      "\u001b[34mEpoch 57, change: 0.00211533\u001b[0m\n",
      "\u001b[34mEpoch 58, change: 0.00207439\u001b[0m\n",
      "\u001b[34mEpoch 59, change: 0.00203565\u001b[0m\n",
      "\u001b[34mEpoch 60, change: 0.00199749\u001b[0m\n",
      "\u001b[34mEpoch 61, change: 0.00196106\u001b[0m\n",
      "\u001b[34mEpoch 62, change: 0.00192749\u001b[0m\n",
      "\u001b[34mEpoch 63, change: 0.00189180\u001b[0m\n",
      "\u001b[34mEpoch 64, change: 0.00185958\u001b[0m\n",
      "\u001b[34mEpoch 65, change: 0.00182817\u001b[0m\n",
      "\u001b[34mEpoch 66, change: 0.00179690\u001b[0m\n",
      "\u001b[34mEpoch 67, change: 0.00176733\u001b[0m\n",
      "\u001b[34mEpoch 68, change: 0.00173833\u001b[0m\n",
      "\u001b[34mEpoch 69, change: 0.00171108\u001b[0m\n",
      "\u001b[34mEpoch 70, change: 0.00168349\u001b[0m\n",
      "\u001b[34mEpoch 71, change: 0.00165681\u001b[0m\n",
      "\u001b[34mEpoch 72, change: 0.00163129\u001b[0m\n",
      "\u001b[34mEpoch 73, change: 0.00160690\u001b[0m\n",
      "\u001b[34mEpoch 74, change: 0.00158202\u001b[0m\n",
      "\u001b[34mEpoch 75, change: 0.00155863\u001b[0m\n",
      "\u001b[34mEpoch 76, change: 0.00153647\u001b[0m\n",
      "\u001b[34mEpoch 77, change: 0.00151362\u001b[0m\n",
      "\u001b[34mEpoch 78, change: 0.00149294\u001b[0m\n",
      "\u001b[34mEpoch 79, change: 0.00147128\u001b[0m\n",
      "\u001b[34mEpoch 80, change: 0.00145062\u001b[0m\n",
      "\u001b[34mEpoch 81, change: 0.00143131\u001b[0m\n",
      "\u001b[34mEpoch 82, change: 0.00141181\u001b[0m\n",
      "\u001b[34mEpoch 83, change: 0.00139291\u001b[0m\n",
      "\u001b[34mEpoch 84, change: 0.00137463\u001b[0m\n",
      "\u001b[34mEpoch 85, change: 0.00135704\u001b[0m\n",
      "\u001b[34mEpoch 86, change: 0.00133873\u001b[0m\n",
      "\u001b[34mEpoch 87, change: 0.00132160\u001b[0m\n",
      "\u001b[34mEpoch 88, change: 0.00130503\u001b[0m\n",
      "\u001b[34mEpoch 89, change: 0.00128875\u001b[0m\n",
      "\u001b[34mEpoch 90, change: 0.00127287\u001b[0m\n",
      "\u001b[34mEpoch 91, change: 0.00125683\u001b[0m\n",
      "\u001b[34mEpoch 92, change: 0.00124232\u001b[0m\n",
      "\u001b[34mEpoch 93, change: 0.00122748\u001b[0m\n",
      "\u001b[34mEpoch 94, change: 0.00121271\u001b[0m\n",
      "\u001b[34mEpoch 95, change: 0.00119836\u001b[0m\n",
      "\u001b[34mEpoch 96, change: 0.00118500\u001b[0m\n",
      "\u001b[34mEpoch 97, change: 0.00117113\u001b[0m\n",
      "\u001b[34mEpoch 98, change: 0.00115789\u001b[0m\n",
      "\u001b[34mEpoch 99, change: 0.00114492\u001b[0m\n",
      "\u001b[34mEpoch 100, change: 0.00113216\u001b[0m\n",
      "\u001b[34mEpoch 101, change: 0.00111974\u001b[0m\n",
      "\u001b[34mEpoch 102, change: 0.00110761\u001b[0m\n",
      "\u001b[34mEpoch 103, change: 0.00109550\u001b[0m\n",
      "\u001b[34mEpoch 104, change: 0.00108372\u001b[0m\n",
      "\u001b[34mEpoch 105, change: 0.00107220\u001b[0m\n",
      "\u001b[34mEpoch 106, change: 0.00106108\u001b[0m\n",
      "\u001b[34mEpoch 107, change: 0.00105000\u001b[0m\n",
      "\u001b[34mEpoch 108, change: 0.00103945\u001b[0m\n",
      "\u001b[34mEpoch 109, change: 0.00102848\u001b[0m\n",
      "\u001b[34mEpoch 110, change: 0.00101825\u001b[0m\n",
      "\u001b[34mEpoch 111, change: 0.00100820\u001b[0m\n",
      "\u001b[34mEpoch 112, change: 0.00099816\u001b[0m\n",
      "\u001b[34mEpoch 113, change: 0.00098809\u001b[0m\n",
      "\u001b[34mEpoch 114, change: 0.00097874\u001b[0m\n",
      "\u001b[34mEpoch 115, change: 0.00096940\u001b[0m\n",
      "\u001b[34mEpoch 116, change: 0.00095986\u001b[0m\n",
      "\u001b[34mEpoch 117, change: 0.00095095\u001b[0m\n",
      "\u001b[34mEpoch 118, change: 0.00094217\u001b[0m\n",
      "\u001b[34mEpoch 119, change: 0.00093294\u001b[0m\n",
      "\u001b[34mEpoch 120, change: 0.00092451\u001b[0m\n",
      "\u001b[34mEpoch 121, change: 0.00091592\u001b[0m\n",
      "\u001b[34mEpoch 122, change: 0.00090742\u001b[0m\n",
      "\u001b[34mEpoch 123, change: 0.00089917\u001b[0m\n",
      "\u001b[34mEpoch 124, change: 0.00089150\u001b[0m\n",
      "\u001b[34mEpoch 125, change: 0.00088345\u001b[0m\n",
      "\u001b[34mEpoch 126, change: 0.00087577\u001b[0m\n",
      "\u001b[34mEpoch 127, change: 0.00086772\u001b[0m\n",
      "\u001b[34mEpoch 128, change: 0.00086048\u001b[0m\n",
      "\u001b[34mEpoch 129, change: 0.00085294\u001b[0m\n",
      "\u001b[34mEpoch 130, change: 0.00084572\u001b[0m\n",
      "\u001b[34mEpoch 131, change: 0.00083852\u001b[0m\n",
      "\u001b[34mEpoch 132, change: 0.00083163\u001b[0m\n",
      "\u001b[34mEpoch 133, change: 0.00082456\u001b[0m\n",
      "\u001b[34mEpoch 134, change: 0.00081760\u001b[0m\n",
      "\u001b[34mEpoch 135, change: 0.00081086\u001b[0m\n",
      "\u001b[34mEpoch 136, change: 0.00080446\u001b[0m\n",
      "\u001b[34mEpoch 137, change: 0.00079766\u001b[0m\n",
      "\u001b[34mEpoch 138, change: 0.00079150\u001b[0m\n",
      "\u001b[34mEpoch 139, change: 0.00078526\u001b[0m\n",
      "\u001b[34mEpoch 140, change: 0.00077905\u001b[0m\n",
      "\u001b[34mEpoch 141, change: 0.00077292\u001b[0m\n",
      "\u001b[34mEpoch 142, change: 0.00076674\u001b[0m\n",
      "\u001b[34mEpoch 143, change: 0.00076080\u001b[0m\n",
      "\u001b[34mEpoch 144, change: 0.00075500\u001b[0m\n",
      "\u001b[34mEpoch 145, change: 0.00074924\u001b[0m\n",
      "\u001b[34mEpoch 146, change: 0.00074351\u001b[0m\n",
      "\u001b[34mEpoch 147, change: 0.00073780\u001b[0m\n",
      "\u001b[34mEpoch 148, change: 0.00073232\u001b[0m\n",
      "\u001b[34mEpoch 149, change: 0.00072680\u001b[0m\n",
      "\u001b[34mEpoch 150, change: 0.00072140\u001b[0m\n",
      "\u001b[34mEpoch 151, change: 0.00071620\u001b[0m\n",
      "\u001b[34mEpoch 152, change: 0.00071086\u001b[0m\n",
      "\u001b[34mEpoch 153, change: 0.00070567\u001b[0m\n",
      "\u001b[34mEpoch 154, change: 0.00070074\u001b[0m\n",
      "\u001b[34mEpoch 155, change: 0.00069575\u001b[0m\n",
      "\u001b[34mEpoch 156, change: 0.00069077\u001b[0m\n",
      "\u001b[34mEpoch 157, change: 0.00068591\u001b[0m\n",
      "\u001b[34mEpoch 158, change: 0.00068107\u001b[0m\n",
      "\u001b[34mEpoch 159, change: 0.00067648\u001b[0m\n",
      "\u001b[34mEpoch 160, change: 0.00067163\u001b[0m\n",
      "\u001b[34mEpoch 161, change: 0.00066701\u001b[0m\n",
      "\u001b[34mEpoch 162, change: 0.00066239\u001b[0m\n",
      "\u001b[34mEpoch 163, change: 0.00065790\u001b[0m\n",
      "\u001b[34mEpoch 164, change: 0.00065344\u001b[0m\n",
      "\u001b[34mEpoch 165, change: 0.00064908\u001b[0m\n",
      "\u001b[34mEpoch 166, change: 0.00064485\u001b[0m\n",
      "\u001b[34mEpoch 167, change: 0.00064037\u001b[0m\n",
      "\u001b[34mEpoch 168, change: 0.00063629\u001b[0m\n",
      "\u001b[34mEpoch 169, change: 0.00063187\u001b[0m\n",
      "\u001b[34mEpoch 170, change: 0.00062794\u001b[0m\n",
      "\u001b[34mEpoch 171, change: 0.00062384\u001b[0m\n",
      "\u001b[34mEpoch 172, change: 0.00061975\u001b[0m\n",
      "\u001b[34mEpoch 173, change: 0.00061581\u001b[0m\n",
      "\u001b[34mEpoch 174, change: 0.00061197\u001b[0m\n",
      "\u001b[34mEpoch 175, change: 0.00060797\u001b[0m\n",
      "\u001b[34mEpoch 176, change: 0.00060432\u001b[0m\n",
      "\u001b[34mEpoch 177, change: 0.00060033\u001b[0m\n",
      "\u001b[34mEpoch 178, change: 0.00059672\u001b[0m\n",
      "\u001b[34mEpoch 179, change: 0.00059292\u001b[0m\n",
      "\u001b[34mEpoch 180, change: 0.00058940\u001b[0m\n",
      "\u001b[34mEpoch 181, change: 0.00058572\u001b[0m\n",
      "\u001b[34mEpoch 182, change: 0.00058218\u001b[0m\n",
      "\u001b[34mEpoch 183, change: 0.00057874\u001b[0m\n",
      "\u001b[34mEpoch 184, change: 0.00057521\u001b[0m\n",
      "\u001b[34mEpoch 185, change: 0.00057175\u001b[0m\n",
      "\u001b[34mEpoch 186, change: 0.00056829\u001b[0m\n",
      "\u001b[34mEpoch 187, change: 0.00056503\u001b[0m\n",
      "\u001b[34mEpoch 188, change: 0.00056165\u001b[0m\n",
      "\u001b[34mEpoch 189, change: 0.00055829\u001b[0m\n",
      "\u001b[34mEpoch 190, change: 0.00055517\u001b[0m\n",
      "\u001b[34mEpoch 191, change: 0.00055179\u001b[0m\n",
      "\u001b[34mEpoch 192, change: 0.00054866\u001b[0m\n",
      "\u001b[34mEpoch 193, change: 0.00054549\u001b[0m\n",
      "\u001b[34mEpoch 194, change: 0.00054235\u001b[0m\n",
      "\u001b[34mEpoch 195, change: 0.00053933\u001b[0m\n",
      "\u001b[34mEpoch 196, change: 0.00053621\u001b[0m\n",
      "\u001b[34mEpoch 197, change: 0.00053323\u001b[0m\n",
      "\u001b[34mEpoch 198, change: 0.00053029\u001b[0m\n",
      "\u001b[34mEpoch 199, change: 0.00052725\u001b[0m\n",
      "\u001b[34mEpoch 200, change: 0.00052442\u001b[0m\n",
      "\u001b[34mEpoch 201, change: 0.00052152\u001b[0m\n",
      "\u001b[34mEpoch 202, change: 0.00051867\u001b[0m\n",
      "\u001b[34mEpoch 203, change: 0.00051587\u001b[0m\n",
      "\u001b[34mEpoch 204, change: 0.00051305\u001b[0m\n",
      "\u001b[34mEpoch 205, change: 0.00051023\u001b[0m\n",
      "\u001b[34mEpoch 206, change: 0.00050749\u001b[0m\n",
      "\u001b[34mEpoch 207, change: 0.00050478\u001b[0m\n",
      "\u001b[34mEpoch 208, change: 0.00050213\u001b[0m\n",
      "\u001b[34mEpoch 209, change: 0.00049953\u001b[0m\n",
      "\u001b[34mEpoch 210, change: 0.00049679\u001b[0m\n",
      "\u001b[34mEpoch 211, change: 0.00049421\u001b[0m\n",
      "\u001b[34mEpoch 212, change: 0.00049158\u001b[0m\n",
      "\u001b[34mEpoch 213, change: 0.00048904\u001b[0m\n",
      "\u001b[34mEpoch 214, change: 0.00048651\u001b[0m\n",
      "\u001b[34mEpoch 215, change: 0.00048403\u001b[0m\n",
      "\u001b[34mEpoch 216, change: 0.00048152\u001b[0m\n",
      "\u001b[34mEpoch 217, change: 0.00047909\u001b[0m\n",
      "\u001b[34mEpoch 218, change: 0.00047669\u001b[0m\n",
      "\u001b[34mEpoch 219, change: 0.00047428\u001b[0m\n",
      "\u001b[34mEpoch 220, change: 0.00047189\u001b[0m\n",
      "\u001b[34mEpoch 221, change: 0.00046955\u001b[0m\n",
      "\u001b[34mEpoch 222, change: 0.00046717\u001b[0m\n",
      "\u001b[34mEpoch 223, change: 0.00046483\u001b[0m\n",
      "\u001b[34mEpoch 224, change: 0.00046254\u001b[0m\n",
      "\u001b[34mEpoch 225, change: 0.00046027\u001b[0m\n",
      "\u001b[34mEpoch 226, change: 0.00045803\u001b[0m\n",
      "\u001b[34mEpoch 227, change: 0.00045579\u001b[0m\n",
      "\u001b[34mEpoch 228, change: 0.00045351\u001b[0m\n",
      "\u001b[34mEpoch 229, change: 0.00045145\u001b[0m\n",
      "\u001b[34mEpoch 230, change: 0.00044921\u001b[0m\n",
      "\u001b[34mEpoch 231, change: 0.00044713\u001b[0m\n",
      "\u001b[34mEpoch 232, change: 0.00044499\u001b[0m\n",
      "\u001b[34mEpoch 233, change: 0.00044283\u001b[0m\n",
      "\u001b[34mEpoch 234, change: 0.00044070\u001b[0m\n",
      "\u001b[34mEpoch 235, change: 0.00043868\u001b[0m\n",
      "\u001b[34mEpoch 236, change: 0.00043658\u001b[0m\n",
      "\u001b[34mEpoch 237, change: 0.00043461\u001b[0m\n",
      "\u001b[34mEpoch 238, change: 0.00043249\u001b[0m\n",
      "\u001b[34mEpoch 239, change: 0.00043054\u001b[0m\n",
      "\u001b[34mEpoch 240, change: 0.00042859\u001b[0m\n",
      "\u001b[34mEpoch 241, change: 0.00042660\u001b[0m\n",
      "\u001b[34mEpoch 242, change: 0.00042460\u001b[0m\n",
      "\u001b[34mEpoch 243, change: 0.00042266\u001b[0m\n",
      "\u001b[34mEpoch 244, change: 0.00042077\u001b[0m\n",
      "\u001b[34mEpoch 245, change: 0.00041891\u001b[0m\n",
      "\u001b[34mEpoch 246, change: 0.00041703\u001b[0m\n",
      "\u001b[34mEpoch 247, change: 0.00041512\u001b[0m\n",
      "\u001b[34mEpoch 248, change: 0.00041331\u001b[0m\n",
      "\u001b[34mEpoch 249, change: 0.00041149\u001b[0m\n",
      "\u001b[34mEpoch 250, change: 0.00040961\u001b[0m\n",
      "\u001b[34mEpoch 251, change: 0.00040786\u001b[0m\n",
      "\u001b[34mEpoch 252, change: 0.00040608\u001b[0m\n",
      "\u001b[34mEpoch 253, change: 0.00040429\u001b[0m\n",
      "\u001b[34mEpoch 254, change: 0.00040250\u001b[0m\n",
      "\u001b[34mEpoch 255, change: 0.00040079\u001b[0m\n",
      "\u001b[34mEpoch 256, change: 0.00039900\u001b[0m\n",
      "\u001b[34mEpoch 257, change: 0.00039731\u001b[0m\n",
      "\u001b[34mEpoch 258, change: 0.00039558\u001b[0m\n",
      "\u001b[34mEpoch 259, change: 0.00039391\u001b[0m\n",
      "\u001b[34mEpoch 260, change: 0.00039226\u001b[0m\n",
      "\u001b[34mEpoch 261, change: 0.00039061\u001b[0m\n",
      "\u001b[34mEpoch 262, change: 0.00038894\u001b[0m\n",
      "\u001b[34mEpoch 263, change: 0.00038729\u001b[0m\n",
      "\u001b[34mEpoch 264, change: 0.00038569\u001b[0m\n",
      "\u001b[34mEpoch 265, change: 0.00038408\u001b[0m\n",
      "\u001b[34mEpoch 266, change: 0.00038246\u001b[0m\n",
      "\u001b[34mEpoch 267, change: 0.00038090\u001b[0m\n",
      "\u001b[34mEpoch 268, change: 0.00037936\u001b[0m\n",
      "\u001b[34mEpoch 269, change: 0.00037777\u001b[0m\n",
      "\u001b[34mEpoch 270, change: 0.00037625\u001b[0m\n",
      "\u001b[34mEpoch 271, change: 0.00037472\u001b[0m\n",
      "\u001b[34mEpoch 272, change: 0.00037312\u001b[0m\n",
      "\u001b[34mEpoch 273, change: 0.00037165\u001b[0m\n",
      "\u001b[34mEpoch 274, change: 0.00037013\u001b[0m\n",
      "\u001b[34mEpoch 275, change: 0.00036867\u001b[0m\n",
      "\u001b[34mEpoch 276, change: 0.00036721\u001b[0m\n",
      "\u001b[34mEpoch 277, change: 0.00036572\u001b[0m\n",
      "\u001b[34mEpoch 278, change: 0.00036428\u001b[0m\n",
      "\u001b[34mEpoch 279, change: 0.00036284\u001b[0m\n",
      "\u001b[34mEpoch 280, change: 0.00036140\u001b[0m\n",
      "\u001b[34mEpoch 281, change: 0.00036000\u001b[0m\n",
      "\u001b[34mEpoch 282, change: 0.00035857\u001b[0m\n",
      "\u001b[34mEpoch 283, change: 0.00035718\u001b[0m\n",
      "\u001b[34mEpoch 284, change: 0.00035578\u001b[0m\n",
      "\u001b[34mEpoch 285, change: 0.00035438\u001b[0m\n",
      "\u001b[34mEpoch 286, change: 0.00035303\u001b[0m\n",
      "\u001b[34mEpoch 287, change: 0.00035166\u001b[0m\n",
      "\u001b[34mEpoch 288, change: 0.00035032\u001b[0m\n",
      "\u001b[34mEpoch 289, change: 0.00034900\u001b[0m\n",
      "\u001b[34mEpoch 290, change: 0.00034767\u001b[0m\n",
      "\u001b[34mEpoch 291, change: 0.00034635\u001b[0m\n",
      "\u001b[34mEpoch 292, change: 0.00034501\u001b[0m\n",
      "\u001b[34mEpoch 293, change: 0.00034373\u001b[0m\n",
      "\u001b[34mEpoch 294, change: 0.00034245\u001b[0m\n",
      "\u001b[34mEpoch 295, change: 0.00034116\u001b[0m\n",
      "\u001b[34mEpoch 296, change: 0.00033990\u001b[0m\n",
      "\u001b[34mEpoch 297, change: 0.00033865\u001b[0m\n",
      "\u001b[34mEpoch 298, change: 0.00033736\u001b[0m\n",
      "\u001b[34mEpoch 299, change: 0.00033612\u001b[0m\n",
      "\u001b[34mEpoch 300, change: 0.00033490\u001b[0m\n",
      "\u001b[34mEpoch 301, change: 0.00033366\u001b[0m\n",
      "\u001b[34mEpoch 302, change: 0.00033245\u001b[0m\n",
      "\u001b[34mEpoch 303, change: 0.00033123\u001b[0m\n",
      "\u001b[34mEpoch 304, change: 0.00033003\u001b[0m\n",
      "\u001b[34mEpoch 305, change: 0.00032885\u001b[0m\n",
      "\u001b[34mEpoch 306, change: 0.00032766\u001b[0m\n",
      "\u001b[34mEpoch 307, change: 0.00032648\u001b[0m\n",
      "\u001b[34mEpoch 308, change: 0.00032527\u001b[0m\n",
      "\u001b[34mEpoch 309, change: 0.00032420\u001b[0m\n",
      "\u001b[34mEpoch 310, change: 0.00032299\u001b[0m\n",
      "\u001b[34mEpoch 311, change: 0.00032184\u001b[0m\n",
      "\u001b[34mEpoch 312, change: 0.00032070\u001b[0m\n",
      "\u001b[34mEpoch 313, change: 0.00031953\u001b[0m\n",
      "\u001b[34mEpoch 314, change: 0.00031843\u001b[0m\n",
      "\u001b[34mEpoch 315, change: 0.00031731\u001b[0m\n",
      "\u001b[34mEpoch 316, change: 0.00031622\u001b[0m\n",
      "\u001b[34mEpoch 317, change: 0.00031510\u001b[0m\n",
      "\u001b[34mEpoch 318, change: 0.00031406\u001b[0m\n",
      "\u001b[34mEpoch 319, change: 0.00031293\u001b[0m\n",
      "\u001b[34mEpoch 320, change: 0.00031184\u001b[0m\n",
      "\u001b[34mEpoch 321, change: 0.00031078\u001b[0m\n",
      "\u001b[34mEpoch 322, change: 0.00030973\u001b[0m\n",
      "\u001b[34mEpoch 323, change: 0.00030866\u001b[0m\n",
      "\u001b[34mEpoch 324, change: 0.00030760\u001b[0m\n",
      "\u001b[34mEpoch 325, change: 0.00030659\u001b[0m\n",
      "\u001b[34mEpoch 326, change: 0.00030551\u001b[0m\n",
      "\u001b[34mEpoch 327, change: 0.00030448\u001b[0m\n",
      "\u001b[34mEpoch 328, change: 0.00030347\u001b[0m\n",
      "\u001b[34mEpoch 329, change: 0.00030247\u001b[0m\n",
      "\u001b[34mEpoch 330, change: 0.00030146\u001b[0m\n",
      "\u001b[34mEpoch 331, change: 0.00030045\u001b[0m\n",
      "\u001b[34mEpoch 332, change: 0.00029945\u001b[0m\n",
      "\u001b[34mEpoch 333, change: 0.00029847\u001b[0m\n",
      "\u001b[34mEpoch 334, change: 0.00029746\u001b[0m\n",
      "\u001b[34mEpoch 335, change: 0.00029650\u001b[0m\n",
      "\u001b[34mEpoch 336, change: 0.00029550\u001b[0m\n",
      "\u001b[34mEpoch 337, change: 0.00029456\u001b[0m\n",
      "\u001b[34mEpoch 338, change: 0.00029358\u001b[0m\n",
      "\u001b[34mEpoch 339, change: 0.00029263\u001b[0m\n",
      "\u001b[34mEpoch 340, change: 0.00029168\u001b[0m\n",
      "\u001b[34mEpoch 341, change: 0.00029075\u001b[0m\n",
      "\u001b[34mEpoch 342, change: 0.00028978\u001b[0m\n",
      "\u001b[34mEpoch 343, change: 0.00028888\u001b[0m\n",
      "\u001b[34mEpoch 344, change: 0.00028795\u001b[0m\n",
      "\u001b[34mEpoch 345, change: 0.00028700\u001b[0m\n",
      "\u001b[34mEpoch 346, change: 0.00028609\u001b[0m\n",
      "\u001b[34mEpoch 347, change: 0.00028519\u001b[0m\n",
      "\u001b[34mEpoch 348, change: 0.00028430\u001b[0m\n",
      "\u001b[34mEpoch 349, change: 0.00028342\u001b[0m\n",
      "\u001b[34mEpoch 350, change: 0.00028248\u001b[0m\n",
      "\u001b[34mEpoch 351, change: 0.00028162\u001b[0m\n",
      "\u001b[34mEpoch 352, change: 0.00028074\u001b[0m\n",
      "\u001b[34mEpoch 353, change: 0.00027986\u001b[0m\n",
      "\u001b[34mEpoch 354, change: 0.00027899\u001b[0m\n",
      "\u001b[34mEpoch 355, change: 0.00027810\u001b[0m\n",
      "\u001b[34mEpoch 356, change: 0.00027725\u001b[0m\n",
      "\u001b[34mEpoch 357, change: 0.00027641\u001b[0m\n",
      "\u001b[34mEpoch 358, change: 0.00027555\u001b[0m\n",
      "\u001b[34mEpoch 359, change: 0.00027470\u001b[0m\n",
      "\u001b[34mEpoch 360, change: 0.00027385\u001b[0m\n",
      "\u001b[34mEpoch 361, change: 0.00027303\u001b[0m\n",
      "\u001b[34mEpoch 362, change: 0.00027220\u001b[0m\n",
      "\u001b[34mEpoch 363, change: 0.00027138\u001b[0m\n",
      "\u001b[34mEpoch 364, change: 0.00027056\u001b[0m\n",
      "\u001b[34mEpoch 365, change: 0.00026972\u001b[0m\n",
      "\u001b[34mEpoch 366, change: 0.00026892\u001b[0m\n",
      "\u001b[34mEpoch 367, change: 0.00026813\u001b[0m\n",
      "\u001b[34mEpoch 368, change: 0.00026731\u001b[0m\n",
      "\u001b[34mEpoch 369, change: 0.00026651\u001b[0m\n",
      "\u001b[34mEpoch 370, change: 0.00026573\u001b[0m\n",
      "\u001b[34mEpoch 371, change: 0.00026494\u001b[0m\n",
      "\u001b[34mEpoch 372, change: 0.00026414\u001b[0m\n",
      "\u001b[34mEpoch 373, change: 0.00026336\u001b[0m\n",
      "\u001b[34mEpoch 374, change: 0.00026259\u001b[0m\n",
      "\u001b[34mEpoch 375, change: 0.00026180\u001b[0m\n",
      "\u001b[34mEpoch 376, change: 0.00026106\u001b[0m\n",
      "\u001b[34mEpoch 377, change: 0.00026026\u001b[0m\n",
      "\u001b[34mEpoch 378, change: 0.00025953\u001b[0m\n",
      "\u001b[34mEpoch 379, change: 0.00025878\u001b[0m\n",
      "\u001b[34mEpoch 380, change: 0.00025801\u001b[0m\n",
      "\u001b[34mEpoch 381, change: 0.00025728\u001b[0m\n",
      "\u001b[34mEpoch 382, change: 0.00025652\u001b[0m\n",
      "\u001b[34mEpoch 383, change: 0.00025579\u001b[0m\n",
      "\u001b[34mEpoch 384, change: 0.00025507\u001b[0m\n",
      "\u001b[34mEpoch 385, change: 0.00025433\u001b[0m\n",
      "\u001b[34mEpoch 386, change: 0.00025359\u001b[0m\n",
      "\u001b[34mEpoch 387, change: 0.00025287\u001b[0m\n",
      "\u001b[34mEpoch 388, change: 0.00025215\u001b[0m\n",
      "\u001b[34mEpoch 389, change: 0.00025144\u001b[0m\n",
      "\u001b[34mEpoch 390, change: 0.00025074\u001b[0m\n",
      "\u001b[34mEpoch 391, change: 0.00025002\u001b[0m\n",
      "\u001b[34mEpoch 392, change: 0.00024933\u001b[0m\n",
      "\u001b[34mEpoch 393, change: 0.00024865\u001b[0m\n",
      "\u001b[34mEpoch 394, change: 0.00024793\u001b[0m\n",
      "\u001b[34mEpoch 395, change: 0.00024723\u001b[0m\n",
      "\u001b[34mEpoch 396, change: 0.00024655\u001b[0m\n",
      "\u001b[34mEpoch 397, change: 0.00024588\u001b[0m\n",
      "\u001b[34mEpoch 398, change: 0.00024520\u001b[0m\n",
      "\u001b[34mEpoch 399, change: 0.00024452\u001b[0m\n",
      "\u001b[34mEpoch 400, change: 0.00024385\u001b[0m\n",
      "\u001b[34mEpoch 401, change: 0.00024320\u001b[0m\n",
      "\u001b[34mEpoch 402, change: 0.00024250\u001b[0m\n",
      "\u001b[34mEpoch 403, change: 0.00024184\u001b[0m\n",
      "\u001b[34mEpoch 404, change: 0.00024118\u001b[0m\n",
      "\u001b[34mEpoch 405, change: 0.00024051\u001b[0m\n",
      "\u001b[34mEpoch 406, change: 0.00023988\u001b[0m\n",
      "\u001b[34mEpoch 407, change: 0.00023922\u001b[0m\n",
      "\u001b[34mEpoch 408, change: 0.00023860\u001b[0m\n",
      "\u001b[34mEpoch 409, change: 0.00023794\u001b[0m\n",
      "\u001b[34mEpoch 410, change: 0.00023728\u001b[0m\n",
      "\u001b[34mEpoch 411, change: 0.00023667\u001b[0m\n",
      "\u001b[34mEpoch 412, change: 0.00023603\u001b[0m\n",
      "\u001b[34mEpoch 413, change: 0.00023540\u001b[0m\n",
      "\u001b[34mEpoch 414, change: 0.00023478\u001b[0m\n",
      "\u001b[34mEpoch 415, change: 0.00023415\u001b[0m\n",
      "\u001b[34mEpoch 416, change: 0.00023353\u001b[0m\n",
      "\u001b[34mEpoch 417, change: 0.00023291\u001b[0m\n",
      "\u001b[34mEpoch 418, change: 0.00023229\u001b[0m\n",
      "\u001b[34mEpoch 419, change: 0.00023168\u001b[0m\n",
      "\u001b[34mEpoch 420, change: 0.00023108\u001b[0m\n",
      "\u001b[34mEpoch 421, change: 0.00023046\u001b[0m\n",
      "\u001b[34mEpoch 422, change: 0.00022987\u001b[0m\n",
      "\u001b[34mEpoch 423, change: 0.00022929\u001b[0m\n",
      "\u001b[34mEpoch 424, change: 0.00022869\u001b[0m\n",
      "\u001b[34mEpoch 425, change: 0.00022809\u001b[0m\n",
      "\u001b[34mEpoch 426, change: 0.00022751\u001b[0m\n",
      "\u001b[34mEpoch 427, change: 0.00022691\u001b[0m\n",
      "\u001b[34mEpoch 428, change: 0.00022631\u001b[0m\n",
      "\u001b[34mEpoch 429, change: 0.00022573\u001b[0m\n",
      "\u001b[34mEpoch 430, change: 0.00022517\u001b[0m\n",
      "\u001b[34mEpoch 431, change: 0.00022460\u001b[0m\n",
      "\u001b[34mEpoch 432, change: 0.00022403\u001b[0m\n",
      "\u001b[34mEpoch 433, change: 0.00022346\u001b[0m\n",
      "\u001b[34mEpoch 434, change: 0.00022289\u001b[0m\n",
      "\u001b[34mEpoch 435, change: 0.00022232\u001b[0m\n",
      "\u001b[34mEpoch 436, change: 0.00022174\u001b[0m\n",
      "\u001b[34mEpoch 437, change: 0.00022120\u001b[0m\n",
      "\u001b[34mEpoch 438, change: 0.00022064\u001b[0m\n",
      "\u001b[34mEpoch 439, change: 0.00022009\u001b[0m\n",
      "\u001b[34mEpoch 440, change: 0.00021955\u001b[0m\n",
      "\u001b[34mEpoch 441, change: 0.00021900\u001b[0m\n",
      "\u001b[34mEpoch 442, change: 0.00021845\u001b[0m\n",
      "\u001b[34mEpoch 443, change: 0.00021790\u001b[0m\n",
      "\u001b[34mEpoch 444, change: 0.00021738\u001b[0m\n",
      "\u001b[34mEpoch 445, change: 0.00021682\u001b[0m\n",
      "\u001b[34mEpoch 446, change: 0.00021629\u001b[0m\n",
      "\u001b[34mEpoch 447, change: 0.00021576\u001b[0m\n",
      "\u001b[34mEpoch 448, change: 0.00021524\u001b[0m\n",
      "\u001b[34mEpoch 449, change: 0.00021469\u001b[0m\n",
      "\u001b[34mEpoch 450, change: 0.00021419\u001b[0m\n",
      "\u001b[34mEpoch 451, change: 0.00021366\u001b[0m\n",
      "\u001b[34mEpoch 452, change: 0.00021314\u001b[0m\n",
      "\u001b[34mEpoch 453, change: 0.00021261\u001b[0m\n",
      "\u001b[34mEpoch 454, change: 0.00021211\u001b[0m\n",
      "\u001b[34mEpoch 455, change: 0.00021159\u001b[0m\n",
      "\u001b[34mEpoch 456, change: 0.00021108\u001b[0m\n",
      "\u001b[34mEpoch 457, change: 0.00021057\u001b[0m\n",
      "\u001b[34mEpoch 458, change: 0.00021005\u001b[0m\n",
      "\u001b[34mEpoch 459, change: 0.00020955\u001b[0m\n",
      "\u001b[34mEpoch 460, change: 0.00020906\u001b[0m\n",
      "\u001b[34mEpoch 461, change: 0.00020856\u001b[0m\n",
      "\u001b[34mEpoch 462, change: 0.00020806\u001b[0m\n",
      "\u001b[34mEpoch 463, change: 0.00020757\u001b[0m\n",
      "\u001b[34mEpoch 464, change: 0.00020708\u001b[0m\n",
      "\u001b[34mEpoch 465, change: 0.00020658\u001b[0m\n",
      "\u001b[34mEpoch 466, change: 0.00020610\u001b[0m\n",
      "\u001b[34mEpoch 467, change: 0.00020562\u001b[0m\n",
      "\u001b[34mEpoch 468, change: 0.00020513\u001b[0m\n",
      "\u001b[34mEpoch 469, change: 0.00020467\u001b[0m\n",
      "\u001b[34mEpoch 470, change: 0.00020418\u001b[0m\n",
      "\u001b[34mEpoch 471, change: 0.00020369\u001b[0m\n",
      "\u001b[34mEpoch 472, change: 0.00020322\u001b[0m\n",
      "\u001b[34mEpoch 473, change: 0.00020274\u001b[0m\n",
      "\u001b[34mEpoch 474, change: 0.00020226\u001b[0m\n",
      "\u001b[34mEpoch 475, change: 0.00020181\u001b[0m\n",
      "\u001b[34mEpoch 476, change: 0.00020135\u001b[0m\n",
      "\u001b[34mEpoch 477, change: 0.00020088\u001b[0m\n",
      "\u001b[34mEpoch 478, change: 0.00020043\u001b[0m\n",
      "\u001b[34mEpoch 479, change: 0.00019996\u001b[0m\n",
      "\u001b[34mEpoch 480, change: 0.00019950\u001b[0m\n",
      "\u001b[34mEpoch 481, change: 0.00019905\u001b[0m\n",
      "\u001b[34mEpoch 482, change: 0.00019858\u001b[0m\n",
      "\u001b[34mEpoch 483, change: 0.00019813\u001b[0m\n",
      "\u001b[34mEpoch 484, change: 0.00019768\u001b[0m\n",
      "\u001b[34mEpoch 485, change: 0.00019723\u001b[0m\n",
      "\u001b[34mEpoch 486, change: 0.00019680\u001b[0m\n",
      "\u001b[34mEpoch 487, change: 0.00019635\u001b[0m\n",
      "\u001b[34mEpoch 488, change: 0.00019588\u001b[0m\n",
      "\u001b[34mEpoch 489, change: 0.00019546\u001b[0m\n",
      "\u001b[34mEpoch 490, change: 0.00019502\u001b[0m\n",
      "\u001b[34mEpoch 491, change: 0.00019458\u001b[0m\n",
      "\u001b[34mEpoch 492, change: 0.00019415\u001b[0m\n",
      "\u001b[34mEpoch 493, change: 0.00019372\u001b[0m\n",
      "\u001b[34mEpoch 494, change: 0.00019328\u001b[0m\n",
      "\u001b[34mEpoch 495, change: 0.00019286\u001b[0m\n",
      "\u001b[34mEpoch 496, change: 0.00019242\u001b[0m\n",
      "\u001b[34mEpoch 497, change: 0.00019201\u001b[0m\n",
      "\u001b[34mEpoch 498, change: 0.00019158\u001b[0m\n",
      "\u001b[34mEpoch 499, change: 0.00019115\u001b[0m\n",
      "\u001b[34mEpoch 500, change: 0.00019074\u001b[0m\n",
      "\u001b[34mEpoch 501, change: 0.00019032\u001b[0m\n",
      "\u001b[34mEpoch 502, change: 0.00018990\u001b[0m\n",
      "\u001b[34mEpoch 503, change: 0.00018948\u001b[0m\n",
      "\u001b[34mEpoch 504, change: 0.00018906\u001b[0m\n",
      "\u001b[34mEpoch 505, change: 0.00018865\u001b[0m\n",
      "\u001b[34mEpoch 506, change: 0.00018824\u001b[0m\n",
      "\u001b[34mEpoch 507, change: 0.00018785\u001b[0m\n",
      "\u001b[34mEpoch 508, change: 0.00018744\u001b[0m\n",
      "\u001b[34mEpoch 509, change: 0.00018704\u001b[0m\n",
      "\u001b[34mEpoch 510, change: 0.00018662\u001b[0m\n",
      "\u001b[34mEpoch 511, change: 0.00018622\u001b[0m\n",
      "\u001b[34mEpoch 512, change: 0.00018583\u001b[0m\n",
      "\u001b[34mEpoch 513, change: 0.00018543\u001b[0m\n",
      "\u001b[34mEpoch 514, change: 0.00018502\u001b[0m\n",
      "\u001b[34mEpoch 515, change: 0.00018463\u001b[0m\n",
      "\u001b[34mEpoch 516, change: 0.00018425\u001b[0m\n",
      "\u001b[34mEpoch 517, change: 0.00018385\u001b[0m\n",
      "\u001b[34mEpoch 518, change: 0.00018347\u001b[0m\n",
      "\u001b[34mEpoch 519, change: 0.00018307\u001b[0m\n",
      "\u001b[34mEpoch 520, change: 0.00018269\u001b[0m\n",
      "\u001b[34mEpoch 521, change: 0.00018230\u001b[0m\n",
      "\u001b[34mEpoch 522, change: 0.00018192\u001b[0m\n",
      "\u001b[34mEpoch 523, change: 0.00018153\u001b[0m\n",
      "\u001b[34mEpoch 524, change: 0.00018115\u001b[0m\n",
      "\u001b[34mEpoch 525, change: 0.00018077\u001b[0m\n",
      "\u001b[34mEpoch 526, change: 0.00018039\u001b[0m\n",
      "\u001b[34mEpoch 527, change: 0.00018003\u001b[0m\n",
      "\u001b[34mEpoch 528, change: 0.00017965\u001b[0m\n",
      "\u001b[34mEpoch 529, change: 0.00017927\u001b[0m\n",
      "\u001b[34mEpoch 530, change: 0.00017890\u001b[0m\n",
      "\u001b[34mEpoch 531, change: 0.00017853\u001b[0m\n",
      "\u001b[34mEpoch 532, change: 0.00017815\u001b[0m\n",
      "\u001b[34mEpoch 533, change: 0.00017780\u001b[0m\n",
      "\u001b[34mEpoch 534, change: 0.00017742\u001b[0m\n",
      "\u001b[34mEpoch 535, change: 0.00017706\u001b[0m\n",
      "\u001b[34mEpoch 536, change: 0.00017671\u001b[0m\n",
      "\u001b[34mEpoch 537, change: 0.00017634\u001b[0m\n",
      "\u001b[34mEpoch 538, change: 0.00017598\u001b[0m\n",
      "\u001b[34mEpoch 539, change: 0.00017560\u001b[0m\n",
      "\u001b[34mEpoch 540, change: 0.00017526\u001b[0m\n",
      "\u001b[34mEpoch 541, change: 0.00017490\u001b[0m\n",
      "\u001b[34mEpoch 542, change: 0.00017455\u001b[0m\n",
      "\u001b[34mEpoch 543, change: 0.00017420\u001b[0m\n",
      "\u001b[34mEpoch 544, change: 0.00017384\u001b[0m\n",
      "\u001b[34mEpoch 545, change: 0.00017350\u001b[0m\n",
      "\u001b[34mEpoch 546, change: 0.00017314\u001b[0m\n",
      "\u001b[34mEpoch 547, change: 0.00017280\u001b[0m\n",
      "\u001b[34mEpoch 548, change: 0.00017245\u001b[0m\n",
      "\u001b[34mEpoch 549, change: 0.00017211\u001b[0m\n",
      "\u001b[34mEpoch 550, change: 0.00017175\u001b[0m\n",
      "\u001b[34mEpoch 551, change: 0.00017142\u001b[0m\n",
      "\u001b[34mEpoch 552, change: 0.00017107\u001b[0m\n",
      "\u001b[34mEpoch 553, change: 0.00017074\u001b[0m\n",
      "\u001b[34mEpoch 554, change: 0.00017040\u001b[0m\n",
      "\u001b[34mEpoch 555, change: 0.00017005\u001b[0m\n",
      "\u001b[34mEpoch 556, change: 0.00016972\u001b[0m\n",
      "\u001b[34mEpoch 557, change: 0.00016939\u001b[0m\n",
      "\u001b[34mEpoch 558, change: 0.00016906\u001b[0m\n",
      "\u001b[34mEpoch 559, change: 0.00016872\u001b[0m\n",
      "\u001b[34mEpoch 560, change: 0.00016838\u001b[0m\n",
      "\u001b[34mEpoch 561, change: 0.00016806\u001b[0m\n",
      "\u001b[34mEpoch 562, change: 0.00016773\u001b[0m\n",
      "\u001b[34mEpoch 563, change: 0.00016741\u001b[0m\n",
      "\u001b[34mEpoch 564, change: 0.00016707\u001b[0m\n",
      "\u001b[34mEpoch 565, change: 0.00016676\u001b[0m\n",
      "\u001b[34mEpoch 566, change: 0.00016642\u001b[0m\n",
      "\u001b[34mEpoch 567, change: 0.00016611\u001b[0m\n",
      "\u001b[34mEpoch 568, change: 0.00016579\u001b[0m\n",
      "\u001b[34mEpoch 569, change: 0.00016547\u001b[0m\n",
      "\u001b[34mEpoch 570, change: 0.00016515\u001b[0m\n",
      "\u001b[34mEpoch 571, change: 0.00016483\u001b[0m\n",
      "\u001b[34mEpoch 572, change: 0.00016452\u001b[0m\n",
      "\u001b[34mEpoch 573, change: 0.00016420\u001b[0m\n",
      "\u001b[34mEpoch 574, change: 0.00016388\u001b[0m\n",
      "\u001b[34mEpoch 575, change: 0.00016357\u001b[0m\n",
      "\u001b[34mEpoch 576, change: 0.00016326\u001b[0m\n",
      "\u001b[34mEpoch 577, change: 0.00016294\u001b[0m\n",
      "\u001b[34mEpoch 578, change: 0.00016264\u001b[0m\n",
      "\u001b[34mEpoch 579, change: 0.00016233\u001b[0m\n",
      "\u001b[34mEpoch 580, change: 0.00016202\u001b[0m\n",
      "\u001b[34mEpoch 581, change: 0.00016172\u001b[0m\n",
      "\u001b[34mEpoch 582, change: 0.00016141\u001b[0m\n",
      "\u001b[34mEpoch 583, change: 0.00016111\u001b[0m\n",
      "\u001b[34mEpoch 584, change: 0.00016081\u001b[0m\n",
      "\u001b[34mEpoch 585, change: 0.00016050\u001b[0m\n",
      "\u001b[34mEpoch 586, change: 0.00016019\u001b[0m\n",
      "\u001b[34mEpoch 587, change: 0.00015990\u001b[0m\n",
      "\u001b[34mEpoch 588, change: 0.00015960\u001b[0m\n",
      "\u001b[34mEpoch 589, change: 0.00015930\u001b[0m\n",
      "\u001b[34mEpoch 590, change: 0.00015901\u001b[0m\n",
      "\u001b[34mEpoch 591, change: 0.00015871\u001b[0m\n",
      "\u001b[34mEpoch 592, change: 0.00015842\u001b[0m\n",
      "\u001b[34mEpoch 593, change: 0.00015812\u001b[0m\n",
      "\u001b[34mEpoch 594, change: 0.00015783\u001b[0m\n",
      "\u001b[34mEpoch 595, change: 0.00015754\u001b[0m\n",
      "\u001b[34mEpoch 596, change: 0.00015725\u001b[0m\n",
      "\u001b[34mEpoch 597, change: 0.00015696\u001b[0m\n",
      "\u001b[34mEpoch 598, change: 0.00015667\u001b[0m\n",
      "\u001b[34mEpoch 599, change: 0.00015639\u001b[0m\n",
      "\u001b[34mEpoch 600, change: 0.00015609\u001b[0m\n",
      "\u001b[34mEpoch 601, change: 0.00015581\u001b[0m\n",
      "\u001b[34mEpoch 602, change: 0.00015553\u001b[0m\n",
      "\u001b[34mEpoch 603, change: 0.00015524\u001b[0m\n",
      "\u001b[34mEpoch 604, change: 0.00015497\u001b[0m\n",
      "\u001b[34mEpoch 605, change: 0.00015468\u001b[0m\n",
      "\u001b[34mEpoch 606, change: 0.00015440\u001b[0m\n",
      "\u001b[34mEpoch 607, change: 0.00015412\u001b[0m\n",
      "\u001b[34mEpoch 608, change: 0.00015384\u001b[0m\n",
      "\u001b[34mEpoch 609, change: 0.00015356\u001b[0m\n",
      "\u001b[34mEpoch 610, change: 0.00015329\u001b[0m\n",
      "\u001b[34mEpoch 611, change: 0.00015302\u001b[0m\n",
      "\u001b[34mEpoch 612, change: 0.00015274\u001b[0m\n",
      "\u001b[34mEpoch 613, change: 0.00015247\u001b[0m\n",
      "\u001b[34mEpoch 614, change: 0.00015220\u001b[0m\n",
      "\u001b[34mEpoch 615, change: 0.00015192\u001b[0m\n",
      "\u001b[34mEpoch 616, change: 0.00015165\u001b[0m\n",
      "\u001b[34mEpoch 617, change: 0.00015138\u001b[0m\n",
      "\u001b[34mEpoch 618, change: 0.00015111\u001b[0m\n",
      "\u001b[34mEpoch 619, change: 0.00015084\u001b[0m\n",
      "\u001b[34mEpoch 620, change: 0.00015058\u001b[0m\n",
      "\u001b[34mEpoch 621, change: 0.00015031\u001b[0m\n",
      "\u001b[34mEpoch 622, change: 0.00015004\u001b[0m\n",
      "\u001b[34mEpoch 623, change: 0.00014979\u001b[0m\n",
      "\u001b[34mEpoch 624, change: 0.00014953\u001b[0m\n",
      "\u001b[34mEpoch 625, change: 0.00014926\u001b[0m\n",
      "\u001b[34mEpoch 626, change: 0.00014899\u001b[0m\n",
      "\u001b[34mEpoch 627, change: 0.00014872\u001b[0m\n",
      "\u001b[34mEpoch 628, change: 0.00014847\u001b[0m\n",
      "\u001b[34mEpoch 629, change: 0.00014821\u001b[0m\n",
      "\u001b[34mEpoch 630, change: 0.00014795\u001b[0m\n",
      "\u001b[34mEpoch 631, change: 0.00014770\u001b[0m\n",
      "\u001b[34mEpoch 632, change: 0.00014744\u001b[0m\n",
      "\u001b[34mEpoch 633, change: 0.00014719\u001b[0m\n",
      "\u001b[34mEpoch 634, change: 0.00014693\u001b[0m\n",
      "\u001b[34mEpoch 635, change: 0.00014667\u001b[0m\n",
      "\u001b[34mEpoch 636, change: 0.00014642\u001b[0m\n",
      "\u001b[34mEpoch 637, change: 0.00014618\u001b[0m\n",
      "\u001b[34mEpoch 638, change: 0.00014593\u001b[0m\n",
      "\u001b[34mEpoch 639, change: 0.00014567\u001b[0m\n",
      "\u001b[34mEpoch 640, change: 0.00014542\u001b[0m\n",
      "\u001b[34mEpoch 641, change: 0.00014518\u001b[0m\n",
      "\u001b[34mEpoch 642, change: 0.00014492\u001b[0m\n",
      "\u001b[34mEpoch 643, change: 0.00014468\u001b[0m\n",
      "\u001b[34mEpoch 644, change: 0.00014443\u001b[0m\n",
      "\u001b[34mEpoch 645, change: 0.00014418\u001b[0m\n",
      "\u001b[34mEpoch 646, change: 0.00014393\u001b[0m\n",
      "\u001b[34mEpoch 647, change: 0.00014369\u001b[0m\n",
      "\u001b[34mEpoch 648, change: 0.00014345\u001b[0m\n",
      "\u001b[34mEpoch 649, change: 0.00014321\u001b[0m\n",
      "\u001b[34mEpoch 650, change: 0.00014296\u001b[0m\n",
      "\u001b[34mEpoch 651, change: 0.00014272\u001b[0m\n",
      "\u001b[34mEpoch 652, change: 0.00014248\u001b[0m\n",
      "\u001b[34mEpoch 653, change: 0.00014225\u001b[0m\n",
      "\u001b[34mEpoch 654, change: 0.00014200\u001b[0m\n",
      "\u001b[34mEpoch 655, change: 0.00014177\u001b[0m\n",
      "\u001b[34mEpoch 656, change: 0.00014153\u001b[0m\n",
      "\u001b[34mEpoch 657, change: 0.00014129\u001b[0m\n",
      "\u001b[34mEpoch 658, change: 0.00014105\u001b[0m\n",
      "\u001b[34mEpoch 659, change: 0.00014082\u001b[0m\n",
      "\u001b[34mEpoch 660, change: 0.00014059\u001b[0m\n",
      "\u001b[34mEpoch 661, change: 0.00014035\u001b[0m\n",
      "\u001b[34mEpoch 662, change: 0.00014012\u001b[0m\n",
      "\u001b[34mEpoch 663, change: 0.00013989\u001b[0m\n",
      "\u001b[34mEpoch 664, change: 0.00013966\u001b[0m\n",
      "\u001b[34mEpoch 665, change: 0.00013942\u001b[0m\n",
      "\u001b[34mEpoch 666, change: 0.00013920\u001b[0m\n",
      "\u001b[34mEpoch 667, change: 0.00013897\u001b[0m\n",
      "\u001b[34mEpoch 668, change: 0.00013874\u001b[0m\n",
      "\u001b[34mEpoch 669, change: 0.00013851\u001b[0m\n",
      "\u001b[34mEpoch 670, change: 0.00013829\u001b[0m\n",
      "\u001b[34mEpoch 671, change: 0.00013806\u001b[0m\n",
      "\u001b[34mEpoch 672, change: 0.00013783\u001b[0m\n",
      "\u001b[34mEpoch 673, change: 0.00013761\u001b[0m\n",
      "\u001b[34mEpoch 674, change: 0.00013738\u001b[0m\n",
      "\u001b[34mEpoch 675, change: 0.00013716\u001b[0m\n",
      "\u001b[34mEpoch 676, change: 0.00013694\u001b[0m\n",
      "\u001b[34mEpoch 677, change: 0.00013672\u001b[0m\n",
      "\u001b[34mEpoch 678, change: 0.00013649\u001b[0m\n",
      "\u001b[34mEpoch 679, change: 0.00013628\u001b[0m\n",
      "\u001b[34mEpoch 680, change: 0.00013605\u001b[0m\n",
      "\u001b[34mEpoch 681, change: 0.00013584\u001b[0m\n",
      "\u001b[34mEpoch 682, change: 0.00013561\u001b[0m\n",
      "\u001b[34mEpoch 683, change: 0.00013539\u001b[0m\n",
      "\u001b[34mEpoch 684, change: 0.00013518\u001b[0m\n",
      "\u001b[34mEpoch 685, change: 0.00013496\u001b[0m\n",
      "\u001b[34mEpoch 686, change: 0.00013475\u001b[0m\n",
      "\u001b[34mEpoch 687, change: 0.00013454\u001b[0m\n",
      "\u001b[34mEpoch 688, change: 0.00013432\u001b[0m\n",
      "\u001b[34mEpoch 689, change: 0.00013411\u001b[0m\n",
      "\u001b[34mEpoch 690, change: 0.00013389\u001b[0m\n",
      "\u001b[34mEpoch 691, change: 0.00013368\u001b[0m\n",
      "\u001b[34mEpoch 692, change: 0.00013347\u001b[0m\n",
      "\u001b[34mEpoch 693, change: 0.00013326\u001b[0m\n",
      "\u001b[34mEpoch 694, change: 0.00013305\u001b[0m\n",
      "\u001b[34mEpoch 695, change: 0.00013284\u001b[0m\n",
      "\u001b[34mEpoch 696, change: 0.00013263\u001b[0m\n",
      "\u001b[34mEpoch 697, change: 0.00013242\u001b[0m\n",
      "\u001b[34mEpoch 698, change: 0.00013221\u001b[0m\n",
      "\u001b[34mEpoch 699, change: 0.00013200\u001b[0m\n",
      "\u001b[34mEpoch 700, change: 0.00013180\u001b[0m\n",
      "\u001b[34mEpoch 701, change: 0.00013159\u001b[0m\n",
      "\u001b[34mEpoch 702, change: 0.00013138\u001b[0m\n",
      "\u001b[34mEpoch 703, change: 0.00013118\u001b[0m\n",
      "\u001b[34mEpoch 704, change: 0.00013098\u001b[0m\n",
      "\u001b[34mEpoch 705, change: 0.00013077\u001b[0m\n",
      "\u001b[34mEpoch 706, change: 0.00013056\u001b[0m\n",
      "\u001b[34mEpoch 707, change: 0.00013036\u001b[0m\n",
      "\u001b[34mEpoch 708, change: 0.00013016\u001b[0m\n",
      "\u001b[34mEpoch 709, change: 0.00012996\u001b[0m\n",
      "\u001b[34mEpoch 710, change: 0.00012976\u001b[0m\n",
      "\u001b[34mEpoch 711, change: 0.00012956\u001b[0m\n",
      "\u001b[34mEpoch 712, change: 0.00012936\u001b[0m\n",
      "\u001b[34mEpoch 713, change: 0.00012916\u001b[0m\n",
      "\u001b[34mEpoch 714, change: 0.00012897\u001b[0m\n",
      "\u001b[34mEpoch 715, change: 0.00012876\u001b[0m\n",
      "\u001b[34mEpoch 716, change: 0.00012856\u001b[0m\n",
      "\u001b[34mEpoch 717, change: 0.00012837\u001b[0m\n",
      "\u001b[34mEpoch 718, change: 0.00012817\u001b[0m\n",
      "\u001b[34mEpoch 719, change: 0.00012798\u001b[0m\n",
      "\u001b[34mEpoch 720, change: 0.00012778\u001b[0m\n",
      "\u001b[34mEpoch 721, change: 0.00012759\u001b[0m\n",
      "\u001b[34mEpoch 722, change: 0.00012739\u001b[0m\n",
      "\u001b[34mEpoch 723, change: 0.00012720\u001b[0m\n",
      "\u001b[34mEpoch 724, change: 0.00012701\u001b[0m\n",
      "\u001b[34mEpoch 725, change: 0.00012682\u001b[0m\n",
      "\u001b[34mEpoch 726, change: 0.00012663\u001b[0m\n",
      "\u001b[34mEpoch 727, change: 0.00012643\u001b[0m\n",
      "\u001b[34mEpoch 728, change: 0.00012624\u001b[0m\n",
      "\u001b[34mEpoch 729, change: 0.00012605\u001b[0m\n",
      "\u001b[34mEpoch 730, change: 0.00012586\u001b[0m\n",
      "\u001b[34mEpoch 731, change: 0.00012567\u001b[0m\n",
      "\u001b[34mEpoch 732, change: 0.00012548\u001b[0m\n",
      "\u001b[34mEpoch 733, change: 0.00012530\u001b[0m\n",
      "\u001b[34mEpoch 734, change: 0.00012511\u001b[0m\n",
      "\u001b[34mEpoch 735, change: 0.00012493\u001b[0m\n",
      "\u001b[34mEpoch 736, change: 0.00012474\u001b[0m\n",
      "\u001b[34mEpoch 737, change: 0.00012455\u001b[0m\n",
      "\u001b[34mEpoch 738, change: 0.00012437\u001b[0m\n",
      "\u001b[34mEpoch 739, change: 0.00012418\u001b[0m\n",
      "\u001b[34mEpoch 740, change: 0.00012400\u001b[0m\n",
      "\u001b[34mEpoch 741, change: 0.00012382\u001b[0m\n",
      "\u001b[34mEpoch 742, change: 0.00012364\u001b[0m\n",
      "\u001b[34mEpoch 743, change: 0.00012345\u001b[0m\n",
      "\u001b[34mEpoch 744, change: 0.00012327\u001b[0m\n",
      "\u001b[34mEpoch 745, change: 0.00012309\u001b[0m\n",
      "\u001b[34mEpoch 746, change: 0.00012291\u001b[0m\n",
      "\u001b[34mEpoch 747, change: 0.00012272\u001b[0m\n",
      "\u001b[34mEpoch 748, change: 0.00012254\u001b[0m\n",
      "\u001b[34mEpoch 749, change: 0.00012236\u001b[0m\n",
      "\u001b[34mEpoch 750, change: 0.00012219\u001b[0m\n",
      "\u001b[34mEpoch 751, change: 0.00012200\u001b[0m\n",
      "\u001b[34mEpoch 752, change: 0.00012183\u001b[0m\n",
      "\u001b[34mEpoch 753, change: 0.00012165\u001b[0m\n",
      "\u001b[34mEpoch 754, change: 0.00012147\u001b[0m\n",
      "\u001b[34mEpoch 755, change: 0.00012130\u001b[0m\n",
      "\u001b[34mEpoch 756, change: 0.00012112\u001b[0m\n",
      "\u001b[34mEpoch 757, change: 0.00012095\u001b[0m\n",
      "\u001b[34mEpoch 758, change: 0.00012077\u001b[0m\n",
      "\u001b[34mEpoch 759, change: 0.00012060\u001b[0m\n",
      "\u001b[34mEpoch 760, change: 0.00012042\u001b[0m\n",
      "\u001b[34mEpoch 761, change: 0.00012025\u001b[0m\n",
      "\u001b[34mEpoch 762, change: 0.00012007\u001b[0m\n",
      "\u001b[34mEpoch 763, change: 0.00011990\u001b[0m\n",
      "\u001b[34mEpoch 764, change: 0.00011973\u001b[0m\n",
      "\u001b[34mEpoch 765, change: 0.00011956\u001b[0m\n",
      "\u001b[34mEpoch 766, change: 0.00011939\u001b[0m\n",
      "\u001b[34mEpoch 767, change: 0.00011922\u001b[0m\n",
      "\u001b[34mEpoch 768, change: 0.00011905\u001b[0m\n",
      "\u001b[34mEpoch 769, change: 0.00011887\u001b[0m\n",
      "\u001b[34mEpoch 770, change: 0.00011871\u001b[0m\n",
      "\u001b[34mEpoch 771, change: 0.00011854\u001b[0m\n",
      "\u001b[34mEpoch 772, change: 0.00011837\u001b[0m\n",
      "\u001b[34mEpoch 773, change: 0.00011821\u001b[0m\n",
      "\u001b[34mEpoch 774, change: 0.00011804\u001b[0m\n",
      "\u001b[34mEpoch 775, change: 0.00011787\u001b[0m\n",
      "\u001b[34mEpoch 776, change: 0.00011770\u001b[0m\n",
      "\u001b[34mEpoch 777, change: 0.00011754\u001b[0m\n",
      "\u001b[34mEpoch 778, change: 0.00011738\u001b[0m\n",
      "\u001b[34mEpoch 779, change: 0.00011721\u001b[0m\n",
      "\u001b[34mEpoch 780, change: 0.00011704\u001b[0m\n",
      "\u001b[34mEpoch 781, change: 0.00011688\u001b[0m\n",
      "\u001b[34mEpoch 782, change: 0.00011672\u001b[0m\n",
      "\u001b[34mEpoch 783, change: 0.00011655\u001b[0m\n",
      "\u001b[34mEpoch 784, change: 0.00011639\u001b[0m\n",
      "\u001b[34mEpoch 785, change: 0.00011622\u001b[0m\n",
      "\u001b[34mEpoch 786, change: 0.00011606\u001b[0m\n",
      "\u001b[34mEpoch 787, change: 0.00011590\u001b[0m\n",
      "\u001b[34mEpoch 788, change: 0.00011573\u001b[0m\n",
      "\u001b[34mEpoch 789, change: 0.00011558\u001b[0m\n",
      "\u001b[34mEpoch 790, change: 0.00011541\u001b[0m\n",
      "\u001b[34mEpoch 791, change: 0.00011526\u001b[0m\n",
      "\u001b[34mEpoch 792, change: 0.00011510\u001b[0m\n",
      "\u001b[34mEpoch 793, change: 0.00011494\u001b[0m\n",
      "\u001b[34mEpoch 794, change: 0.00011478\u001b[0m\n",
      "\u001b[34mEpoch 795, change: 0.00011462\u001b[0m\n",
      "\u001b[34mEpoch 796, change: 0.00011446\u001b[0m\n",
      "\u001b[34mEpoch 797, change: 0.00011431\u001b[0m\n",
      "\u001b[34mEpoch 798, change: 0.00011415\u001b[0m\n",
      "\u001b[34mEpoch 799, change: 0.00011399\u001b[0m\n",
      "\u001b[34mEpoch 800, change: 0.00011384\u001b[0m\n",
      "\u001b[34mEpoch 801, change: 0.00011368\u001b[0m\n",
      "\u001b[34mEpoch 802, change: 0.00011353\u001b[0m\n",
      "\u001b[34mEpoch 803, change: 0.00011337\u001b[0m\n",
      "\u001b[34mEpoch 804, change: 0.00011322\u001b[0m\n",
      "\u001b[34mEpoch 805, change: 0.00011306\u001b[0m\n",
      "\u001b[34mEpoch 806, change: 0.00011290\u001b[0m\n",
      "\u001b[34mEpoch 807, change: 0.00011275\u001b[0m\n",
      "\u001b[34mEpoch 808, change: 0.00011260\u001b[0m\n",
      "\u001b[34mEpoch 809, change: 0.00011245\u001b[0m\n",
      "\u001b[34mEpoch 810, change: 0.00011230\u001b[0m\n",
      "\u001b[34mEpoch 811, change: 0.00011214\u001b[0m\n",
      "\u001b[34mEpoch 812, change: 0.00011199\u001b[0m\n",
      "\u001b[34mEpoch 813, change: 0.00011184\u001b[0m\n",
      "\u001b[34mEpoch 814, change: 0.00011169\u001b[0m\n",
      "\u001b[34mEpoch 815, change: 0.00011154\u001b[0m\n",
      "\u001b[34mEpoch 816, change: 0.00011139\u001b[0m\n",
      "\u001b[34mEpoch 817, change: 0.00011124\u001b[0m\n",
      "\u001b[34mEpoch 818, change: 0.00011109\u001b[0m\n",
      "\u001b[34mEpoch 819, change: 0.00011094\u001b[0m\n",
      "\u001b[34mEpoch 820, change: 0.00011080\u001b[0m\n",
      "\u001b[34mEpoch 821, change: 0.00011065\u001b[0m\n",
      "\u001b[34mEpoch 822, change: 0.00011050\u001b[0m\n",
      "\u001b[34mEpoch 823, change: 0.00011035\u001b[0m\n",
      "\u001b[34mEpoch 824, change: 0.00011021\u001b[0m\n",
      "\u001b[34mEpoch 825, change: 0.00011006\u001b[0m\n",
      "\u001b[34mEpoch 826, change: 0.00010991\u001b[0m\n",
      "\u001b[34mEpoch 827, change: 0.00010977\u001b[0m\n",
      "\u001b[34mEpoch 828, change: 0.00010962\u001b[0m\n",
      "\u001b[34mEpoch 829, change: 0.00010947\u001b[0m\n",
      "\u001b[34mEpoch 830, change: 0.00010933\u001b[0m\n",
      "\u001b[34mEpoch 831, change: 0.00010918\u001b[0m\n",
      "\u001b[34mEpoch 832, change: 0.00010905\u001b[0m\n",
      "\u001b[34mEpoch 833, change: 0.00010890\u001b[0m\n",
      "\u001b[34mEpoch 834, change: 0.00010876\u001b[0m\n",
      "\u001b[34mEpoch 835, change: 0.00010862\u001b[0m\n",
      "\u001b[34mEpoch 836, change: 0.00010847\u001b[0m\n",
      "\u001b[34mEpoch 837, change: 0.00010833\u001b[0m\n",
      "\u001b[34mEpoch 838, change: 0.00010819\u001b[0m\n",
      "\u001b[34mEpoch 839, change: 0.00010805\u001b[0m\n",
      "\u001b[34mEpoch 840, change: 0.00010791\u001b[0m\n",
      "\u001b[34mEpoch 841, change: 0.00010776\u001b[0m\n",
      "\u001b[34mEpoch 842, change: 0.00010763\u001b[0m\n",
      "\u001b[34mEpoch 843, change: 0.00010748\u001b[0m\n",
      "\u001b[34mEpoch 844, change: 0.00010735\u001b[0m\n",
      "\u001b[34mEpoch 845, change: 0.00010721\u001b[0m\n",
      "\u001b[34mEpoch 846, change: 0.00010707\u001b[0m\n",
      "\u001b[34mEpoch 847, change: 0.00010693\u001b[0m\n",
      "\u001b[34mEpoch 848, change: 0.00010679\u001b[0m\n",
      "\u001b[34mEpoch 849, change: 0.00010665\u001b[0m\n",
      "\u001b[34mEpoch 850, change: 0.00010651\u001b[0m\n",
      "\u001b[34mEpoch 851, change: 0.00010638\u001b[0m\n",
      "\u001b[34mEpoch 852, change: 0.00010624\u001b[0m\n",
      "\u001b[34mEpoch 853, change: 0.00010610\u001b[0m\n",
      "\u001b[34mEpoch 854, change: 0.00010597\u001b[0m\n",
      "\u001b[34mEpoch 855, change: 0.00010584\u001b[0m\n",
      "\u001b[34mEpoch 856, change: 0.00010570\u001b[0m\n",
      "\u001b[34mEpoch 857, change: 0.00010556\u001b[0m\n",
      "\u001b[34mEpoch 858, change: 0.00010542\u001b[0m\n",
      "\u001b[34mEpoch 859, change: 0.00010529\u001b[0m\n",
      "\u001b[34mEpoch 860, change: 0.00010516\u001b[0m\n",
      "\u001b[34mEpoch 861, change: 0.00010502\u001b[0m\n",
      "\u001b[34mEpoch 862, change: 0.00010489\u001b[0m\n",
      "\u001b[34mEpoch 863, change: 0.00010476\u001b[0m\n",
      "\u001b[34mEpoch 864, change: 0.00010462\u001b[0m\n",
      "\u001b[34mEpoch 865, change: 0.00010449\u001b[0m\n",
      "\u001b[34mEpoch 866, change: 0.00010436\u001b[0m\n",
      "\u001b[34mEpoch 867, change: 0.00010423\u001b[0m\n",
      "\u001b[34mEpoch 868, change: 0.00010410\u001b[0m\n",
      "\u001b[34mEpoch 869, change: 0.00010396\u001b[0m\n",
      "\u001b[34mEpoch 870, change: 0.00010383\u001b[0m\n",
      "\u001b[34mEpoch 871, change: 0.00010370\u001b[0m\n",
      "\u001b[34mEpoch 872, change: 0.00010357\u001b[0m\n",
      "\u001b[34mEpoch 873, change: 0.00010344\u001b[0m\n",
      "\u001b[34mEpoch 874, change: 0.00010332\u001b[0m\n",
      "\u001b[34mEpoch 875, change: 0.00010318\u001b[0m\n",
      "\u001b[34mEpoch 876, change: 0.00010306\u001b[0m\n",
      "\u001b[34mEpoch 877, change: 0.00010292\u001b[0m\n",
      "\u001b[34mEpoch 878, change: 0.00010280\u001b[0m\n",
      "\u001b[34mEpoch 879, change: 0.00010267\u001b[0m\n",
      "\u001b[34mEpoch 880, change: 0.00010254\u001b[0m\n",
      "\u001b[34mEpoch 881, change: 0.00010242\u001b[0m\n",
      "\u001b[34mEpoch 882, change: 0.00010229\u001b[0m\n",
      "\u001b[34mEpoch 883, change: 0.00010216\u001b[0m\n",
      "\u001b[34mEpoch 884, change: 0.00010203\u001b[0m\n",
      "\u001b[34mEpoch 885, change: 0.00010191\u001b[0m\n",
      "\u001b[34mEpoch 886, change: 0.00010178\u001b[0m\n",
      "\u001b[34mEpoch 887, change: 0.00010166\u001b[0m\n",
      "\u001b[34mEpoch 888, change: 0.00010153\u001b[0m\n",
      "\u001b[34mEpoch 889, change: 0.00010140\u001b[0m\n",
      "\u001b[34mEpoch 890, change: 0.00010128\u001b[0m\n",
      "\u001b[34mEpoch 891, change: 0.00010115\u001b[0m\n",
      "\u001b[34mEpoch 892, change: 0.00010103\u001b[0m\n",
      "\u001b[34mEpoch 893, change: 0.00010090\u001b[0m\n",
      "\u001b[34mEpoch 894, change: 0.00010078\u001b[0m\n",
      "\u001b[34mEpoch 895, change: 0.00010066\u001b[0m\n",
      "\u001b[34mEpoch 896, change: 0.00010054\u001b[0m\n",
      "\u001b[34mEpoch 897, change: 0.00010041\u001b[0m\n",
      "\u001b[34mEpoch 898, change: 0.00010029\u001b[0m\n",
      "\u001b[34mEpoch 899, change: 0.00010017\u001b[0m\n",
      "\u001b[34mEpoch 900, change: 0.00010005\u001b[0m\n",
      "\u001b[34mconvergence after 901 epochs took 19 seconds\u001b[0m\n",
      "\u001b[34m[Parallel(n_jobs=1)]: Done   1 out of   1 | elapsed:   18.2s finished\u001b[0m\n",
      "\u001b[34mINFO:root:Saving model...\u001b[0m\n",
      "\u001b[34m2023-03-29 04:23:31,244 sagemaker-containers INFO     Reporting training SUCCESS\u001b[0m\n",
      "\n",
      "2023-03-29 04:23:47 Uploading - Uploading generated training model\n",
      "2023-03-29 04:23:47 Completed - Training job completed\n",
      "Training seconds: 86\n",
      "Billable seconds: 86\n"
     ]
    }
   ],
   "source": [
    "from sagemaker.estimator import Estimator\n",
    "from sagemaker.utils import name_from_base\n",
    "\n",
    "\n",
    "training_job_name = name_from_base(f\"logistic-regression-example-{train_model_id}-training\")\n",
    "\n",
    "# Create SageMaker Estimator instance\n",
    "tabular_estimator_logit = Estimator(\n",
    "    role=aws_role,\n",
    "    image_uri=train_image_uri,\n",
    "    source_dir=train_source_uri,\n",
    "    model_uri=train_model_uri,\n",
    "    entry_point=\"transfer_learning.py\",\n",
    "    instance_count=1,\n",
    "    instance_type=training_instance_type,\n",
    "    max_run=360000,\n",
    "    hyperparameters=hyperparameters,\n",
    "    output_path=s3_output_location,\n",
    ")\n",
    "\n",
    "# Launch a SageMaker Training job by passing s3 path of the training data\n",
    "tabular_estimator_logit.fit({\"training\": training_dataset_s3_path}, logs=True, job_name=training_job_name)"
   ]
  },
  {
   "cell_type": "markdown",
   "id": "8fdd0016-9ddc-4c27-bc0d-400a48724bce",
   "metadata": {
    "tags": []
   },
   "source": [
    "## Logistic Regression Out-of-Sample Testing"
   ]
  },
  {
   "cell_type": "code",
   "execution_count": 108,
   "id": "8cb88324-3e20-4bf8-8578-56b6ea06c368",
   "metadata": {
    "tags": []
   },
   "outputs": [
    {
     "data": {
      "text/plain": [
       "'s3://starbucks-project-ttg/logistic_regression_training_results/output'"
      ]
     },
     "execution_count": 108,
     "metadata": {},
     "output_type": "execute_result"
    }
   ],
   "source": [
    "s3_output_location"
   ]
  },
  {
   "cell_type": "code",
   "execution_count": 109,
   "id": "a44ded71-3a77-4134-95fc-9896a9d5d234",
   "metadata": {
    "tags": []
   },
   "outputs": [
    {
     "name": "stdout",
     "output_type": "stream",
     "text": [
      "download: s3://starbucks-project-ttg/logistic_regression_training_results/output/logistic-regression-example-sklearn-cla-2023-03-29-04-21-16-204/output/model.tar.gz to ../trained_models/logistic_regression/model.tar.gz\n"
     ]
    }
   ],
   "source": [
    "! aws s3 cp s3://starbucks-project-ttg/logistic_regression_training_results/output/logistic-regression-example-sklearn-cla-2023-03-29-04-21-16-204/output/model.tar.gz /root/starbucks_offer_response_model/trained_models/logistic_regression"
   ]
  },
  {
   "cell_type": "code",
   "execution_count": 110,
   "id": "a54f49bd-76ae-4522-8fdc-f5e7d01464a3",
   "metadata": {
    "tags": []
   },
   "outputs": [],
   "source": [
    "tar_file_path = '/root/'+'starbucks_offer_response_model/trained_models/logistic_regression/model.tar.gz'"
   ]
  },
  {
   "cell_type": "code",
   "execution_count": 111,
   "id": "42e7756c-c3ec-4242-82d4-ef8521bf5bfe",
   "metadata": {
    "tags": []
   },
   "outputs": [],
   "source": [
    "t = tarfile.open(tar_file_path)"
   ]
  },
  {
   "cell_type": "code",
   "execution_count": 112,
   "id": "cafbdb0a-b4bd-4e5f-8c97-479aa00023ce",
   "metadata": {
    "tags": []
   },
   "outputs": [],
   "source": [
    "t.extractall('/root/'+'starbucks_offer_response_model/trained_models/logistic_regression/')"
   ]
  },
  {
   "cell_type": "code",
   "execution_count": 113,
   "id": "668bc45b-b570-4dd3-94ef-e5d185e99e09",
   "metadata": {
    "tags": []
   },
   "outputs": [
    {
     "name": "stderr",
     "output_type": "stream",
     "text": [
      "/opt/conda/lib/python3.7/site-packages/sklearn/base.py:318: UserWarning: Trying to unpickle estimator LogisticRegression from version 0.23.2 when using version 0.22.1. This might lead to breaking code or invalid results. Use at your own risk.\n",
      "  UserWarning)\n"
     ]
    }
   ],
   "source": [
    "model = joblib.load('/root/starbucks_offer_response_model/trained_models/logistic_regression/model.pickle.dat')"
   ]
  },
  {
   "cell_type": "code",
   "execution_count": 114,
   "id": "86bfbae5-05f7-4ede-9b3e-b3e91affff93",
   "metadata": {
    "tags": []
   },
   "outputs": [],
   "source": [
    "col_num = len(pd.read_csv('/root/starbucks_offer_response_model/data/curated_data/test.csv', header = None).columns)"
   ]
  },
  {
   "cell_type": "code",
   "execution_count": 115,
   "id": "e638b33d-bf60-487b-a72a-250af06589fa",
   "metadata": {
    "tags": []
   },
   "outputs": [],
   "source": [
    "col_list = ['offer_successful']\n",
    "for i in range(col_num-1):\n",
    "    col_list.append(f'feature_{i}')"
   ]
  },
  {
   "cell_type": "code",
   "execution_count": 116,
   "id": "9346451e-0bac-4698-ad01-9ae9ac308ac6",
   "metadata": {
    "tags": []
   },
   "outputs": [],
   "source": [
    "test_df = pd.read_csv('/root/starbucks_offer_response_model/data/curated_data/test.csv', header = None)\n",
    "test_df.columns = col_list"
   ]
  },
  {
   "cell_type": "code",
   "execution_count": 117,
   "id": "fa54da68-58c3-4360-b9c8-5c995616faa0",
   "metadata": {
    "tags": []
   },
   "outputs": [],
   "source": [
    "test_x_df = test_df.iloc[:,1:]"
   ]
  },
  {
   "cell_type": "code",
   "execution_count": 118,
   "id": "35c6f49f-dea5-46e9-aa66-d18fc28ca58b",
   "metadata": {
    "tags": []
   },
   "outputs": [
    {
     "data": {
      "text/plain": [
       "array([0, 0, 0, ..., 1, 0, 0])"
      ]
     },
     "execution_count": 118,
     "metadata": {},
     "output_type": "execute_result"
    }
   ],
   "source": [
    "y_actual = test_df['offer_successful'].to_numpy()\n",
    "y_actual"
   ]
  },
  {
   "cell_type": "code",
   "execution_count": 131,
   "id": "4eb3ae6c-f534-4ec5-829f-4e371e209e36",
   "metadata": {
    "tags": []
   },
   "outputs": [],
   "source": [
    "y_pred = model.predict(test_x_df)"
   ]
  },
  {
   "cell_type": "code",
   "execution_count": 128,
   "id": "5f9c1844-2ed8-4fc5-b2fb-4637c8a5c343",
   "metadata": {
    "tags": []
   },
   "outputs": [
    {
     "data": {
      "text/plain": [
       "array([[6.70005226e-01, 9.99945521e-01, 4.93195148e-01, ...,\n",
       "        3.01670257e-01, 7.28776147e-01, 8.41085625e-01],\n",
       "       [3.29994774e-01, 5.44787257e-05, 5.06804852e-01, ...,\n",
       "        6.98329743e-01, 2.71223853e-01, 1.58914375e-01]])"
      ]
     },
     "execution_count": 128,
     "metadata": {},
     "output_type": "execute_result"
    }
   ],
   "source": [
    "y_pred.transpose()"
   ]
  },
  {
   "cell_type": "code",
   "execution_count": 132,
   "id": "5aea692b-e7ae-49bf-816d-348ce74cb365",
   "metadata": {
    "tags": []
   },
   "outputs": [
    {
     "data": {
      "text/plain": [
       "0.7594030452757891"
      ]
     },
     "execution_count": 132,
     "metadata": {},
     "output_type": "execute_result"
    }
   ],
   "source": [
    "accuracy_score(y_actual, y_pred)"
   ]
  },
  {
   "cell_type": "code",
   "execution_count": 137,
   "id": "95eecc11-282e-42cf-a2d9-2cb2a122d25d",
   "metadata": {},
   "outputs": [
    {
     "data": {
      "text/plain": [
       "0.8218095959862435"
      ]
     },
     "execution_count": 137,
     "metadata": {},
     "output_type": "execute_result"
    }
   ],
   "source": [
    "roc_auc_score(y_actual,model.predict_proba(test_x_df).transpose()[1])"
   ]
  },
  {
   "cell_type": "code",
   "execution_count": 138,
   "id": "ddf61511-ee7f-4fd6-a27c-2b0091596deb",
   "metadata": {
    "tags": []
   },
   "outputs": [
    {
     "data": {
      "text/plain": [
       "0.5588017751479291"
      ]
     },
     "execution_count": 138,
     "metadata": {},
     "output_type": "execute_result"
    }
   ],
   "source": [
    "f1_score(y_actual,y_pred)"
   ]
  },
  {
   "cell_type": "code",
   "execution_count": null,
   "id": "92c8de8d-84d4-49c3-9865-5f5821829131",
   "metadata": {},
   "outputs": [],
   "source": []
  }
 ],
 "metadata": {
  "availableInstances": [
   {
    "_defaultOrder": 0,
    "_isFastLaunch": true,
    "category": "General purpose",
    "gpuNum": 0,
    "hideHardwareSpecs": false,
    "memoryGiB": 4,
    "name": "ml.t3.medium",
    "vcpuNum": 2
   },
   {
    "_defaultOrder": 1,
    "_isFastLaunch": false,
    "category": "General purpose",
    "gpuNum": 0,
    "hideHardwareSpecs": false,
    "memoryGiB": 8,
    "name": "ml.t3.large",
    "vcpuNum": 2
   },
   {
    "_defaultOrder": 2,
    "_isFastLaunch": false,
    "category": "General purpose",
    "gpuNum": 0,
    "hideHardwareSpecs": false,
    "memoryGiB": 16,
    "name": "ml.t3.xlarge",
    "vcpuNum": 4
   },
   {
    "_defaultOrder": 3,
    "_isFastLaunch": false,
    "category": "General purpose",
    "gpuNum": 0,
    "hideHardwareSpecs": false,
    "memoryGiB": 32,
    "name": "ml.t3.2xlarge",
    "vcpuNum": 8
   },
   {
    "_defaultOrder": 4,
    "_isFastLaunch": true,
    "category": "General purpose",
    "gpuNum": 0,
    "hideHardwareSpecs": false,
    "memoryGiB": 8,
    "name": "ml.m5.large",
    "vcpuNum": 2
   },
   {
    "_defaultOrder": 5,
    "_isFastLaunch": false,
    "category": "General purpose",
    "gpuNum": 0,
    "hideHardwareSpecs": false,
    "memoryGiB": 16,
    "name": "ml.m5.xlarge",
    "vcpuNum": 4
   },
   {
    "_defaultOrder": 6,
    "_isFastLaunch": false,
    "category": "General purpose",
    "gpuNum": 0,
    "hideHardwareSpecs": false,
    "memoryGiB": 32,
    "name": "ml.m5.2xlarge",
    "vcpuNum": 8
   },
   {
    "_defaultOrder": 7,
    "_isFastLaunch": false,
    "category": "General purpose",
    "gpuNum": 0,
    "hideHardwareSpecs": false,
    "memoryGiB": 64,
    "name": "ml.m5.4xlarge",
    "vcpuNum": 16
   },
   {
    "_defaultOrder": 8,
    "_isFastLaunch": false,
    "category": "General purpose",
    "gpuNum": 0,
    "hideHardwareSpecs": false,
    "memoryGiB": 128,
    "name": "ml.m5.8xlarge",
    "vcpuNum": 32
   },
   {
    "_defaultOrder": 9,
    "_isFastLaunch": false,
    "category": "General purpose",
    "gpuNum": 0,
    "hideHardwareSpecs": false,
    "memoryGiB": 192,
    "name": "ml.m5.12xlarge",
    "vcpuNum": 48
   },
   {
    "_defaultOrder": 10,
    "_isFastLaunch": false,
    "category": "General purpose",
    "gpuNum": 0,
    "hideHardwareSpecs": false,
    "memoryGiB": 256,
    "name": "ml.m5.16xlarge",
    "vcpuNum": 64
   },
   {
    "_defaultOrder": 11,
    "_isFastLaunch": false,
    "category": "General purpose",
    "gpuNum": 0,
    "hideHardwareSpecs": false,
    "memoryGiB": 384,
    "name": "ml.m5.24xlarge",
    "vcpuNum": 96
   },
   {
    "_defaultOrder": 12,
    "_isFastLaunch": false,
    "category": "General purpose",
    "gpuNum": 0,
    "hideHardwareSpecs": false,
    "memoryGiB": 8,
    "name": "ml.m5d.large",
    "vcpuNum": 2
   },
   {
    "_defaultOrder": 13,
    "_isFastLaunch": false,
    "category": "General purpose",
    "gpuNum": 0,
    "hideHardwareSpecs": false,
    "memoryGiB": 16,
    "name": "ml.m5d.xlarge",
    "vcpuNum": 4
   },
   {
    "_defaultOrder": 14,
    "_isFastLaunch": false,
    "category": "General purpose",
    "gpuNum": 0,
    "hideHardwareSpecs": false,
    "memoryGiB": 32,
    "name": "ml.m5d.2xlarge",
    "vcpuNum": 8
   },
   {
    "_defaultOrder": 15,
    "_isFastLaunch": false,
    "category": "General purpose",
    "gpuNum": 0,
    "hideHardwareSpecs": false,
    "memoryGiB": 64,
    "name": "ml.m5d.4xlarge",
    "vcpuNum": 16
   },
   {
    "_defaultOrder": 16,
    "_isFastLaunch": false,
    "category": "General purpose",
    "gpuNum": 0,
    "hideHardwareSpecs": false,
    "memoryGiB": 128,
    "name": "ml.m5d.8xlarge",
    "vcpuNum": 32
   },
   {
    "_defaultOrder": 17,
    "_isFastLaunch": false,
    "category": "General purpose",
    "gpuNum": 0,
    "hideHardwareSpecs": false,
    "memoryGiB": 192,
    "name": "ml.m5d.12xlarge",
    "vcpuNum": 48
   },
   {
    "_defaultOrder": 18,
    "_isFastLaunch": false,
    "category": "General purpose",
    "gpuNum": 0,
    "hideHardwareSpecs": false,
    "memoryGiB": 256,
    "name": "ml.m5d.16xlarge",
    "vcpuNum": 64
   },
   {
    "_defaultOrder": 19,
    "_isFastLaunch": false,
    "category": "General purpose",
    "gpuNum": 0,
    "hideHardwareSpecs": false,
    "memoryGiB": 384,
    "name": "ml.m5d.24xlarge",
    "vcpuNum": 96
   },
   {
    "_defaultOrder": 20,
    "_isFastLaunch": false,
    "category": "General purpose",
    "gpuNum": 0,
    "hideHardwareSpecs": true,
    "memoryGiB": 0,
    "name": "ml.geospatial.interactive",
    "supportedImageNames": [
     "sagemaker-geospatial-v1-0"
    ],
    "vcpuNum": 0
   },
   {
    "_defaultOrder": 21,
    "_isFastLaunch": true,
    "category": "Compute optimized",
    "gpuNum": 0,
    "hideHardwareSpecs": false,
    "memoryGiB": 4,
    "name": "ml.c5.large",
    "vcpuNum": 2
   },
   {
    "_defaultOrder": 22,
    "_isFastLaunch": false,
    "category": "Compute optimized",
    "gpuNum": 0,
    "hideHardwareSpecs": false,
    "memoryGiB": 8,
    "name": "ml.c5.xlarge",
    "vcpuNum": 4
   },
   {
    "_defaultOrder": 23,
    "_isFastLaunch": false,
    "category": "Compute optimized",
    "gpuNum": 0,
    "hideHardwareSpecs": false,
    "memoryGiB": 16,
    "name": "ml.c5.2xlarge",
    "vcpuNum": 8
   },
   {
    "_defaultOrder": 24,
    "_isFastLaunch": false,
    "category": "Compute optimized",
    "gpuNum": 0,
    "hideHardwareSpecs": false,
    "memoryGiB": 32,
    "name": "ml.c5.4xlarge",
    "vcpuNum": 16
   },
   {
    "_defaultOrder": 25,
    "_isFastLaunch": false,
    "category": "Compute optimized",
    "gpuNum": 0,
    "hideHardwareSpecs": false,
    "memoryGiB": 72,
    "name": "ml.c5.9xlarge",
    "vcpuNum": 36
   },
   {
    "_defaultOrder": 26,
    "_isFastLaunch": false,
    "category": "Compute optimized",
    "gpuNum": 0,
    "hideHardwareSpecs": false,
    "memoryGiB": 96,
    "name": "ml.c5.12xlarge",
    "vcpuNum": 48
   },
   {
    "_defaultOrder": 27,
    "_isFastLaunch": false,
    "category": "Compute optimized",
    "gpuNum": 0,
    "hideHardwareSpecs": false,
    "memoryGiB": 144,
    "name": "ml.c5.18xlarge",
    "vcpuNum": 72
   },
   {
    "_defaultOrder": 28,
    "_isFastLaunch": false,
    "category": "Compute optimized",
    "gpuNum": 0,
    "hideHardwareSpecs": false,
    "memoryGiB": 192,
    "name": "ml.c5.24xlarge",
    "vcpuNum": 96
   },
   {
    "_defaultOrder": 29,
    "_isFastLaunch": true,
    "category": "Accelerated computing",
    "gpuNum": 1,
    "hideHardwareSpecs": false,
    "memoryGiB": 16,
    "name": "ml.g4dn.xlarge",
    "vcpuNum": 4
   },
   {
    "_defaultOrder": 30,
    "_isFastLaunch": false,
    "category": "Accelerated computing",
    "gpuNum": 1,
    "hideHardwareSpecs": false,
    "memoryGiB": 32,
    "name": "ml.g4dn.2xlarge",
    "vcpuNum": 8
   },
   {
    "_defaultOrder": 31,
    "_isFastLaunch": false,
    "category": "Accelerated computing",
    "gpuNum": 1,
    "hideHardwareSpecs": false,
    "memoryGiB": 64,
    "name": "ml.g4dn.4xlarge",
    "vcpuNum": 16
   },
   {
    "_defaultOrder": 32,
    "_isFastLaunch": false,
    "category": "Accelerated computing",
    "gpuNum": 1,
    "hideHardwareSpecs": false,
    "memoryGiB": 128,
    "name": "ml.g4dn.8xlarge",
    "vcpuNum": 32
   },
   {
    "_defaultOrder": 33,
    "_isFastLaunch": false,
    "category": "Accelerated computing",
    "gpuNum": 4,
    "hideHardwareSpecs": false,
    "memoryGiB": 192,
    "name": "ml.g4dn.12xlarge",
    "vcpuNum": 48
   },
   {
    "_defaultOrder": 34,
    "_isFastLaunch": false,
    "category": "Accelerated computing",
    "gpuNum": 1,
    "hideHardwareSpecs": false,
    "memoryGiB": 256,
    "name": "ml.g4dn.16xlarge",
    "vcpuNum": 64
   },
   {
    "_defaultOrder": 35,
    "_isFastLaunch": false,
    "category": "Accelerated computing",
    "gpuNum": 1,
    "hideHardwareSpecs": false,
    "memoryGiB": 61,
    "name": "ml.p3.2xlarge",
    "vcpuNum": 8
   },
   {
    "_defaultOrder": 36,
    "_isFastLaunch": false,
    "category": "Accelerated computing",
    "gpuNum": 4,
    "hideHardwareSpecs": false,
    "memoryGiB": 244,
    "name": "ml.p3.8xlarge",
    "vcpuNum": 32
   },
   {
    "_defaultOrder": 37,
    "_isFastLaunch": false,
    "category": "Accelerated computing",
    "gpuNum": 8,
    "hideHardwareSpecs": false,
    "memoryGiB": 488,
    "name": "ml.p3.16xlarge",
    "vcpuNum": 64
   },
   {
    "_defaultOrder": 38,
    "_isFastLaunch": false,
    "category": "Accelerated computing",
    "gpuNum": 8,
    "hideHardwareSpecs": false,
    "memoryGiB": 768,
    "name": "ml.p3dn.24xlarge",
    "vcpuNum": 96
   },
   {
    "_defaultOrder": 39,
    "_isFastLaunch": false,
    "category": "Memory Optimized",
    "gpuNum": 0,
    "hideHardwareSpecs": false,
    "memoryGiB": 16,
    "name": "ml.r5.large",
    "vcpuNum": 2
   },
   {
    "_defaultOrder": 40,
    "_isFastLaunch": false,
    "category": "Memory Optimized",
    "gpuNum": 0,
    "hideHardwareSpecs": false,
    "memoryGiB": 32,
    "name": "ml.r5.xlarge",
    "vcpuNum": 4
   },
   {
    "_defaultOrder": 41,
    "_isFastLaunch": false,
    "category": "Memory Optimized",
    "gpuNum": 0,
    "hideHardwareSpecs": false,
    "memoryGiB": 64,
    "name": "ml.r5.2xlarge",
    "vcpuNum": 8
   },
   {
    "_defaultOrder": 42,
    "_isFastLaunch": false,
    "category": "Memory Optimized",
    "gpuNum": 0,
    "hideHardwareSpecs": false,
    "memoryGiB": 128,
    "name": "ml.r5.4xlarge",
    "vcpuNum": 16
   },
   {
    "_defaultOrder": 43,
    "_isFastLaunch": false,
    "category": "Memory Optimized",
    "gpuNum": 0,
    "hideHardwareSpecs": false,
    "memoryGiB": 256,
    "name": "ml.r5.8xlarge",
    "vcpuNum": 32
   },
   {
    "_defaultOrder": 44,
    "_isFastLaunch": false,
    "category": "Memory Optimized",
    "gpuNum": 0,
    "hideHardwareSpecs": false,
    "memoryGiB": 384,
    "name": "ml.r5.12xlarge",
    "vcpuNum": 48
   },
   {
    "_defaultOrder": 45,
    "_isFastLaunch": false,
    "category": "Memory Optimized",
    "gpuNum": 0,
    "hideHardwareSpecs": false,
    "memoryGiB": 512,
    "name": "ml.r5.16xlarge",
    "vcpuNum": 64
   },
   {
    "_defaultOrder": 46,
    "_isFastLaunch": false,
    "category": "Memory Optimized",
    "gpuNum": 0,
    "hideHardwareSpecs": false,
    "memoryGiB": 768,
    "name": "ml.r5.24xlarge",
    "vcpuNum": 96
   },
   {
    "_defaultOrder": 47,
    "_isFastLaunch": false,
    "category": "Accelerated computing",
    "gpuNum": 1,
    "hideHardwareSpecs": false,
    "memoryGiB": 16,
    "name": "ml.g5.xlarge",
    "vcpuNum": 4
   },
   {
    "_defaultOrder": 48,
    "_isFastLaunch": false,
    "category": "Accelerated computing",
    "gpuNum": 1,
    "hideHardwareSpecs": false,
    "memoryGiB": 32,
    "name": "ml.g5.2xlarge",
    "vcpuNum": 8
   },
   {
    "_defaultOrder": 49,
    "_isFastLaunch": false,
    "category": "Accelerated computing",
    "gpuNum": 1,
    "hideHardwareSpecs": false,
    "memoryGiB": 64,
    "name": "ml.g5.4xlarge",
    "vcpuNum": 16
   },
   {
    "_defaultOrder": 50,
    "_isFastLaunch": false,
    "category": "Accelerated computing",
    "gpuNum": 1,
    "hideHardwareSpecs": false,
    "memoryGiB": 128,
    "name": "ml.g5.8xlarge",
    "vcpuNum": 32
   },
   {
    "_defaultOrder": 51,
    "_isFastLaunch": false,
    "category": "Accelerated computing",
    "gpuNum": 1,
    "hideHardwareSpecs": false,
    "memoryGiB": 256,
    "name": "ml.g5.16xlarge",
    "vcpuNum": 64
   },
   {
    "_defaultOrder": 52,
    "_isFastLaunch": false,
    "category": "Accelerated computing",
    "gpuNum": 4,
    "hideHardwareSpecs": false,
    "memoryGiB": 192,
    "name": "ml.g5.12xlarge",
    "vcpuNum": 48
   },
   {
    "_defaultOrder": 53,
    "_isFastLaunch": false,
    "category": "Accelerated computing",
    "gpuNum": 4,
    "hideHardwareSpecs": false,
    "memoryGiB": 384,
    "name": "ml.g5.24xlarge",
    "vcpuNum": 96
   },
   {
    "_defaultOrder": 54,
    "_isFastLaunch": false,
    "category": "Accelerated computing",
    "gpuNum": 8,
    "hideHardwareSpecs": false,
    "memoryGiB": 768,
    "name": "ml.g5.48xlarge",
    "vcpuNum": 192
   }
  ],
  "instance_type": "ml.t3.medium",
  "kernelspec": {
   "display_name": "Python 3 (Data Science)",
   "language": "python",
   "name": "python3__SAGEMAKER_INTERNAL__arn:aws:sagemaker:us-east-1:081325390199:image/datascience-1.0"
  },
  "language_info": {
   "codemirror_mode": {
    "name": "ipython",
    "version": 3
   },
   "file_extension": ".py",
   "mimetype": "text/x-python",
   "name": "python",
   "nbconvert_exporter": "python",
   "pygments_lexer": "ipython3",
   "version": "3.7.10"
  }
 },
 "nbformat": 4,
 "nbformat_minor": 5
}
